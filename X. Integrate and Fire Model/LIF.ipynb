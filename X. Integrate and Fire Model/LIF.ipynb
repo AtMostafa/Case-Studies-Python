{
 "cells": [
  {
   "cell_type": "markdown",
   "metadata": {},
   "source": [
    "# The integrate and fire neuron\n",
    "\n",
    "In this module we will use Python to simulate the integrate and fire (I&F) neuron model.  We'll investigate, in particular, how the spiking activity varies as we adjust the input current $I$."
   ]
  },
  {
   "cell_type": "markdown",
   "metadata": {},
   "source": [
    "# Background information about the I&F model"
   ]
  },
  {
   "cell_type": "markdown",
   "metadata": {},
   "source": [
    "Here's a video that describes a slightly more complicated model, the *leaky* integrate and fire model."
   ]
  },
  {
   "cell_type": "code",
   "execution_count": 2,
   "metadata": {},
   "outputs": [
    {
     "data": {
      "text/html": [
       "\n",
       "        <iframe\n",
       "            width=\"400\"\n",
       "            height=\"300\"\n",
       "            src=\"https://player.vimeo.com/video/140084447\"\n",
       "            frameborder=\"0\"\n",
       "            allowfullscreen\n",
       "        ></iframe>\n",
       "        "
      ],
      "text/plain": [
       "<IPython.lib.display.VimeoVideo at 0x10e632c50>"
      ]
     },
     "execution_count": 2,
     "metadata": {},
     "output_type": "execute_result"
    }
   ],
   "source": [
    "from IPython.lib.display import VimeoVideo\n",
    "VimeoVideo('140084447')"
   ]
  },
  {
   "cell_type": "markdown",
   "metadata": {},
   "source": [
    "Here's some additional intereting videos and references:\n",
    "\n",
    "- [Lecture by Prof. Gerstner](http://klewel.com/conferences/epfl-neural-networks/index.php?talkID=1)"
   ]
  },
  {
   "cell_type": "markdown",
   "metadata": {},
   "source": [
    "##  Preliminaries\n",
    "Text preceded by a `#` indicates a 'comment'.  This text should appear greenish on the screen.  I will use comments to explain what we're doing and to ask you questions.  Also, comments are useful in your own code to note what you've done (so it makes sense when you return to the code in the future).  It's a good habit to *always* comment your code.  I'll try to set a good example, but won't always . . . \n",
    "\n",
    "Before beginning, let's load in the Python packages we'll need:"
   ]
  },
  {
   "cell_type": "code",
   "execution_count": 1,
   "metadata": {},
   "outputs": [],
   "source": [
    "import numpy as np\n",
    "%matplotlib inline\n",
    "import matplotlib.pyplot as plt"
   ]
  },
  {
   "cell_type": "markdown",
   "metadata": {},
   "source": [
    "##  Part 1:  Numerical solutions - Introduction\n",
    "\n",
    " \n",
    "How do we compute a numerical solution to the integrate and fire model?\n",
    "  The basic idea is to rearrange the differential equation to get $V(t+1)$ on\n",
    "  the left hand side, and $V(t)$ on the right hand side.  Then, if we know\n",
    "  what's happening at time $t$, we can solve for what's happening at time $t+1$.\n",
    "\n",
    "For example, consider the differential equation:\n",
    "\n",
    "  $$\\dfrac{dV}{dt} = \\dfrac{I}{C}$$\n",
    "\n",
    "  In words, we can think of:\n",
    "\n",
    "  $dV$ as the \"change in voltage V\",\n",
    "\n",
    "  $dt$ as the \"change in time t\".\n",
    "\n",
    "  Let's consider the case that we record $V$ in discrete time steps. So\n",
    "  we observe:\n",
    "\n",
    "  $V[0], V[1], V[2], \\ldots$\n",
    "\n",
    "  at times:\n",
    "\n",
    "  $dt, \\, 2*dt, \\, 3*dt, \\ldots$\n",
    "\n",
    "  where $dt$ is the time between our samples of $V$.\n",
    "\n",
    "  We can now write the \"change in voltage V\" as:\n",
    "\n",
    "  $$dV = V(t+1) - V(t)$$\n",
    "\n",
    "  Notice that the change in voltage is the difference in V between two\n",
    "  time samples.  Now, let's rewrite $\\dfrac{dV}{dt}$ as,\n",
    "\n",
    "  $$\\dfrac{dV}{dt} = \\dfrac{ V(t+1) - V(t) }{ dt } $$\n",
    "\n",
    "  where we've replaced $dV$.  Now, let's substitute this expression into the equation at the top of this file:\n",
    "\n",
    "  $$\\dfrac{ V(t+1) - V(t) }{ dt } = \\dfrac{I}{C}.  $$\n",
    "\n",
    "  Solving this equation for $V(t+1)$ you'll find  that:\n",
    "\n",
    "  $$V(t+1) = V(t) + dt*(I/C)$$\n",
    "\n",
    "  Now, let's program this equation in Python.  First, let's set the values\n",
    "  for the parameters $I$ and $C$.\n"
   ]
  },
  {
   "cell_type": "code",
   "execution_count": null,
   "metadata": {},
   "outputs": [],
   "source": [
    "C=1.0\n",
    "I=1.0"
   ]
  },
  {
   "cell_type": "markdown",
   "metadata": {},
   "source": [
    "  We also need to set the value for $dt$.  This defines the time step in the\n",
    "  problem.  We must choose it small enough so that we don't miss anything\n",
    "  interesting.  We'll choose:\n"
   ]
  },
  {
   "cell_type": "code",
   "execution_count": 2,
   "metadata": {},
   "outputs": [],
   "source": [
    "dt=0.01"
   ]
  },
  {
   "cell_type": "markdown",
   "metadata": {},
   "source": [
    "Let's assume the units of time are seconds.  So, we step forward in time by $0.01$ s.\n",
    "\n",
    "The right hand side of our equation is nearly defined, but we're still missing one thing, $V(t)$."
   ]
  },
  {
   "cell_type": "markdown",
   "metadata": {},
   "source": [
    "<div class=\"alert alert-block alert-info\">\n",
    "**Q:**  What value do we assign to $V(t)$?<br><br>\n",
    "\n",
    "**A:**  We don't know --- that's why we're running the simulation in the first place!\n",
    "</div>"
   ]
  },
  {
   "cell_type": "markdown",
   "metadata": {},
   "source": [
    "So here's an easier question:  what *initial* value do we assign to $V(t)$?\n",
    " \n",
    " To start, we'll create an array of zeros to hold our results for $V$:"
   ]
  },
  {
   "cell_type": "code",
   "execution_count": 3,
   "metadata": {},
   "outputs": [
    {
     "data": {
      "text/plain": [
       "(1000, 1)"
      ]
     },
     "execution_count": 3,
     "metadata": {},
     "output_type": "execute_result"
    }
   ],
   "source": [
    "V = np.zeros([1000,1])\n",
    "V.shape"
   ]
  },
  {
   "cell_type": "markdown",
   "metadata": {},
   "source": [
    "This array `V` consists of 1000 rows and 1 column. We can think of each row entry as corresponding to a discrete step in time. Our goal is to fill-in the values of `V` (i.e., step forward in time), in a way consistent with our model.\n",
    "\n",
    "Let's choose an initial value for `V` of 0.2, which in our simple model we'll assume represents the rest state."
   ]
  },
  {
   "cell_type": "code",
   "execution_count": 4,
   "metadata": {},
   "outputs": [],
   "source": [
    "V[0]=0.2"
   ]
  },
  {
   "cell_type": "markdown",
   "metadata": {},
   "source": [
    "<div class=\"alert alert-block alert-info\">\n",
    "\n",
    "**Q:**  Given the initial state `V[0]=0.2`, calculate `V[1]`.  Then calcualte `V[3]`.\n",
    "\n",
    "</div>"
   ]
  },
  {
   "cell_type": "markdown",
   "metadata": {},
   "source": [
    "  After the two calculations above, we've moved forward two time steps into\n",
    "  the future, from $t=0$ s to $t=0.01$ s, and then from $t=0.01$ s to $t=0.02$ s.  But what\n",
    "  if we want to know $V$ at $t=10$s?  Then, this iteration-by-hand procedure becomes\n",
    "  much too boring and error-prone.  So, what do we do?  Make the\n",
    "  computer do it ...\n"
   ]
  },
  {
   "cell_type": "markdown",
   "metadata": {},
   "source": [
    "## Part 2:  Numerical solutions - implementation\n",
    "\n",
    "Let's computerize this iteration-by-hand procedure to find `V[999]`. To do so, we'll use a [for-loop](https://wiki.python.org/moin/ForLoop).  Here's what it looks like:"
   ]
  },
  {
   "cell_type": "code",
   "execution_count": null,
   "metadata": {},
   "outputs": [],
   "source": [
    "for k in range(1,999):\n",
    "    V[k+1] = V[k] + dt*(I/C)"
   ]
  },
  {
   "cell_type": "markdown",
   "metadata": {},
   "source": [
    "<div class=\"alert alert-block alert-info\">\n",
    "**Q:**  Does this loop make sense?  Describe what's happening here.\n",
    "</div>"
   ]
  },
  {
   "cell_type": "markdown",
   "metadata": {},
   "source": [
    "<div class=\"alert alert-block alert-info\">\n",
    "**Q:**  Why does the `range` command end at `999`?\n",
    "</div>"
   ]
  },
  {
   "cell_type": "markdown",
   "metadata": {},
   "source": [
    "Execute this for-loop and examine the results in vector `V`.  To do so, let's plot `V`:"
   ]
  },
  {
   "cell_type": "code",
   "execution_count": null,
   "metadata": {},
   "outputs": [],
   "source": [
    "plt.figure()\n",
    "plt.plot(V)"
   ]
  },
  {
   "cell_type": "markdown",
   "metadata": {},
   "source": [
    "<div class=\"alert alert-block alert-info\">\n",
    "**Q:**  What happens to the voltage after 1000 steps?\n",
    "</div>"
   ]
  },
  {
   "cell_type": "markdown",
   "metadata": {},
   "source": [
    "\n",
    "  This plot is informative, but not great.  Really, we'd like to plot the\n",
    "  voltage as a function of *time*, not steps or indices.  To do so, we\n",
    "  need to define a time axis:\n"
   ]
  },
  {
   "cell_type": "code",
   "execution_count": null,
   "metadata": {},
   "outputs": [],
   "source": [
    "t = np.arange(0,len(V))*dt"
   ]
  },
  {
   "cell_type": "markdown",
   "metadata": {},
   "source": [
    "<div class=\"alert alert-block alert-info\">\n",
    "**Q:**  What's happening in the command above?  Does it make sense?  (If not, trying printing or plotting `t`.)\n",
    "</div>"
   ]
  },
  {
   "cell_type": "markdown",
   "metadata": {},
   "source": [
    "Now, with *time* defined, let's redo the plot of the voltage with the axes labeled appropriately."
   ]
  },
  {
   "cell_type": "code",
   "execution_count": null,
   "metadata": {},
   "outputs": [],
   "source": [
    "plt.figure()\n",
    "plt.plot(t,V)\n",
    "plt.xlabel('Time [s]');\n",
    "plt.ylabel('V');"
   ]
  },
  {
   "cell_type": "markdown",
   "metadata": {},
   "source": [
    "Finally, let's put it all together . . ."
   ]
  },
  {
   "cell_type": "markdown",
   "metadata": {},
   "source": [
    "## Part 3: I&F CODE (version 1)"
   ]
  },
  {
   "cell_type": "markdown",
   "metadata": {},
   "source": [
    "  In Parts 1 and 2, we constructed parts of the I&F model in bits-and-pieces.\n",
    "  Let's now collect all of this code, compute a numerical solution to\n",
    "  the I&F model, and plot the results (with appropriate axes).\n",
    "\n",
    "First, let's clear all the variables:"
   ]
  },
  {
   "cell_type": "code",
   "execution_count": null,
   "metadata": {},
   "outputs": [],
   "source": [
    "%reset"
   ]
  },
  {
   "cell_type": "code",
   "execution_count": 5,
   "metadata": {},
   "outputs": [
    {
     "data": {
      "image/png": "[encoded data removed]",
      "text/plain": [
       "<matplotlib.figure.Figure at 0x10823bac8>"
      ]
     },
     "metadata": {},
     "output_type": "display_data"
    }
   ],
   "source": [
    "import numpy as np      #Import useful packages.\n",
    "%matplotlib inline\n",
    "import matplotlib.pyplot as plt\n",
    "\n",
    "I=1                     #Set the parameter I.\n",
    "C=1                     #Set the parameter C.\n",
    "dt=0.01                 #Set the timestep.\n",
    "V = np.zeros([1000,1])  #Initialize V.\n",
    "V[0]=0.2;               #Set the initial condition.\n",
    "\n",
    "for k in range(1,999):            #March forward in time,\n",
    "    V[k+1] = V[k] + dt*(I/C)\n",
    "\n",
    "t = np.arange(0,len(V))*dt        #Define the time axis.\n",
    "\n",
    "plt.figure()            #Plot the results.\n",
    "plt.plot(t,V)\n",
    "plt.xlabel('Time [s]')\n",
    "plt.ylabel('Voltage [mV]');"
   ]
  },
  {
   "cell_type": "code",
   "execution_count": 9,
   "metadata": {},
   "outputs": [
    {
     "ename": "TypeError",
     "evalue": "'enumerate' object is not subscriptable",
     "output_type": "error",
     "traceback": [
      "\u001b[0;31m---------------------------------------------------------------------------\u001b[0m",
      "\u001b[0;31mTypeError\u001b[0m                                 Traceback (most recent call last)",
      "\u001b[0;32m<ipython-input-9-72ba27ef0a5c>\u001b[0m in \u001b[0;36m<module>\u001b[0;34m()\u001b[0m\n\u001b[1;32m      1\u001b[0m \u001b[0mx\u001b[0m \u001b[0;34m=\u001b[0m \u001b[0menumerate\u001b[0m\u001b[0;34m(\u001b[0m\u001b[0mV\u001b[0m\u001b[0;34m)\u001b[0m\u001b[0;34m\u001b[0m\u001b[0m\n\u001b[0;32m----> 2\u001b[0;31m \u001b[0mx\u001b[0m\u001b[0;34m[\u001b[0m\u001b[0;36m1\u001b[0m\u001b[0;34m]\u001b[0m\u001b[0;34m\u001b[0m\u001b[0m\n\u001b[0m",
      "\u001b[0;31mTypeError\u001b[0m: 'enumerate' object is not subscriptable"
     ]
    }
   ],
   "source": [
    "x = enumerate(V)\n"
   ]
  },
  {
   "cell_type": "markdown",
   "metadata": {},
   "source": [
    "<div class=\"alert alert-block alert-info\">\n",
    "**Q:**  Adjust the parameter `I`.  What happens to `V` if `I=0`?  Can you set `I` so that `V` > 20 within 10 s?\n",
    "</div>"
   ]
  },
  {
   "cell_type": "markdown",
   "metadata": {},
   "source": [
    "## Part 4:  Voltage threshold\n",
    "\n",
    "  Notice, our model is missing something important:  **the reset**.\n",
    "  Without\n",
    "  the reset, the voltage increases forever (if $I>0$). Now, let's update\n",
    "  our model to include the reset.  To do so, we'll need to add two things\n",
    "  to our code.\n",
    "  \n",
    "  - First, we'll define the voltage threshold `Vth`, and\n",
    "  reset voltage `Vreset`.\n",
    "  - Second, we'll check to see if `V` exceeds\n",
    "  `Vth` using an [if-statement](https://docs.python.org/3/tutorial/controlflow.html);  if it does, then we'll set `V` equal to\n",
    "  `Vreset`.\n",
    "  \n",
    "Here's what we'll add to the code:\n"
   ]
  },
  {
   "cell_type": "code",
   "execution_count": null,
   "metadata": {},
   "outputs": [],
   "source": [
    "Vth = 1;        #Define the voltage threshold.\n",
    "Vreset = 0;     #Define the reset voltage.\n",
    "\n",
    "for k in range(1,999):            #March forward in time,\n",
    "    V[k+1] = V[k] + dt*(I/C)      #Update the voltage,\n",
    "    if V[k+1] > Vth:              #... and check if the voltage exceeds the threshold.\n",
    "        V[k+1] = Vreset"
   ]
  },
  {
   "cell_type": "markdown",
   "metadata": {},
   "source": [
    "## Part 5: I&F CODE (version 2)\n",
    "\n",
    "Now, let's put it all together to make a complete I&F model (with a thershold and reset), simulate it, and plot the result.\n"
   ]
  },
  {
   "cell_type": "code",
   "execution_count": null,
   "metadata": {},
   "outputs": [],
   "source": [
    "%reset"
   ]
  },
  {
   "cell_type": "code",
   "execution_count": null,
   "metadata": {},
   "outputs": [],
   "source": [
    "import numpy as np      #Import useful packages.\n",
    "%matplotlib inline\n",
    "import matplotlib.pyplot as plt\n",
    "\n",
    "I=1                     #Set the parameter I.\n",
    "C=1                     #Set the parameter C.\n",
    "Vth = 1;                #Define the voltage threshold.\n",
    "Vreset = 0;             #Define the reset voltage.\n",
    "dt=0.01                 #Set the timestep.\n",
    "V = np.zeros([1000,1])  #Initialize V.\n",
    "V[0]=0.2;               #Set the initial condition.\n",
    "\n",
    "for k in range(1,999):            #March forward in time,\n",
    "    V[k+1] = V[k] + dt*(I/C)      #Update the voltage,\n",
    "    if V[k+1] > Vth:              #... and check if the voltage exceeds the threshold.\n",
    "        V[k+1] = Vreset\n",
    "        \n",
    "t = np.arange(0,len(V))*dt        #Define the time axis.\n",
    "\n",
    "plt.figure()            #Plot the results.\n",
    "plt.plot(t,V)\n",
    "plt.xlabel('Time [s]')\n",
    "plt.ylabel('Voltage [mV]');"
   ]
  },
  {
   "cell_type": "markdown",
   "metadata": {},
   "source": [
    "<div class=\"alert alert-block alert-info\">\n",
    "**Q:** Adjust the parameter `I`.  What happens to `V` if `I=10`?  If `I=100`?\n",
    "</div>"
   ]
  },
  {
   "cell_type": "markdown",
   "metadata": {},
   "source": [
    "<div class=\"alert alert-block alert-info\">\n",
    "**Q:** What is \"spiking\" in this I&F model?\n",
    "</div>"
   ]
  },
  {
   "cell_type": "code",
   "execution_count": null,
   "metadata": {},
   "outputs": [],
   "source": []
  }
 ],
 "metadata": {
  "kernelspec": {
   "display_name": "Python 3",
   "language": "python",
   "name": "python3"
  },
  "language_info": {
   "codemirror_mode": {
    "name": "ipython",
    "version": 3
   },
   "file_extension": ".py",
   "mimetype": "text/x-python",
   "name": "python",
   "nbconvert_exporter": "python",
   "pygments_lexer": "ipython3",
   "version": "3.6.4"
  }
 },
 "nbformat": 4,
 "nbformat_minor": 2
}
