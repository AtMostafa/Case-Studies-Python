{
 "cells": [
  {
   "cell_type": "markdown",
   "metadata": {},
   "source": [
    "<a id=\"top\"></a> \n",
    "# Appendix: Multiplication and Convolution in Different Domains"
   ]
  },
  {
   "cell_type": "code",
   "execution_count": 1,
   "metadata": {},
   "outputs": [],
   "source": [
    "# Import numpy and matplotlib packages\n",
    "import numpy as np\n",
    "import matplotlib.pyplot as plt"
   ]
  },
  {
   "cell_type": "markdown",
   "metadata": {},
   "source": [
    "We stated in this module the important fact that multiplication in the time domain is equivalent to convolution in the frequency domain. Mathematically, we may express this relation as,\n",
    "\n",
    "$$\n",
    "FT[xw] = FT[x]\\star FT[w]\n",
    "\\tag{1}\n",
    "$$\n",
    "\n",
    "where $x$ and $w$ are two time series, $FT[x]$ is the Fourier transform of $x$, and $X \\star Y$ indicates the convolution of $X$ and $Y$, \n",
    "\n",
    "$$X \\star Y[\\beta] = \\int_{-\\infty}^{\\infty}X[b]Y[\\beta - b]db.$$"
   ]
  },
  {
   "cell_type": "markdown",
   "metadata": {},
   "source": [
    "The convolution of two functions (with arguments $b$ in this formula) is itself a function of the same argument (with symbol $\\beta$ in this formula). Equation (1) states that the Fourier transform of the element-by-element product of $x$ and $w$ equals the convolution of the Fourier transform of $x$ and the Fourier transform of $w$. We consider here an equivalent, alternative statement: that convolution in the time domain is equivalent to multiplication in the frequency domain. Mathematically,\n",
    "\n",
    "$$\n",
    "FT[x \\star w] = FT[x]FT[w].\n",
    "$$"
   ]
  },
  {
   "cell_type": "markdown",
   "metadata": {},
   "source": [
    "This equation states that the Fourier transform of the convolution of $x$ and $w$ equals the product of the Fourier transform of $x$ and the Fourier transform of $w$. To prove this relation, let’s consider the Fourier transform of the convolution of $x$ and $w$. We use the following expression for the continuous-time Fourier transform,\n",
    "\n",
    "$$\n",
    "FT(x \\star w[\\tau]) = \\int_{-\\infty}^{\\infty}\\big(x\\star w[\\tau]\\big)e^{-2 \\pi i f \\tau}d\\tau,\n",
    "$$\n",
    "\n",
    "where the notation $[\\tau]$ indicates that the convolution $(x\\star w)$ is a function of time $\\tau$. Now, let's substitute the definition of convolution into this expression and simiplify using an introduction of a second exponential expression,\n",
    "\n",
    "$$\n",
    "\\begin{align}\n",
    "FT(x \\star w[\\tau]) = & \n",
    "\\int_{-\\infty}^{\\infty}\n",
    "\\bigg( \\int_{-\\infty}^\\infty x[t]w[\\tau-t]dt \\bigg)\n",
    "e^{-2\\pi i f \\tau} \n",
    "d\\tau \\\\\n",
    "%\n",
    "= & \\int_{-\\infty}^{\\infty} \n",
    "\\int_{-\\infty}^\\infty \n",
    "x[t]w[\\tau-t]dt\\ \n",
    "e^{-2\\pi i f (\\tau - t)} \n",
    "e^{-2\\pi i f t} \n",
    "d\\tau \\\\\n",
    "%\n",
    "= & \\int_{-\\infty}^{\\infty} \\int_{-\\infty}^\\infty \n",
    "\\big( x[t] e^{-2\\pi i f t} \\big)\n",
    "\\big( w[\\tau - t] e^{-2\\pi i f (\\tau - t)}\\big)\n",
    "dt\\ d\\tau.\\\\\n",
    "\\end{align}\n",
    "$$"
   ]
  },
  {
   "cell_type": "markdown",
   "metadata": {},
   "source": [
    "Setting $T \\equiv \\tau - t$, we find\n",
    "\n",
    "$$\n",
    "\\begin{align}\n",
    "FT(x \\star w[\\tau]) = & \n",
    "\\int_{-\\infty}^{\\infty} \\int_{-\\infty}^\\infty \n",
    "\\big( x[t] e^{-2\\pi i f t} dt \\big)\n",
    "\\big( w[T] e^{-2\\pi i f (T)} dT \\big) \\\\\n",
    "%\n",
    "= & \\bigg( \\int_{-\\infty}^{\\infty}x[t] e^{-2\\pi i f t} dt \\bigg)\n",
    "\\bigg(\\int_{-\\infty}^{\\infty} w[T] e^{-2\\pi i f (T)} dT \\bigg) \\\\\n",
    "%\n",
    "= & FT[x]FT[w]\n",
    "%\n",
    "\\end{align}\n",
    "$$\n",
    "\n",
    "and therefore conclude that the Fourier transform of the convolution of $x$ and $w$ equals the element-by-element product of their Fourier transforms."
   ]
  },
  {
   "cell_type": "markdown",
   "metadata": {},
   "source": [
    "We may compute a simple example to illustrate this relation:"
   ]
  },
  {
   "cell_type": "code",
   "execution_count": 2,
   "metadata": {},
   "outputs": [
    {
     "data": {
      "image/png": "[encoded data removed]",
      "text/plain": [
       "<Figure size 432x288 with 1 Axes>"
      ]
     },
     "metadata": {},
     "output_type": "display_data"
    }
   ],
   "source": [
    "x = np.arange(3, 7)                            # Define a simple signal x,\n",
    "w = np.array([-1, 0.1, -0.2, 1])               # ... and another simple signal w.\n",
    "a = np.fft.fft(np.convolve(w, x))              # Take the FT of the convolution,\n",
    "b = np.fft.fft(np.hstack([w, [0, 0, 0]])) * \\\n",
    "    np.fft.fft(np.hstack([x, [0, 0, 0]]))      # ... and the product of the FTs\n",
    "    \n",
    "plt.plot(a.real - b.real, label='real')        # Plot the difference\n",
    "plt.plot(a.imag - b.imag, label='imaginary')\n",
    "plt.legend()\n",
    "plt.title('Difference between Fourier transform of convolution \\n and element-wise product of Fourier transforms\\n')\n",
    "plt.show()"
   ]
  },
  {
   "cell_type": "markdown",
   "metadata": {},
   "source": [
    "In the first two lines, we define two simple signals; each consists of only four elements, which is enough to illustrate the relation. In the third line, we first compute the convolution of $w$ and $x$, and then the Fourier transform. In the last line, we compute the Fourier transform of each variable, and then their element-by-element product. Notice that we zero-pad both variables before computing the Fourier transform in the last line. We do so to avoid computing circular correlations between the variables (i.e., wrapping around one variable when comparing it to another). Also, we make the lengths of variables $a$ and $b$ the same. Evaluating the statement, we find the difference between $a$ and $b$ to be on the order of $10^{-15}$, which is very close to zero."
   ]
  },
  {
   "cell_type": "code",
   "execution_count": 3,
   "metadata": {},
   "outputs": [
    {
     "data": {
      "text/html": [
       "<style>\n",
       ".left {\n",
       "    margin-left: 0px;\n",
       "}\n",
       ".warning {\n",
       "    color: #a94442;\n",
       "    background-color: #f2dede;\n",
       "    border-color: #ebccd1;\n",
       "    border-radius: 5px;\n",
       "    padding: 12px;\n",
       "    margin-bottom: 12px;\n",
       "    margin-top: 12px;\n",
       "}\n",
       ".math-note {\n",
       "    color: #3c763d;\n",
       "    background-color: #dff0d8;\n",
       "    border-color: #d6e9c6;\n",
       "    /*border: 1px solid;*/\n",
       "    border-radius: 5px;\n",
       "    padding: 12px;\n",
       "    margin-bottom: 12px;\n",
       "    margin-top: 12px;\n",
       "}\n",
       ".python-note {\n",
       "    color: #8a6d3b;\n",
       "    background-color: #fcf8e3;\n",
       "    border-color: #faebcc;\n",
       "    /*border: 1px solid;*/\n",
       "    border-radius: 5px;\n",
       "    padding: 12px;\n",
       "    margin-bottom: 12px;\n",
       "    margin-top: 12px;\n",
       "}\n",
       ".question {\n",
       "    color: #31708f;\n",
       "    background-color: #d9edf7;\n",
       "    border-color: #bce8f1;\n",
       "    /*border: 1px solid;*/\n",
       "    padding: 12px;\n",
       "    margin-bottom: 12px;\n",
       "    margin-top: 12px;\n",
       "    border-radius: 5px;\n",
       "}\n",
       ".question p, .math-note p, .python-note p, .warning p {\n",
       "    /*margin-top: 1em;*/\n",
       "    margin-top: 0;\n",
       "    margin-bottom: 0;\n",
       "}\n",
       ".question * + p, .math-note * + p, .python-note * + p, .warning * + p {\n",
       "    /*margin-bottom: 0;*/\n",
       "    margin-top: 1em;\n",
       "}\n",
       ".output_area img, .output_area iframe, .output_html iframe {\n",
       "    display: block;\n",
       "    margin-left: auto;\n",
       "    margin-right: auto;\n",
       "}\n",
       ".inner_cell img {\n",
       "    width:100%;\n",
       "    max-width:700px;\n",
       "    max-height: 90%;\n",
       "}\n",
       ".fig, .thumb {\n",
       "    position: inherit;\n",
       "    color: #57b733;\n",
       "    cursor: help;\n",
       "    text-decoration: underline dotted;\n",
       "    max-width: 700px;\n",
       "}   \n",
       ".thumb img{ \n",
       "    max-width: 400px;\n",
       "}\n",
       ".figsup {\n",
       "    cursor: help;\n",
       "    color: #57b733;\n",
       "    top: -0.5em;\n",
       "    font-size: 75%;\n",
       "    line-height: 0;\n",
       "    position: relative;\n",
       "    vertical-align: baseline;\n",
       "    border-bottom: none;\n",
       "    text-decoration: underline dotted;\n",
       "    max-width: 700px;\n",
       "}\n",
       ".fig img, .figsup img, .thumb img { \n",
       "    border:1px solid #000;\n",
       "    visibility: hidden;\n",
       "    background-color: black;\n",
       "    border-radius: 6px;\n",
       "    padding: 5px 5px;\n",
       "    position: absolute;\n",
       "    transition: 5ms visibility;\n",
       "    z-index: 99;\n",
       "    left: 50%;\n",
       "    transform: translate(-50%, -50%);\n",
       "}\n",
       ".figsup img {\n",
       "    position: inherit;\n",
       "}\n",
       ".fig:hover, .fig:hover img, .figsup:hover img, .thumb:hover, .thumb:hover img { \n",
       "    visibility:visible;\n",
       "    transition-delay: 500ms;\n",
       "}\n",
       "</style>\n"
      ],
      "text/plain": [
       "<IPython.core.display.HTML object>"
      ]
     },
     "execution_count": 3,
     "metadata": {},
     "output_type": "execute_result"
    }
   ],
   "source": [
    "from IPython.core.display import HTML\n",
    "HTML('../../assets/custom/custom.css')"
   ]
  },
  {
   "cell_type": "code",
   "execution_count": null,
   "metadata": {},
   "outputs": [],
   "source": []
  }
 ],
 "metadata": {
  "kernelspec": {
   "display_name": "Python 3",
   "language": "python",
   "name": "python3"
  },
  "language_info": {
   "codemirror_mode": {
    "name": "ipython",
    "version": 3
   },
   "file_extension": ".py",
   "mimetype": "text/x-python",
   "name": "python",
   "nbconvert_exporter": "python",
   "pygments_lexer": "ipython3",
   "version": "3.6.4"
  }
 },
 "nbformat": 4,
 "nbformat_minor": 2
}
