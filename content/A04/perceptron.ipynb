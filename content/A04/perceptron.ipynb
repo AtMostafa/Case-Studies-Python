{
 "cells": [
  {
   "cell_type": "markdown",
   "metadata": {},
   "source": [
    "# Training a Perceptron\n",
    "\n",
    "In this module, we will construct simple perceptron models. We'll start by implementing a perceptron model, and seeing how it behaves. We'll then outline the steps to train a perceptron to classify a point as above or below a line.\n",
    "\n",
    "This discussion follows the excellent example and discussion at [The Nature of Code](https://natureofcode.com/book/chapter-10-neural-networks/). Please see that reference for additional details, and a more sophisticated coding strategy (using Classes in Python)."
   ]
  },
  {
   "cell_type": "markdown",
   "metadata": {},
   "source": [
    "##  Preliminaries\n",
    "Text preceded by a `#` indicates a 'comment'.  I will use comments to explain what we're doing and to ask you questions.  Also, comments are useful in your own code to note what you've done (so it makes sense when you return to the code in the future).  It's a good habit to *always* comment your code.  I'll try to set a good example, but won't always . . . \n",
    "\n",
    "Before beginning, let's load in the Python packages we'll need:"
   ]
  },
  {
   "cell_type": "code",
   "execution_count": 1,
   "metadata": {},
   "outputs": [],
   "source": [
    "import numpy as np\n",
    "%matplotlib inline\n",
    "import matplotlib.pyplot as plt\n",
    "import time"
   ]
  },
  {
   "cell_type": "markdown",
   "metadata": {},
   "source": [
    "##  Part 1:   A simple perceptron model.\n",
    "\n",
    " \n",
    "Let's examine a simple perceptron that accepts inputs, processes those inputs, and returns an output. To do so, please consider this function:"
   ]
  },
  {
   "cell_type": "code",
   "execution_count": 2,
   "metadata": {},
   "outputs": [],
   "source": [
    "def my_perceptron(input1, input2, w1, w2, theta):\n",
    "    # Define the activity of the perceptron, x.\n",
    "    x = input1*w1 + input2*w2 + theta\n",
    "    \n",
    "    # Apply a binary threshold,\n",
    "    if x > 0:\n",
    "        return 1\n",
    "    else:\n",
    "        return 0"
   ]
  },
  {
   "cell_type": "markdown",
   "metadata": {},
   "source": [
    "<div class=\"alert alert-block alert-info\">\n",
    "\n",
    "**Q:** How many inputs does the function take?  How many outputs does it return?<p></p>\n",
    "\n",
    "**Q:** Looking at this code, could you sketch a model of this perceptron?<p></p>\n",
    "\n",
    "**Q:** Apply this function to different sets of inputs. Consider,<p></p>\n",
    "\n",
    "  `input1 = 1, input2 = 0, w1 = 0.5, w2 = -0.5, theta = 0`<p></p>\n",
    "\n",
    "  and<p></p>\n",
    "\n",
    "  `input1 = 1, input2 = 0, w1 = 0.5, w2 = -0.5, theta = -1`<p></p>\n",
    "\n",
    "  What do you find?\n",
    "</div>"
   ]
  },
  {
   "cell_type": "markdown",
   "metadata": {},
   "source": [
    "##   Part 2.  Build a perceptron classifier.\n",
    "\n",
    "We'd like to create a method to train a perceptron to classify a point (x,y) as above or below a line. Let's implement this training procedure.\n",
    "\n",
    "###  Step 1. Provide perceptron with inputs and known answer. \n",
    "\n",
    "  First, let's make a function that computes a line, and determines if \n",
    "  a given `y` value is above or below the line. We'll use this function\n",
    "  to return the correct (\"known\") answer. Having known answers is\n",
    "  important for training the perceptron. We'll use the known answers to\n",
    "  tell the when it's right or wrong (i.e., when the perceptron makes an\n",
    "  error).\n",
    "\n",
    "  Let's define the function (`known_answer`) should take four inputs:\n",
    "\n",
    "  - `slope`\n",
    "  - `intercept`\n",
    "  - `x`\n",
    "  - `y`\n",
    "\n",
    "where the (x,y) value is a point we choose on the plane. The function\n",
    "  should return one output:\n",
    "\n",
    " - `desired_output`\n",
    "\n",
    "where,\n",
    "\n",
    "`desired_output = 1`, if the `y` value (the last input) is above the line,\n",
    "\n",
    "`desired_putput = 0`, if the `y` value (the last input) is below the line.\n",
    "\n",
    "Consider the function below:"
   ]
  },
  {
   "cell_type": "code",
   "execution_count": 3,
   "metadata": {},
   "outputs": [],
   "source": [
    "def known_answer(slope, intercept, x, y):\n",
    "\n",
    "  yline = slope*x + intercept  # Compute y-value on the line.\n",
    "  if y > yline:                # If the input y value is above the line,\n",
    "      return 1                 # ... indicate this with output = 1;\n",
    "  else:                        # Otherwise, the input y is below the line,\n",
    "      return 0"
   ]
  },
  {
   "cell_type": "markdown",
   "metadata": {},
   "source": [
    "<div class=\"alert alert-block alert-info\">\n",
    "\n",
    "**Q:** Consider the (x,y) point,<p></p>\n",
    "\n",
    "`x,y = 0.7,3` <p></p>\n",
    "\n",
    "and the line with slope and intercept, <p></p>\n",
    "\n",
    "`slope = 2` <br></br>\n",
    "`intercept = 1`<p></p>\n",
    "\n",
    "Is the (x,y) point above or below the line?<p></p>\n",
    "<br>\n",
    "\n",
    "\n",
    "**A:** To answer this, let's ask our function,\n",
    "</div>"
   ]
  },
  {
   "cell_type": "code",
   "execution_count": 4,
   "metadata": {},
   "outputs": [
    {
     "name": "stdout",
     "output_type": "stream",
     "text": [
      "1\n"
     ]
    }
   ],
   "source": [
    "x,y = 0.7,3\n",
    "slope = 2\n",
    "intercept = 1\n",
    "correct_answer = known_answer(slope, intercept, x, y)\n",
    "print(correct_answer)"
   ]
  },
  {
   "cell_type": "markdown",
   "metadata": {},
   "source": [
    "<div class=\"alert alert-block alert-info\">\n",
    "\n",
    "**A (Continued):** We find a `correct_answer` of 1.<p></p>\n",
    "\n",
    "So, the point `(x,y)=(0.7,3)` is above the line with slope 2 and intercept 1.\n",
    "</div>"
   ]
  },
  {
   "cell_type": "markdown",
   "metadata": {},
   "source": [
    "### Step 2: Ask perceptron to guess an answer.\n",
    "\n",
    " Our next step is to compare our desired output (computed in Step 1) to\n",
    " the output guessed by the perceptron. To do so, we'll need to compute\n",
    " the *feedforward* solution for the perceptron (i.e., given the inputs\n",
    " and bias, determine the perceptron output). Let's do so,"
   ]
  },
  {
   "cell_type": "code",
   "execution_count": 5,
   "metadata": {},
   "outputs": [],
   "source": [
    "def feedforward(x, y, wx, wy, wb):\n",
    "\n",
    "  # Fix the bias.\n",
    "  bias = 1\n",
    "\n",
    "  # Define the activity of the neuron, activity.\n",
    "  activity = x*wx + y*wy + wb*bias\n",
    "  \n",
    "  # Apply the binary threshold,\n",
    "  if activity > 0:\n",
    "      return 1\n",
    "  else:\n",
    "      return 0"
   ]
  },
  {
   "cell_type": "markdown",
   "metadata": {},
   "source": [
    "This function takes five inputs:\n",
    "\n",
    " - `x`  = the x coordinate of the point we choose in the plane.\n",
    " - `y`  = the y coordinate of the point we choose in the plane.\n",
    " - `wx` = the weight of x input.\n",
    " - `wy` = the weight of y input.\n",
    " - `wb` = the weight of the bias.\n",
    "\n",
    "And this function returns one output:\n",
    " \n",
    " - the perceptron's guess, is the point above (=1) or below (=0) the line."
   ]
  },
  {
   "cell_type": "markdown",
   "metadata": {},
   "source": [
    "<div class=\"alert alert-block alert-info\">\n",
    "**Q:**  Again consider the (x,y) point, <p></p>\n",
    "\n",
    "`x,y = 0.7,3` <p></p>\n",
    "\n",
    "and set initial values for the perceptron weights. Let's just set these all to 0.5;  our goal in the rest of this module will be to train the perceptron by adjusting these weights.  But for now,<p></p>\n",
    "\n",
    "`wx,wy,wb = 0.5` <p></p>\n",
    "\n",
    "Then, ask the perceptron for it's guess for it's guess, is the point above or below the line?<p></p>\n",
    "\n",
    "</div>"
   ]
  },
  {
   "cell_type": "code",
   "execution_count": 6,
   "metadata": {},
   "outputs": [
    {
     "name": "stdout",
     "output_type": "stream",
     "text": [
      "1\n"
     ]
    }
   ],
   "source": [
    "x,y = 0.7,3\n",
    "wx,wy,wb = 3*[0.5]\n",
    "perceptron_guess = feedforward(x, y, wx, wy, wb)\n",
    "print(perceptron_guess)"
   ]
  },
  {
   "cell_type": "markdown",
   "metadata": {},
   "source": [
    "<div class=\"alert alert-block alert-info\">\n",
    "\n",
    "**A (Continued):** We find a `peceptron_guess` of 1.<br>\n",
    "<p>\n",
    "\n",
    "So, the perceptron guesses that the point `(x,y)=(0.7,3)` is above the line.\n",
    "\n",
    "</div>"
   ]
  },
  {
   "cell_type": "markdown",
   "metadata": {},
   "source": [
    "### Step 3: Compute the error.\n",
    "\n",
    " We've now answered the question \"*Is the (x,y) point above the line?*\" in \n",
    " two ways:\n",
    " \n",
    " - the known answer, and \n",
    " - the perceptron's guess.\n",
    "\n",
    "Let's compute the error as the difference between these two answers:"
   ]
  },
  {
   "cell_type": "code",
   "execution_count": 7,
   "metadata": {},
   "outputs": [
    {
     "name": "stdout",
     "output_type": "stream",
     "text": [
      "0\n"
     ]
    }
   ],
   "source": [
    "error = correct_answer - perceptron_guess\n",
    "print(error)"
   ]
  },
  {
   "cell_type": "markdown",
   "metadata": {},
   "source": [
    "<div class=\"alert alert-block alert-info\">\n",
    "**Q:**  What do you find for the `error`? Does it make sense?\n",
    "</div>"
   ]
  },
  {
   "cell_type": "markdown",
   "metadata": {},
   "source": [
    "### Step 4: Adjust all weights according to the error.\n",
    "\n",
    " To update the weights, we'll use the expression,\n",
    "\n",
    " `new weight = weight + error * input * learning constant`\n",
    "\n",
    " We need to compute this for each weight `(wx, wy, wb)`.\n",
    "\n",
    " First, let's set the learning constant,"
   ]
  },
  {
   "cell_type": "code",
   "execution_count": 8,
   "metadata": {},
   "outputs": [],
   "source": [
    "learning_constant = 0.01"
   ]
  },
  {
   "cell_type": "markdown",
   "metadata": {},
   "source": [
    "Then, we can compute the new weights,"
   ]
  },
  {
   "cell_type": "code",
   "execution_count": 9,
   "metadata": {},
   "outputs": [],
   "source": [
    "wx = wx + error*x   *learning_constant\n",
    "wy = wy + error*y   *learning_constant\n",
    "wb = wb + error*1   *learning_constant"
   ]
  },
  {
   "cell_type": "markdown",
   "metadata": {},
   "source": [
    "Notice that, in the update to `wb` we use the fact that the bias equals 1."
   ]
  },
  {
   "cell_type": "markdown",
   "metadata": {},
   "source": [
    "<div class=\"alert alert-block alert-info\">\n",
    "**Q:**  What do you find for the new weights? Does it make sense?\n",
    "</div>"
   ]
  },
  {
   "cell_type": "markdown",
   "metadata": {},
   "source": [
    "### Step 5: Return to Step 1 and repeat ... \n",
    " We could try to compute these repetitions by hand, for example by repeating\n",
    " the cells above. To do so, we'd choose a new point in the (x,y) plane,\n",
    " determine whether it's above the line 2x+1, ask the perceptron to guess\n",
    " whether it's above the line, then use the error to update the\n",
    " perceptron's weights. \n",
    "\n",
    " But we want to evaluate this procedure 2000 times. Doing so by\n",
    " hand would be a total pain, and highly error prone. Instead, let's\n",
    " ask the computer to do the boring work of multiple repetitions. To do so,\n",
    " let's collect the code above, and examine 2000 (x,y) points chosen\n",
    " randomly in the plane. We'll wrap our code above inside a for-loop to\n",
    " make this efficient,"
   ]
  },
  {
   "cell_type": "code",
   "execution_count": 10,
   "metadata": {},
   "outputs": [
    {
     "data": {
      "image/png": "[encoded data removed]",
      "text/plain": [
       "<Figure size 432x288 with 1 Axes>"
      ]
     },
     "metadata": {
      "needs_background": "light"
     },
     "output_type": "display_data"
    }
   ],
   "source": [
    "slope     = 2;                      # Define the line with slope, \n",
    "intercept = 1;                      # ... and intercept.\n",
    "\n",
    "wx,wy,wz = 3*[0.5];                 # Choose initial values for the perceptron's weights\n",
    "\n",
    "learning_constant = 0.01;           # And, set the learning constant.\n",
    "\n",
    "estimated_slope = np.zeros(2000)    # Variables to hold the perceptron estimates.\n",
    "estimated_intercept = np.zeros(2000)\n",
    "\n",
    "for k in np.arange(2000):           # For 2000 iteractions,\n",
    "    x = np.random.randn(1);         # Choose a random (x,y) point in the plane\n",
    "    y = np.random.randn(1);\n",
    "                                    # Step 1: Calculate known answer.\n",
    "    correct_answer = known_answer(slope, intercept, x, y);\n",
    "    \n",
    "                                    # Step 2. Ask perceptron to guess an answer.\n",
    "    perceptron_guess = feedforward(x, y, wx, wy, wb);\n",
    "    \n",
    "                                    # Step 3. Compute the error.\n",
    "    error = correct_answer - perceptron_guess;\n",
    "    \n",
    "                                    # Step 4. Adjust weights according to error.\n",
    "    wx = wx + error*x*learning_constant;\n",
    "    wy = wy + error*y*learning_constant;\n",
    "    wb = wb + error*1*learning_constant;\n",
    "     \n",
    "    estimated_slope[k] = -wx/wy;    # Compute estimated slope from perceptron.\n",
    "    estimated_intercept[k] = -wb/wy;# Compute estimated intercept from perceptron.\n",
    "\n",
    "# Display the results! ------------------------------------------------------------------------\n",
    "x_range = np.linspace(-2,2,100);                  # For a range of x-values,\n",
    "fig, ax = plt.subplots()\n",
    "ax.plot(x_range, slope*x_range+intercept, 'k')    # ... plot the true line,\n",
    "\n",
    "for k in range(1,2000,100):                       # ... and plot some intermediate perceptron guess\n",
    "    ax.plot(x_range, estimated_slope[k]*x_range+estimated_intercept[k], 'r')\n",
    "                                                  # ... and plot the last perceptron guess\n",
    "ax.plot(x_range, estimated_slope[-1]*x_range+estimated_intercept[-1], 'b')\n",
    "plt.xlabel('x')\n",
    "plt.ylabel('y')\n",
    "plt.title('Known answer (black), Perceptron final guess (blue)');"
   ]
  }
 ],
 "metadata": {
  "jupytext": {
   "formats": "ipynb,md:myst"
  },
  "kernelspec": {
   "display_name": "Python 3",
   "language": "python",
   "name": "python3"
  },
  "language_info": {
   "codemirror_mode": {
    "name": "ipython",
    "version": 3
   },
   "file_extension": ".py",
   "mimetype": "text/x-python",
   "name": "python",
   "nbconvert_exporter": "python",
   "pygments_lexer": "ipython3",
   "version": "3.7.7"
  }
 },
 "nbformat": 4,
 "nbformat_minor": 2
}
