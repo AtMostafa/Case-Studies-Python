{
 "cells": [
  {
   "cell_type": "markdown",
   "metadata": {},
   "source": [
    "# Analysis of Rhythmic Spiking in the Subthalamic Nucleus During a Movement Task"
   ]
  },
  {
   "cell_type": "markdown",
   "metadata": {},
   "source": [
    "<div class=\"question\">\n",
    "    \n",
    "_**Synopsis**_ \n",
    "\n",
    "**Data:** Spiking activity from one neuron over 50 trials each of 2 s duration.\n",
    "\n",
    "\n",
    "**Goal:** Characterize and interpret features of rhythmic spiking activity.\n",
    "\n",
    "\n",
    "**Tools:** ISI histograms, autocorrelation plots, point process spectral estimators, history-dependent generalized linear models.\n",
    "    \n",
    "</div>"
   ]
  },
  {
   "cell_type": "markdown",
   "metadata": {},
   "source": [
    "* [Introduction](#.)<a id=\"top\"></a>\n",
    "    * [Tools](#tools)\n",
    "* [Data analysis](#data-analysis)\n",
    "    1. [Visual Inspection](#visual-inspection)\n",
    "    1. [Point Process Models](#ppm)\n",
    "    1. [Spectral Analysis of Spiking Data](#spectral-analysis)"
   ]
  },
  {
   "cell_type": "markdown",
   "metadata": {},
   "source": [
    "## Introduction\n",
    "\n",
    "### Background\n",
    "\n",
    "The subthalamic nucleus (STN) is a component of the basal ganglia that is thought to play an important role in the regulation of motor function. Neurons in the STN often have rhythmic spiking dynamics, and aberrations in the spike rhythms in STN have been associated with tremor and other motor symptoms in Parkinson’s disease. In fact, the STN is one of the primary targets for deep brain stimulation (DBS) to treat Parkinsonian disorders. While the mechanisms by which DBS works are largely unknown, many researchers have hypothesized that altering rhythmic activity in the STN is an important component. Therefore, it is important to be able to characterize spike rhythms in STN neurons and to know with statistical confidence when these rhythms have changed.\n",
    "\n",
    "In previous chapters, we developed and used methods to uncover rhythmic dynamics in field recordings. Many of the methods used to characterize rhythms in spiking data will be familiar, like autocorrelation functions and spectral estimators, but will require additional care to interpret. In some cases, rhythmic spiking dynamics can be much more subtle than the rhythms we found previously, and statistical modeling methods will be needed to make powerful inferences from spiking data.\n",
    "\n",
    "### Case Study Data\n",
    "\n",
    "A clinical neurosurgeon contacts you to help her analyze spiking data she collects from patients with Parkinson’s disease during surgery to implant DBS electrodes. She is interested in making sure that the electrode is localized properly in the STN, and in studying the role that STN activity plays in movement planning and execution for these patients. She asks each patient to perform a simple hand movement task during the electrode implantation procedure, and records the resulting neural activity.\n",
    "\n",
    "The data consist of single unit spiking activity from one STN neuron recorded over 50 trials of a hand movement task. In each trial, a patient held a joystick and watched cues appear on a screen. The first cue indicated whether the patient should move the joystick to the left or right. The second cue, the GO cue, indicated the time to start moving the joystick. The dataset contains 2 s of activity for each trial, 1 s before the GO cue and 1 s after. We label the period before the GO cue comes on the planning period, and the period after the GO cue the movement period.\n",
    "\n",
    "### Goal\n",
    "\n",
    "It is well known that the spiking activity of some STN neurons in patients with Parkinson’s disease shows rhythmic properties in the beta frequency range, 11–30 Hz [30, 31]. The neurosurgeon hypothesizes that information related to the movement task, such as the planning versus the movement period and whether the movement is to the left or right, will influence this rhythmic spiking activity. Our goal is to characterize the spiking properties, identify whether rhythmic activity is present and statistically significant, and how such activity is influenced by the task variables.\n",
    "\n",
    "### Tools<a id=\"tools\"></a>\n",
    "\n",
    "We extend some of the tools already developed for studying rhythms and modeling spike trains. Many of the basic visualization tools, such as raster plots, ISI histograms, and autocorrelation functions are useful without modification. We compute spectral estimators for spiking data using the same methods as before, but we have to think carefully about how to interpret the spectrum of a point process. Finally, we extend the GLM methods we previously developed for spike train data to allow us to model history-dependent, non-Poisson spiking processes."
   ]
  },
  {
   "cell_type": "code",
   "execution_count": 1,
   "metadata": {},
   "outputs": [],
   "source": [
    "from nitime.algorithms import multi_taper_psd\n",
    "from nitime.utils import dpss_windows\n",
    "import statsmodels.api as sm\n",
    "import statsmodels.formula.api as smf\n",
    "from pandas import DataFrame as df\n",
    "# from statsmodels.families\n",
    "from statsmodels.distributions.empirical_distribution import ECDF"
   ]
  },
  {
   "cell_type": "markdown",
   "metadata": {},
   "source": [
    "## Data Analysis<a id=\"data-analysis\"></a>\n",
    "\n",
    "### Visual Inspection<a id=\"visual-inspection\"></a>\n",
    "\n",
    "To access the data for this chapter, visit `http://github.com/Mark-Kramer/Case-Studies-Kramer-Eden` and download the file `Ch10-spikes-1.mat`. Let’s start by loading the data into Python:"
   ]
  },
  {
   "cell_type": "code",
   "execution_count": 2,
   "metadata": {},
   "outputs": [],
   "source": [
    "data = loadmat('Ch10-spikes-1.mat')  # Load the EEG data\n",
    "t = data['t'][0]  # Extract the t variable\n",
    "direction = data['direction'].flatten()  # Extract the direction variable\n",
    "train = data['train']  # Extract the train variable"
   ]
  },
  {
   "cell_type": "markdown",
   "metadata": {},
   "source": [
    "We find three variables:\n",
    "\n",
    "  * `direction`: A 50&times;1 vector of indicators for the movement direction for each of 50 trials. A value of 0 indicates movement to the left, and a value of 1 indicates movement to the right.\n",
    "  \n",
    "  \n",
    "  * `t`: A 1&times;2000 vector of time stamps in milliseconds indicating the time into the trial. Time 0 indicates the GO cue.\n",
    "  \n",
    "  \n",
    "  * `train`: A 50&times;2000 matrix of spike counts in each trial and time bin. The rows of the matrix correspond to trials, while the columns correspond to time."
   ]
  },
  {
   "cell_type": "markdown",
   "metadata": {},
   "source": [
    "<div class = \"question\">\n",
    "\n",
    "**Q:** How many trials involve movment to the left? to the right? \n",
    "\n",
    "**A:** To answer this, we must count the number of zeros and ones in direction. The `sum` function provides an efficient method to do so: `sum(direction)` which returns a value of 25. We conclude that half of the 50 trials involve right movement, and half involve left movement.\n",
    "\n",
    "</div>"
   ]
  },
  {
   "cell_type": "markdown",
   "metadata": {},
   "source": [
    "Our first goal is to construct a raster plot to visualize the spikes through time for every trial. There are many ways to create this plot in Python. One simple way is to realize that the matrix consists of a collection of zeros and ones as a function of time and trial, corresponding exactly to the information for the raster plot. We can treat this matrix as an image and visualize it using the `imshow()` function in Python:<a id=\"fig:raster\"></a>"
   ]
  },
  {
   "cell_type": "code",
   "execution_count": 3,
   "metadata": {},
   "outputs": [
    {
     "data": {
      "image/png": "[encoded data removed]",
      "text/plain": [
       "<Figure size 432x288 with 1 Axes>"
      ]
     },
     "metadata": {
      "needs_background": "light"
     },
     "output_type": "display_data"
    }
   ],
   "source": [
    "imshow(train, aspect='auto',cmap='gray_r')\n",
    "savefig('imgs/raster')\n",
    "show()"
   ]
  },
  {
   "cell_type": "markdown",
   "metadata": {},
   "source": [
    "Here, we have adjusted the colormap to draw black ticks on a white background for clarity and ease of visual inspection.\n",
    "\n",
    "Visually, we do not observe much obvious structure in the raster plot. There does not seem to be substantially more spiking either before or after the GO cue. It is also difficult to see any effect of the movement direction for each trial, since left and right trials are interspersed. We can remedy this by grouping all 25 of the left trials together, and all 25 of the right trials together, and generating a new set of raster plots for each trial type."
   ]
  },
  {
   "cell_type": "code",
   "execution_count": 4,
   "metadata": {},
   "outputs": [
    {
     "data": {
      "image/png": "[encoded data removed]",
      "text/plain": [
       "<Figure size 432x288 with 1 Axes>"
      ]
     },
     "metadata": {
      "needs_background": "light"
     },
     "output_type": "display_data"
    },
    {
     "data": {
      "image/png": "[encoded data removed]",
      "text/plain": [
       "<Figure size 432x288 with 1 Axes>"
      ]
     },
     "metadata": {
      "needs_background": "light"
     },
     "output_type": "display_data"
    }
   ],
   "source": [
    "Ltrials = where(direction==0)\n",
    "Rtrials = where(direction==1)\n",
    "imshow(train[Ltrials], aspect = 'auto', cmap='gray_r', extent = (-1000,1000,50,0))\n",
    "xlabel('Time (ms)')\n",
    "ylabel('Trial')\n",
    "show()\n",
    "\n",
    "imshow(train[Rtrials], aspect = 'auto', cmap='gray_r', extent = (-1000,1000,50,0))\n",
    "xlabel('Time (ms)')\n",
    "ylabel('Trial')\n",
    "show()"
   ]
  },
  {
   "cell_type": "markdown",
   "metadata": {},
   "source": [
    "<div class=\"question\">\n",
    "    \n",
    "**Q:** Consider the raster plots for the left and right trials in the above figure. Do you notice any difference in spiking between the two trial types? Is rhythmic spiking apparent?\n",
    "    \n",
    "**A:** In the separate raster plots we observe slightly more spiking during left trials than during right trials, both during the planning (before time 0 s) and movement (after time 0 s) periods. However, we do not observe in this raster plot clear evidence of rhythmic spiking. There are places where you might convince yourself that rhythmic spiking is present, but it is not clear whether this structure is real or could occur by chance.\n",
    "\n",
    "</div>"
   ]
  },
  {
   "cell_type": "markdown",
   "metadata": {},
   "source": [
    "Often when people think about rhythms in spiking data, they think about spiking occurring almost perfectly regularly at some fixed frequency, like a metronome. However, it is rare to find neural spiking systems with this kind of regularity. Instead, if we think about spiking activity as arising from a random point process, we can consider rhythmic spiking as the influence of past spiking on the probability of observing a spike at some time in the future. In other words, another way to think about rhythmic spiking is as a history-dependent point process. Later, we build specific probability models to capture this history dependence. But first we visualize the other influences in the data, those related to planning and movement, and to direction.\n",
    "\n",
    "We initially construct a peristimulus time histogram, (PSTH). These PSTHs are useful for visualizing the relation between spike rates and the time relative to a specific time point in repeated trial data. In this case, we look at the spiking rate relative to the time of the GO cue. To compute the PSTH, we partition the time interval into bins, add up the number of spikes that occur within each bin over all trials, and then divide by the number of trials and by the length of the bin. Most often, we select a fixed time width for all the bins.\n",
    "\n",
    "The matrix train already contains the binned spiking data, where the bins are each 1 ms in duration. If we want to use 1 ms bins for the PSTH, all that needs to be done is to sum over all the trials and scale by the number of trials and bin length."
   ]
  },
  {
   "cell_type": "code",
   "execution_count": 5,
   "metadata": {},
   "outputs": [],
   "source": [
    "PSTH = sum(train) / 50 / 1e-3"
   ]
  },
  {
   "cell_type": "markdown",
   "metadata": {},
   "source": [
    "Here we divide by 50 because we sum the spiking over 50 trials, and we divide by 1e-3 = 0.001 because the bin width is 1 ms = 0.001 s, and we would like to express the rate in units of spikes/s, or Hz. However, this method will only work for 1 ms bins. A more general approach is to find the times of all the spikes and use the hist command to compute the PSTH:"
   ]
  },
  {
   "cell_type": "code",
   "execution_count": 6,
   "metadata": {},
   "outputs": [],
   "source": [
    "spiketrials, spiketimes = where(train)\n",
    "hist = histogram(spiketimes,2000)[0]/50/1e-3"
   ]
  },
  {
   "cell_type": "markdown",
   "metadata": {},
   "source": [
    "Either method produces the same PSTH result. Now let’s use the bar function to produce a bar graph of the PSTH:"
   ]
  },
  {
   "cell_type": "code",
   "execution_count": 7,
   "metadata": {},
   "outputs": [
    {
     "data": {
      "image/png": "[encoded data removed]",
      "text/plain": [
       "<Figure size 432x288 with 1 Axes>"
      ]
     },
     "metadata": {
      "needs_background": "light"
     },
     "output_type": "display_data"
    }
   ],
   "source": [
    "bar(t, hist) \n",
    "xlabel('Time (ms)')\n",
    "ylabel('Spike Rate (spikes/s)')\n",
    "show()"
   ]
  },
  {
   "cell_type": "markdown",
   "metadata": {},
   "source": [
    "Although it was not immediately clear from the raster plot, it is evident in the PSTH that there is a difference in the firing rate between planning and movement periods. The firing rate during planning (time < 0 ms) appears to average around 60 spikes/s, and the firing rate during movement (time > 0 ms) appears to be slightly elevated, averaging around 80 spikes/s. However, this PSTH may be a bit misleading because of the very small bin widths used. In each bin, the PSTH only appears to take a few discrete values (e.g., 40, 60, 80 spikes/s) with nothing in between. Also, there are many bins where the PSTH value is equal to zero; these bins are not obvious in the figure because they are masked by nearby bins. The initial PSTH therefore gives a false sense of the average spike rate. To investigate further, let’s increase the PSTH bin width:"
   ]
  },
  {
   "cell_type": "code",
   "execution_count": 8,
   "metadata": {},
   "outputs": [
    {
     "data": {
      "image/png": "[encoded data removed]",
      "text/plain": [
       "<Figure size 432x288 with 1 Axes>"
      ]
     },
     "metadata": {
      "needs_background": "light"
     },
     "output_type": "display_data"
    }
   ],
   "source": [
    "PSTH10 = histogram(spiketimes, 200)[0]   #Compute histogram.\n",
    "figure()\n",
    "bar(t[arange(0, 2000, 10)], PSTH10/50/10*1000,width=10)\n",
    "show()"
   ]
  },
  {
   "cell_type": "markdown",
   "metadata": {},
   "source": [
    "<div class=\"question\">\n",
    "    \n",
    "**Q:** How does the second input to the hist function specify 10 ms bins?\n",
    "\n",
    "</div>"
   ]
  },
  {
   "cell_type": "markdown",
   "metadata": {},
   "source": [
    "With 10 ms bin widths, the difference in firing rate between planning and movement periods is still evident, but we see that we had overestimated the firing rate because bins with small PSTH values were masked by neighboring bins with higher values. Now we find that the average firing rate during planning is closer to 35 spikes/s, while the rate during movement is closer to 55 spikes/s."
   ]
  },
  {
   "cell_type": "markdown",
   "metadata": {},
   "source": [
    "<div class=\"question\">\n",
    "    \n",
    "**Q:** Construct a PSTH for these data with 100 ms bins. How does the result compare to the 10 ms bin PSTH in the above figure? What might be some issues that impact PSTHs with large bin widths? What do you think might be a good way to select bin widths for a PSTH?\n",
    "\n",
    "</div>"
   ]
  },
  {
   "cell_type": "markdown",
   "metadata": {},
   "source": [
    "We can also compute the average spike rate in the movement and planning periods directly. To do so, we need to average the spiking data over both trials and time in each period."
   ]
  },
  {
   "cell_type": "code",
   "execution_count": 9,
   "metadata": {},
   "outputs": [],
   "source": [
    "i_plan = where(t < 0)[0]                            #Indices for planning.\n",
    "i_move = where(t >= 0)[0]                           #Indices for movement.\n",
    "#Compute the average spike rate,\n",
    "PlanRate = mean(train[:, i_plan]) / 1e-3   #...during planning,\n",
    "MoveRate = mean(train[:, i_move]) / 1e-3   #...during movement."
   ]
  },
  {
   "cell_type": "markdown",
   "metadata": {},
   "source": [
    "<div class=\"question\">\n",
    "\n",
    "**Q:** You might notice that we call the function mean twice in this code. What is the effect of these two (nested) function calls?\n",
    "\n",
    "**A:** The variable train is a matrix. The first application of mean computes the mean of each column of train, corresponding to the mean over trials. The result is a (row) vector. The second application of mean operates on this row vector and computes the mean over time to produce a scalar.\n",
    "</div>"
   ]
  },
  {
   "cell_type": "markdown",
   "metadata": {},
   "source": [
    "Executing these commands, we find `PlanRate = 38.96`, and `MoveRate = 54.96`. These results are consistent with our estimation of the average firing rates through visual inspection of the histogram with 10ms bins.\n",
    "\n",
    "In addition to the planning and movement periods, the task can be broken down based on the direction of movement that is cued. The variable direction contains an indicator variable for each trial, which is 0 for left trials and 1 for right trials. Since the left and right trials are interspersed, we need to first find which trials correspond to each direction, and then compute the firing rates for each type of trial. "
   ]
  },
  {
   "cell_type": "code",
   "execution_count": 10,
   "metadata": {},
   "outputs": [],
   "source": [
    "Ltrials = where(direction==0)       #Find left trials,\n",
    "Rtrials = where(direction==1)       #... and right trials,\n",
    "LRate = mean(train[Ltrials, :]) / 1e-3 #... and compute rates.\n",
    "RRate = mean(train[Rtrials, :]) / 1e-3"
   ]
  },
  {
   "cell_type": "markdown",
   "metadata": {},
   "source": [
    "<div class=\"question\">\n",
    "    \n",
    "**Q:** What do you conclude about the firing rates for the two types of trials?\n",
    "\n",
    "**A:** Upon executing these commands, we find `LRate = 58.66` and `RRate = 35.26`. These results suggest that the spiking rates for planning and movement in left trials are higher than the rates for right trials.\n",
    "\n",
    "</div>"
   ]
  },
  {
   "cell_type": "markdown",
   "metadata": {},
   "source": [
    "We have now shown that the average firing rate changes between planning and movement periods, and between left and right trials. One question that arises is how the changes pertaining to trial period and to trial direction are related. We have four categories to explore: planning for left trials, planning for right trials, movement on left trials, and movement on right trials. We could compute the mean firing rates in each of these categories. Instead, let’s examine the trial-to-trial distribution of firing rates in each category. Let’s sum the spiking over each 1 s planning or movement period for each trial type, and generate a box plot that visualizes these distributions:"
   ]
  },
  {
   "cell_type": "code",
   "execution_count": 11,
   "metadata": {},
   "outputs": [
    {
     "data": {
      "image/png": "[encoded data removed]",
      "text/plain": [
       "<Figure size 432x288 with 1 Axes>"
      ]
     },
     "metadata": {
      "needs_background": "light"
     },
     "output_type": "display_data"
    }
   ],
   "source": [
    "PlanL = sum(train[Ltrials][:,i_plan], axis = 1)   # Firing rate L, planning.\n",
    "PlanR = sum(train[Rtrials][:,i_plan], axis = 1)   # Firing rate R, planning.\n",
    "MoveL = sum(train[Ltrials][:,i_move], axis = 1)   # Firing rate L, movement.\n",
    "MoveR = sum(train[Rtrials][:,i_move], axis = 1)   # Firing rate R, movement.\n",
    "figure()\n",
    "boxplot([PlanL, PlanR, MoveL, MoveR], sym='+', \n",
    "        labels = ['Plan Left', 'Plan Right', 'Move Left', 'Move Right'])\n",
    "ylabel('Spike Rate (spikes/s)')\n",
    "show()\n"
   ]
  },
  {
   "cell_type": "markdown",
   "metadata": {},
   "source": [
    "<div class=\"question\">\n",
    "    \n",
    "**Q:** Have you used the function boxplot before? If not, look it up in Matplotlib Help.\n",
    "\n",
    "</div>"
   ]
  },
  {
   "cell_type": "markdown",
   "metadata": {},
   "source": [
    "<div class=\"question\">\n",
    "    \n",
    "**Q:** How do the variables in this code correspond to firing rates?\n",
    "\n",
    "**A:** In this case, the duration of the interval is 1 s for both planning and movement periods. Therefore, we may think of dividing each sum by 1 s, which does not affect the numerical values in the variables.\n",
    "\n",
    "</div>"
   ]
  },
  {
   "cell_type": "markdown",
   "metadata": {},
   "source": [
    "The box plot corroborates our previous findings that the firing rate is increased in left trials and in the movement period of each trial. Further, it suggests that these effects may occur independently and additively; the difference between left and right trials seems approximately the same for both planning and movement periods. At this stage, it would be natural to ask whether these differences between mean firing rates are statistically significant. We explore issues of significance later, and discuss why some traditional approaches for comparing means across groups (such as *t*-tests between pairs or analysis of variance between all groups) might not capture the structure in the data very well.\n",
    "\n",
    "While these visualizations have helped elucidate the long-term spiking structure over periods of about 1 s, they have not provided much information about short-term rhythmic structure. In chapter 8, we used interspike interval (ISI) histograms to help visualize fine time scale history dependence in spiking activity. Let’s do so again here. To compute the ISI histogram, we first need to compute the ISIs. One approach is to write a for-loop that iterates through each trial in the `train` matrix, finds the spike times, and computes the ISIs. However, in constructing the PSTH, we computed the variable `spiketimes`, which already contains the spike times in trial 1, followed by the spike times in trial 2, and so on, all in one array. If we compute the differences in these spike times, we will have the ISIs for each trial mixed with an occasional negative value when an element of spiketimes is the first spike time for any trial. Let’s eliminate these spurious values and plot a histogram of the ISIs:"
   ]
  },
  {
   "cell_type": "code",
   "execution_count": 12,
   "metadata": {},
   "outputs": [
    {
     "data": {
      "image/png": "[encoded data removed]",
      "text/plain": [
       "<Figure size 432x288 with 1 Axes>"
      ]
     },
     "metadata": {
      "needs_background": "light"
     },
     "output_type": "display_data"
    }
   ],
   "source": [
    "ISIs = diff(spiketimes)\n",
    "ISIs = ISIs[where(ISIs > 0)]\n",
    "hist = histogram(ISIs, 250)[0]\n",
    "\n",
    "bar(linspace(0, 250, 250), hist, width = 1)\n",
    "xlabel('Interspike Interval (ms)')\n",
    "ylabel('Count')\n",
    "title('Histogram of ISIs')\n",
    "show()\n"
   ]
  },
  {
   "cell_type": "markdown",
   "metadata": {},
   "source": [
    "<div class=\"question\">\n",
    "    \n",
    "**Q:** Can you think of a way this code might lead to incorrect computation of the ISIs? Did this happen for this dataset?\n",
    "\n",
    "**A:** If the last spike in any given trial occurred at an earlier time than the first spike in the subsequent trial, then the ISI computed between trials would not be negative and would not be removed. This never happens in these data, but it suggests that we should be careful when we code various procedures to think about the possible outcomes.\n",
    "\n",
    "</div>"
   ]
  },
  {
   "cell_type": "markdown",
   "metadata": {},
   "source": [
    "The ISI histogram in the above figure reveals a few interesting features, including a short relative refractory period (fewer ISIs near 0 ms) and a large number of ISIs near about 6 ms, suggesting bursting activity (i.e., times of rapid spiking with small intervals between spikes). However, it is difficult to see any structure that looks like clear rhythmic spiking, such as a large second peak at longer ISIs. Let’s see if there is a difference in the ISI distributions for planning and movement periods:"
   ]
  },
  {
   "cell_type": "code",
   "execution_count": 13,
   "metadata": {
    "scrolled": true
   },
   "outputs": [
    {
     "data": {
      "image/png": "[encoded data removed]",
      "text/plain": [
       "<Figure size 864x216 with 2 Axes>"
      ]
     },
     "metadata": {
      "needs_background": "light"
     },
     "output_type": "display_data"
    }
   ],
   "source": [
    "#In the planning period,       \n",
    "spiketrialsPlan, spiketimesPlan = where(train[:,i_plan] > 0) # find spikes\n",
    "PlanISIs = diff(spiketimesPlan)                            # compute ISIs,\n",
    "PlanISIs = PlanISIs[where(PlanISIs > 0)]                   # drop spurious ones,\n",
    "planhist = histogram(PlanISIs, 250)[0]\n",
    "\n",
    "figure(figsize=(12, 3))\n",
    "subplot(121)\n",
    "bar(linspace(0, 250, 250), planhist, width = 2)            # plot ISIs\n",
    "xlabel('Interspike Interval (ms)')                         # label axes\n",
    "ylabel('Count')\n",
    "title('Planning')\n",
    "\n",
    "\n",
    "#In the movement period,       \n",
    "spiketrialsMove, spiketimesMove = where(train[:, i_move] > 0) # find spikes\n",
    "MoveISIs = diff(spiketimesMove)                            # compute ISIs,\n",
    "MoveISIs = MoveISIs[where(MoveISIs>0)]                     # drop spurious ones,\n",
    "movehist = histogram(MoveISIs, 250)[0]\n",
    "\n",
    "subplot(122)\n",
    "bar(linspace(0, 250, 250), movehist, width = 2)            # plot ISIs\n",
    "xlabel('Interspike Interval (ms)')                         # label axes\n",
    "ylabel('Count')\n",
    "title('Movement')\n",
    "show()"
   ]
  },
  {
   "cell_type": "markdown",
   "metadata": {},
   "source": [
    "<div class=\"question\">\n",
    "    \n",
    "**Q:** What features differ between the ISI histograms for the planning and movement periods, shown above?\n",
    "\n",
    "**A:** There are a few notable differences between the ISI histograms in the two periods. The total number of ISIs is larger during the movement period, corroborating our earlier finding that the firing rate is higher during this period. The peak in the ISI distribution around 6 ms seems more pronounced during movement, suggesting a higher tendency to fire in bursts. There may be some differences in the tail structure of the ISI distribution at ISI values above 20 ms, but it is difficult to relate this to differences in rhythmic spiking structure.\n",
    "\n",
    "</div>"
   ]
  },
  {
   "cell_type": "markdown",
   "metadata": {},
   "source": [
    "In [chapter 8](../08), we also used the sample autocorrelation function (ACF) to visualize history-dependent spiking properties. Recall that the ACF shows the correlation between a signal at two points in time separated by a fixed lag, evaluated over different values of the lag. For these spike train data, let’s use the increments (i.e., the number of spikes in each time bin) as the signal, compute the ACF for each trial, and average the results over all the trials."
   ]
  },
  {
   "cell_type": "code",
   "execution_count": 14,
   "metadata": {},
   "outputs": [
    {
     "data": {
      "image/png": "[encoded data removed]",
      "text/plain": [
       "<Figure size 864x216 with 2 Axes>"
      ]
     },
     "metadata": {
      "needs_background": "light"
     },
     "output_type": "display_data"
    }
   ],
   "source": [
    "acf1 = zeros((50, 1999))\n",
    "acf2 = zeros((50, 1999))\n",
    "\n",
    "for k in range(50):\n",
    "    plan = train[k, i_plan]  # get planning data,\n",
    "    move = train[k, i_move]  # get movement data,\n",
    "    corr1 = correlate(plan - mean(plan), plan - mean(plan), 'full')\n",
    "    acf1[k] = corr1 / linalg.norm(plan - mean(plan))**2                    #Normalize autocorrelation\n",
    "    corr2 = correlate(move - mean(move), move - mean(move), 'full')\n",
    "    acf2[k] = corr2 / linalg.norm(move - mean(move))**2                    #Normalize autocorrelation\n",
    "    \n",
    "figure(figsize=(12, 3))\n",
    "subplot(121)\n",
    "stem(mean(acf1[:,1000:1100], axis = 0))\n",
    "xlabel('Lag [ms]')\n",
    "ylabel('Autocorrelation')\n",
    "title('Planning')\n",
    "\n",
    "subplot(122)\n",
    "stem(mean(acf2[:,1000:1100], axis = 0))\n",
    "xlabel('Lag [ms]')\n",
    "ylabel('Autocorrelation')\n",
    "title('Movement')\n",
    "show()"
   ]
  },
  {
   "cell_type": "markdown",
   "metadata": {},
   "source": [
    "<div class=\"question\">\n",
    "    \n",
    "**Q:** Why do we examine the variables acf1 and acf2 at columns 1000:1100?\n",
    "\n",
    "**A:** The columns of both matrices specify the lags, which extend from  1 s to +1 s. We choose indices 1000:1100 to investigate positive lags beginning at 1 ms and ending at 100 ms. Notice that we compute the mean of both matrices across trials (rows) before displaying the results.\n",
    "\n",
    "</div>"
   ]
  },
  {
   "cell_type": "markdown",
   "metadata": {},
   "source": [
    "The autocorrelation plots for both the planning and movement periods show very clear structure. In both periods we see negative correlation for lags of 1–3 ms, followed by positive correlation at lags of 1–8 ms, with a peak at a lag of 6 ms. During the planning period, we see clear structure continuing at higher lags, with an extended period of negative correlations at lags of about 15–35 ms and positive correlations at lags of about 50–70 ms. For the movement period, this structure at lags longer than about 10 ms seems reduced or even absent. These results suggest a change in the rhythmic firing properties between the planning and movement periods. The second peak in the autocorrelation plot for the planning period around 60 ms suggests a 1/60 ms $\\approx$17 Hz rhythm that disappears during movement."
   ]
  },
  {
   "cell_type": "markdown",
   "metadata": {},
   "source": [
    "[Back to top](#top)\n",
    "\n",
    "### Spectral Analysis of Spiking Data <a id=\"spectral-analysis\"></a>\n",
    "\n",
    "So far, we have focused on statistical characterizations of spike trains in the time domain. Another approach to visualizing and describing structure in point processes focuses on estimating rhythmic (or harmonic) features of the data in the frequency domain. In [chapters 3](../03) and [4](../04), we discussed methods to decompose field data (or continuous valued functions and random processes) into harmonic components. The same type of approach can be used to decompose point processes and to determine the relative contributions to their variability attributable to each frequency. Point process spectral estimation provides a useful tool for spike train analysis but should be performed with care. On the one hand, computing spectral estimates for discrete spike train data is similar to the approaches used for continuous valued signals. On the other hand, the interpretation of point process spectra can differ from continuous process spectra, and blindly applying intuition from continuous spectral estimation to point process data can lead to incorrect interpretations.\n",
    "\n",
    "#### Point Process Spectral Theory. \n",
    "\n",
    "In this section, we develop some of the theory needed to understand and interpret spectral estimators for spiking data. As with the spectrum for continuous valued processes (chapter 3), the spectrum for a point process can be expressed as the Fourier transform of its autocovariance function. In discrete time, assume we have binned the spiking activity into intervals of length $\\Delta t$, and that $\\Delta N_i$ represents the number of spikes fired in the $i^{th}$ interval, which is called the $i^{th}$ increment. The autocovariance sequence is then\n",
    "\n",
    "\\begin{align}\n",
    "\\gamma(h) &=E[(\\Delta N_i - \\lambda_0\\Delta t)( \\Delta N_{i+h} - \\lambda_0\\Delta t)]\\\\\n",
    "&=E[\\Delta N_i \\Delta N_{i + h}] - (\\lambda_0 \\Delta t)^2\n",
    "\\end{align}\n",
    "\n",
    "where  $\\lambda_0 \\Delta t$ is the expected number of spikes in a single time bin. The discrete spectrum is the discrete Fourier transform of this sequence. Using this definition, we can compute the theoretical autocovariance and spectrum for any stationary point process model.\n",
    "\n",
    "**Example 1: Spectral density of a homogeneous Poisson process.** For a homogeneous Poisson process, the increments $\\Delta N_i$ are independent, and each has a Poisson distribution with the same mean. Assume the mean number of spikes in any bin is  $\\lambda_0 \\Delta t$. Since the mean and variance of a Poisson random variable are the same (see chapter 8 appendix), this is also the variance of any increment. The autocovariance at a lag $h = 0$ is just the variance of $\\Delta N_i$, which is  $\\lambda_0 \\Delta t$. At any other lag, the increments are independent and therefore the autocovariance is zero. The autocovariance function is given by\n",
    "\n",
    "<p title=\"homogeneous\">$$\\gamma(h) = \\begin{cases}\n",
    "\\lambda_0 \\Delta t & \\text{if }h = 0,\\\\\n",
    "0 & \\text{otherwise}.\\\\\n",
    "\\end{cases}$$</p>\n",
    "\n",
    "The spectral density of this homogeneous Poisson process is the Fourier transform of this autocovariance sequence in the limit as $\\Delta t \\to 0$, which is\n",
    "\n",
    "$$F(\\omega)=\\lambda _ 0.$$\n",
    "\n",
    "The Fourier transform $F(\\omega)$ does not vary as a function of $\\omega$, that is, the spectral density is flat. This suggests that constant power is required at all frequencies to describe a homogeneous Poisson process. This is the point process analogue of white noise.\n",
    "\n",
    "**Example 2: Spectral density of a refractory point process.**\n",
    "\n",
    "Assume now that we modify the spiking process to include a relative refractory period. We do this by adding a negative autocorrelation at small lags that diminishes in magnitude as the lag increases. Thus, a spike 1 ms in the past would substantially decrease the probability of observing another spike in the current time interval, but a spike many milliseconds in the past would have little to no effect on the current spike probability. Mathematically, we assume that the autocovariance function has the form\n",
    "\n",
    "$$\\gamma(h) = \\begin{cases}\n",
    "\\lambda_0 \\Delta t  - \\alpha f_{\\sigma}(h) & \\text{if }h = 0,\\\\\n",
    "-\\alpha f_{\\sigma}(h) & \\text{otherwise},\\\\\n",
    "\\end{cases}$$\n",
    "\n",
    "where $\\alpha$ is a constant representing the degree of refractoriness, and $f_{\\sigma}(h)$ is the Gaussian function (or equivalently, the normal probability density function) with a mean of zero, and a standard deviation of $\\sigma$. Let's define some functions so that we can look at some examples of how different values of ${\\sigma}$ affect $\\gamma(h)$."
   ]
  },
  {
   "cell_type": "code",
   "execution_count": 15,
   "metadata": {},
   "outputs": [],
   "source": [
    "# Define f_sigma(h) as a gaussian with default mean (mu=0) \n",
    "# and standard deviation (sig=1)\n",
    "def gaussian(x, mu=0, sig=1):\n",
    "    return exp(-pow(x - mu, 2) / (2 * pow(sig, 2)))\n",
    "\n",
    "\n",
    "# Define some default parameter values for the autocovariance function\n",
    "lbda0, alpha, dt = .01, 1e-4, 1e-3\n",
    "\n",
    "# Define gamma, again with some default values for the parameters\n",
    "def gamma(lag, sig, lbda0=lbda0, dt=dt, alpha=alpha):\n",
    "    if lag==0:\n",
    "        return lbda0 * dt - alpha * gaussian(lag, sig=sig)\n",
    "    else:\n",
    "        return -alpha * gaussian(lag, sig=sig)\n",
    "    "
   ]
  },
  {
   "cell_type": "markdown",
   "metadata": {},
   "source": [
    "Now that we have the functions, try plugging in different values of `sig`."
   ]
  },
  {
   "cell_type": "code",
   "execution_count": 16,
   "metadata": {},
   "outputs": [
    {
     "data": {
      "image/png": "[encoded data removed]",
      "text/plain": [
       "<Figure size 432x288 with 1 Axes>"
      ]
     },
     "metadata": {
      "needs_background": "light"
     },
     "output_type": "display_data"
    }
   ],
   "source": [
    "sig = 2\n",
    "autocov = [gamma(lag, sig) for lag in range(1, 60)]\n",
    "stem(autocov)\n",
    "xlabel('Lag (ms)')\n",
    "ylabel('Autocovariance')\n",
    "title('σ = {:}'.format(sig))\n",
    "ylim([-1.5e-4, 1.5e-4])\n",
    "show()"
   ]
  },
  {
   "cell_type": "markdown",
   "metadata": {
    "collapsed": true
   },
   "source": [
    "The reason we chose the Gaussian function is that it captures a smooth decay of the refractory effect and its Fourier transform is easy to compute. The spectral density $F(\\omega)$ of this refractory point process is\n",
    "\n",
    "$$F(\\omega)  = \\lambda_0 - \\alpha \\sqrt{2\\pi\\sigma} \\cdot f_{1/\\sigma} (\\omega).$$"
   ]
  },
  {
   "cell_type": "markdown",
   "metadata": {
    "collapsed": true
   },
   "source": [
    "This spectral density does depend on $\\omega$; as $\\omega$ becomes large, $f_{1/\\sigma}(\\omega)$ goes to zero and the spectrum approaches the constant level of a Poisson process; however, as $\\omega$ becomes small, the spectrum decreases below this level. Therefore, the effect of the refractory period on the spectrum is a dip at low frequencies. Adjust the value of `sig` in the following code block to verify this for different values of $\\sigma$."
   ]
  },
  {
   "cell_type": "code",
   "execution_count": 17,
   "metadata": {
    "scrolled": false
   },
   "outputs": [
    {
     "data": {
      "image/png": "[encoded data removed]",
      "text/plain": [
       "<Figure size 432x288 with 1 Axes>"
      ]
     },
     "metadata": {
      "needs_background": "light"
     },
     "output_type": "display_data"
    }
   ],
   "source": [
    "sig = 2\n",
    "\n",
    "# Compute F(omega)\n",
    "spectral_density = (lbda0 - \n",
    "                    alpha * sqrt(2 * pi * sig) * \n",
    "                    gaussian(arange(0, 1, dt), sig=1/sig))\n",
    "plot(spectral_density * 1 / dt)  # Plot the spectral density in Hz\n",
    "xlabel('Frequency (Hz)')  # ... with axes labeled\n",
    "ylabel('Spectral Density (Hz)')\n",
    "show()"
   ]
  },
  {
   "cell_type": "markdown",
   "metadata": {
    "collapsed": true
   },
   "source": [
    "You should observe that the extent of this decrease in power in the frequency domain is inversely proportional to the extent of the refractory period in the time domain. When $\\sigma= 2$ ms, the dip in the spectrum is small but extends all the way out beyond 500 Hz. If you evaluate $\\sigma= 20$ ms, for example, the dip in the spectrum is larger but only extends out to about 100 Hz.\n",
    "\n",
    "It may seem strange that considerable power remains at high frequencies even though the refractory period decreases the probability that the spike train fires at frequencies higher than $1/\\sigma$ . The explanation for this apparent incongruity is that the high-frequency power is not only related to the probability of firing at high frequencies but is also necessary to generate the impulse profile of each spike event. As frequency becomes large, the power spectral density of any point process will asymptote to $\\lambda_0$, the expected spike rate, not to zero.\n",
    "\n",
    "This example illustrates a counterintuitive result. To understand the mean firing rate of a spiking process, we look to the high end of the spectrum, and to understand whether refractoriness prevents high-frequency spiking, we look to the low end of the spectrum. This is one reason it is important to be careful when interpreting spectral estimators for point processes."
   ]
  },
  {
   "cell_type": "markdown",
   "metadata": {
    "collapsed": true
   },
   "source": [
    "**Spectral Estimates for STN Data.**\n",
    "\n",
    "With a new appreciation for interpreting point process spectra, let’s compute spectral estimators for the STN data for the planning and movement periods. As in chapters [4](../04) and [5](../05), we use multitaper spectral estimators. Since the data follow a trial structure, we compute estimators for each trial and average the results across trials. The planning and movement periods for each trial are 1 s in duration, so we can achieve a 4 Hz frequency resolution by setting the time-bandwidth product to 4. This allows us to use seven tapers, each providing independent and informative estimates. "
   ]
  },
  {
   "cell_type": "markdown",
   "metadata": {
    "collapsed": true
   },
   "source": [
    "<div class=\"python-note\">\n",
    "\n",
    "Here, we again compute the spectrum by hand. The main reason for this is that we are working with point process data and most packages assume that a signal is continuous. Below, we define a function, `mt_spec` to calculate spectrum. The line marked with a pair of asterisks (**) is where the computation of the spectrum of point process data differs from that of continuous data. In this case, because the mean firing rate is so low, the difference is trivial. Using the `multi_taper_psd()` function from the [Nitime](http://nipy.org/nitime/documentation.html) package produces nearly the same result, though it must be rescaled to see this. Try the following to compare results from the packaged function to those from the function we define below.\n",
    "\n",
    "    from nitime.algorithms import multi_taper_psd\n",
    "    f, SPlanP, var = multi_taper_psd(train[:, i_plan] * Fs, Fs=1000, NW=4)\n",
    "    SPlan *= Fs ** 2 / 2\n",
    "\n",
    "</div>"
   ]
  },
  {
   "cell_type": "code",
   "execution_count": 18,
   "metadata": {},
   "outputs": [],
   "source": [
    "def mt_specpb(data, Fs=1000, NW=4, trial_ave=True):\n",
    "    \n",
    "    tapers, _ = dpss_windows(data.shape[-1], NW, 2*NW-1)  # Compute the tapers\n",
    "    tapers *= sqrt(Fs)  # ... and scale them\n",
    "    \n",
    "    dataT = [[trial * t for t in tapers]  # Multiply the data by the tapers\n",
    "             for trial in data]  # ... for each trial in the data\n",
    "    T = fft.rfft(tapers)  # Compute the fft of the tapers\n",
    "    J = fft.rfft(dataT)  # Compute the fft of the tapered data\n",
    "    # Recall that rfft assumes the data are real, and thus \n",
    "    J -= [T * trial.mean() for trial in data]  # Subtract the dc (**)\n",
    "    J *= J.conj()  # Compute the spectrum\n",
    "    S = J.mean(1).real\n",
    "    f = fft.rfftfreq(data.shape[-1], 1 / Fs)\n",
    "    if trial_ave : S = S.mean(0) \n",
    "    return f, S\n"
   ]
  },
  {
   "cell_type": "code",
   "execution_count": 19,
   "metadata": {},
   "outputs": [],
   "source": [
    "f, SPlan = mt_specpb(train[:, i_plan])\n",
    "_, SMove = mt_specpb(train[:, i_move])"
   ]
  },
  {
   "cell_type": "code",
   "execution_count": 20,
   "metadata": {},
   "outputs": [
    {
     "data": {
      "image/png": "[encoded data removed]",
      "text/plain": [
       "<Figure size 864x576 with 2 Axes>"
      ]
     },
     "metadata": {
      "needs_background": "light"
     },
     "output_type": "display_data"
    }
   ],
   "source": [
    "_, a = subplots(2, 1, figsize=(12, 8))  # Create a figure with two subplots;\n",
    "a[0].plot(f, SPlan)  # ... plot the planning period,\n",
    "a[1].plot(f, SMove)  # ... and the movement period\n",
    "\n",
    "a[0].set_title('Planning')  # ... with axes labeled\n",
    "a[1].set_title('Movement')\n",
    "a[1].set_xlabel('Freq (Hz)')\n",
    "[ia.set_ylabel('Power (Hz)') for ia in a]\n",
    "savefig('imgs/10-10.png')"
   ]
  },
  {
   "cell_type": "markdown",
   "metadata": {},
   "source": [
    "A number of distinct features are evident in these spectral estimates for the planning and movement periods. At higher frequencies, the spectral density for the planning period asymptotes to about 35 Hz, while for the movement period it asymptotes closer to 55 Hz. This corroborates our previous results based on the observed mean firing rates. Both spectral estimates show a decrease at frequencies below 200 Hz, suggesting an approximately 5 ms refractory period. However, in the planning period, we see a large peak at about 18 Hz that does not appear during the movement period. This suggests that the STN neuron spikes rhythmically during the planning period and that this rhythm is attenuated during movement.\n",
    "\n",
    "Here we have separated each trial into planning and movement periods and computed separate spectral estimates for each period. This assumes that the data are stationary—that the mean and autocovariance structure do not change in time—during the planning period, that there is a sudden change between the planning and movement period, and that the data are stationary again during the movement period. Is this a reasonable assumption? One way to explore this is to compute a spectrogram, as we did in [chapter 3](../03). Let’s use a moving window of 500 ms duration and a step size of 50 ms."
   ]
  },
  {
   "cell_type": "markdown",
   "metadata": {},
   "source": [
    "<div class=\"question\">\n",
    "\n",
    "**Q.** Since the duration of the moving window is 500 ms, if we want to maintain a frequency resolution of 4 Hz, what is the time-bandwidth product and number of tapers?\n",
    "\n",
    "**A.** The time-bandwidth product is 0.5 s &times; 4 Hz = 2. In this case, we therefore have three tapers that provide informative, independent estimates of the spectrum.\n",
    "\n",
    "</div>"
   ]
  },
  {
   "cell_type": "markdown",
   "metadata": {},
   "source": [
    "We also focus on the frequency range from 0 to 50 Hz, which includes the large peak near 18 Hz that we previously observed during the planning period."
   ]
  },
  {
   "cell_type": "code",
   "execution_count": 21,
   "metadata": {},
   "outputs": [],
   "source": [
    "window, step = .5, .05  # Define the duration and step size for the spectrogram in seconds\n",
    "fpass = [0, 50]  # Define the frequency band of interest\n",
    "Fs = 1000  # ... and sampling rate\n",
    "\n",
    "window, step = [int(Fs * x) for x in [window, step]]  # Convert step and window to samples\n",
    "starts = range(0, train.shape[-1] - window, step)  # Determine where spectrogram windows should start\n",
    "f = mt_specpb(train[:, range(window)], NW=2)[0]  # Get the frequencies,\n",
    "findx = (f >= fpass[0]) & (f <= fpass[1])  # ... create a mask of frequencies of interest,\n",
    "f = f[findx]  # ... and filter to frequencies of interest\n",
    "spectrogram = [mt_specpb(train[:, range(s, s + window)], NW=2)[1][findx]  # Compute the spectrum on each 500 ms window\n",
    "               for s in starts]  # ... starting every 50 ms\n"
   ]
  },
  {
   "cell_type": "code",
   "execution_count": 22,
   "metadata": {},
   "outputs": [
    {
     "data": {
      "image/png": "[encoded data removed]",
      "text/plain": [
       "<Figure size 432x288 with 2 Axes>"
      ]
     },
     "metadata": {
      "needs_background": "light"
     },
     "output_type": "display_data"
    }
   ],
   "source": [
    "T = t[starts] + window / 2  # Centers of spectrogram windows\n",
    "\n",
    "# Plot the result\n",
    "contourf(T, f, array(spectrogram).T)  # Also consider using pcolormesh instead of contourf\n",
    "\n",
    "# Prettify\n",
    "title('Trial averaged spectrogram of spiking data across\\n planning and movement periods')\n",
    "xlabel('Time [ms]')\n",
    "ylabel('Frequency [Hz]')\n",
    "colorbar()\n",
    "savefig('imgs/10-11.png')\n",
    "show()"
   ]
  },
  {
   "cell_type": "markdown",
   "metadata": {},
   "source": [
    "<div class=\"question\">\n",
    "    \n",
    "**Q.** What features do you observe in the spectrogram of the spike train data? How do these features change between the planning and movement periods?\n",
    "\n",
    "**A.** The period before time 0 s, corresponding to the planning period, shows a clear peak at 15–20 Hz. As we approach time 0 s, there is a rapid change in the spectral structure. The peak starts to vanish, not only because the spectral density at 15–20 Hz decreases but also because the spectral density across all frequencies increases. This reflects a combination of a change in rhythmic spiking and a change in the overall firing rate. The fact that the spectral content seems to undergo a sudden shift from one regime (planning) to another regime (movement) suggests that it is reasonable to construct models with different spike dynamics in these two periods.\n",
    "\n",
    "</div>    "
   ]
  },
  {
   "cell_type": "markdown",
   "metadata": {},
   "source": [
    "<div class=\"python-note\">\n",
    "    \n",
    "To make the figure above we used the `contour()` function. This function breaks the data into bins and then does some spatial interpolation so that it appears less pixelated. Try using `pcolormesh()` instead of `contour()`. Note: we could have used `imshow()` like we did to make the [raster plots](#fig:raster)<span class=\"sup\">fig<img src=\"imgs/raster.png\"></span>, but labeling the axes with `contour()` and `pcolormesh()` is more straightforward.\n",
    "\n",
    "</div>"
   ]
  },
  {
   "cell_type": "markdown",
   "metadata": {},
   "source": [
    "[Back to top](#top)\n",
    "\n",
    "<a id=\"ppm\"></a>\n",
    "### Point Process Models\n",
    "\n",
    "So far we have focused on descriptive statistics and visualization methods to characterize the properties of the spike train data. In [chapter 9](../09), we developed point process models to understand the factors influencing a spiking process. We can use the same types of models to describe how past spiking activity influences future activity to produce rhythmic spiking and other forms of history dependence. In doing so, we utilize all the tools that we previously developed for point process modeling: tools to fit parameters and construct confidence bounds, tools to measure the goodness-of-fit between the model and the data, and tools for testing whether individual model components or combinations of components provide significant improvements in fitting the data.\n",
    "\n",
    "In this case study, we continue to use a specific class of models, GLMs for point processes. As discussed in [chapter 9](../09), GLMs have a number of attractive properties, including the fact that we can guarantee that the likelihood of the data as a function of the model parameters is convex and therefore has one peak that is easy to find. As in [chapter 9](../09), we will use the Statsmodels package to fit our GLM parameters. Let's revisit how to do this. \n",
    "\n",
    "[**TBD: go back and fill in explanation of glm.fit()**]\n",
    "\n",
    "The first input to this function is the design matrix or predictors. This is an $n \\times p$ matrix, where n is the total number of time steps in the dataset, and p is the number of predictors in the model. For these data, we have 50 trials, each comprising 2,000 time steps, so $n = 50 \\times 2000 = 100,000$ data points. The second input to glmfit is the response vector—the spike train—which is an $n \\times 1$ vector. We have to reshape the spike train to be one long vector containing all the trials sequentially, and also construct the design matrix accordingly. The third input is the GLM distribution to use. Here we assume that the spike count in each bin is approximately Poisson, as we did in [chapter 9](../09). Recall that by selecting the Poisson GLM, we implicitly use a log link function. In other words, we set the log of the firing rate to be a linear function of the predictors and model parameters. Equivalently, we construct a model of the form $\\lambda(t) = e^{\\beta X(t)}$, where $\\lambda(t)$ is the spiking intensity at time $t$, $X(t)$ is a $p \\times 1$ column vector of the predictors at time t, and $\\beta$ is a $1 \\times p$ column vector of the model parameters. Since each bin contains either 0 or 1 spike, we could also use the binomial distribution with a maximum of one count in each bin. However, choosing the Poisson count distribution will make it easier to interpret the resulting models.\n",
    "\n",
    "One important note: Although we are approximating the number of spikes in each bin as Poisson, this does not mean we are modeling the data as a Poisson process. A Poisson process is one that has Poisson spike counts in each interval but also requires that the counts in two separate intervals be independent. Here, we explicitly model the spike count in one bin as a function of the number of spikes fired in previous bins. Therefore, the spike counts will not be independent between bins."
   ]
  },
  {
   "cell_type": "markdown",
   "metadata": {},
   "source": [
    "#### Model 1\n",
    "\n",
    "Let’s build a model to compare the firing rate between the planning and movement periods; subsequent models will also include the effects of history dependence. In this model, the design matrix consists of one column that is zero whenever $t < 0$, corresponding to the planning period, and that is 1 whenever $t \\geq 0$, corresponding to the movement period. The resulting model has the form<a id=\"model:1\"></a>"
   ]
  },
  {
   "cell_type": "markdown",
   "metadata": {},
   "source": [
    "<a id=\"eq:3\"></a>\n",
    "$$\n",
    "\\lambda(t) = e^{\\beta_0 + \\beta_1 I_\\text{move}(t)},\n",
    "\\tag{Model 1}\n",
    "$$\n"
   ]
  },
  {
   "cell_type": "markdown",
   "metadata": {},
   "source": [
    "where $I_\\text{move}(t)$ is the movement period indicator function. We must also remember to reshape the spike train matrix into a single response vector $y$.\n",
    "<a id=\"repeatvtile\"></a>"
   ]
  },
  {
   "cell_type": "code",
   "execution_count": 23,
   "metadata": {},
   "outputs": [
    {
     "data": {
      "text/html": [
       "<table class=\"simpletable\">\n",
       "<caption>Generalized Linear Model Regression Results</caption>\n",
       "<tr>\n",
       "  <th>Dep. Variable:</th>        <td>spikes</td>      <th>  No. Observations:  </th>  <td>100000</td> \n",
       "</tr>\n",
       "<tr>\n",
       "  <th>Model:</th>                  <td>GLM</td>       <th>  Df Residuals:      </th>  <td> 99998</td> \n",
       "</tr>\n",
       "<tr>\n",
       "  <th>Model Family:</th>         <td>Poisson</td>     <th>  Df Model:          </th>  <td>     1</td> \n",
       "</tr>\n",
       "<tr>\n",
       "  <th>Link Function:</th>          <td>log</td>       <th>  Scale:             </th> <td>  1.0000</td>\n",
       "</tr>\n",
       "<tr>\n",
       "  <th>Method:</th>                <td>IRLS</td>       <th>  Log-Likelihood:    </th> <td> -18990.</td>\n",
       "</tr>\n",
       "<tr>\n",
       "  <th>Date:</th>            <td>Thu, 29 Aug 2019</td> <th>  Deviance:          </th> <td>  28588.</td>\n",
       "</tr>\n",
       "<tr>\n",
       "  <th>Time:</th>                <td>11:59:58</td>     <th>  Pearson chi2:      </th> <td>9.53e+04</td>\n",
       "</tr>\n",
       "<tr>\n",
       "  <th>No. Iterations:</th>          <td>6</td>        <th>                     </th>     <td> </td>   \n",
       "</tr>\n",
       "<tr>\n",
       "  <th>Covariance Type:</th>     <td>nonrobust</td>    <th>                     </th>     <td> </td>   \n",
       "</tr>\n",
       "</table>\n",
       "<table class=\"simpletable\">\n",
       "<tr>\n",
       "        <td></td>           <th>coef</th>     <th>std err</th>      <th>z</th>      <th>P>|z|</th>  <th>[0.025</th>    <th>0.975]</th>  \n",
       "</tr>\n",
       "<tr>\n",
       "  <th>Intercept</th>     <td>   -3.2452</td> <td>    0.023</td> <td> -143.232</td> <td> 0.000</td> <td>   -3.290</td> <td>   -3.201</td>\n",
       "</tr>\n",
       "<tr>\n",
       "  <th>IMove[T.True]</th> <td>    0.3441</td> <td>    0.030</td> <td>   11.617</td> <td> 0.000</td> <td>    0.286</td> <td>    0.402</td>\n",
       "</tr>\n",
       "</table>"
      ],
      "text/plain": [
       "<class 'statsmodels.iolib.summary.Summary'>\n",
       "\"\"\"\n",
       "                 Generalized Linear Model Regression Results                  \n",
       "==============================================================================\n",
       "Dep. Variable:                 spikes   No. Observations:               100000\n",
       "Model:                            GLM   Df Residuals:                    99998\n",
       "Model Family:                 Poisson   Df Model:                            1\n",
       "Link Function:                    log   Scale:                          1.0000\n",
       "Method:                          IRLS   Log-Likelihood:                -18990.\n",
       "Date:                Thu, 29 Aug 2019   Deviance:                       28588.\n",
       "Time:                        11:59:58   Pearson chi2:                 9.53e+04\n",
       "No. Iterations:                     6                                         \n",
       "Covariance Type:            nonrobust                                         \n",
       "=================================================================================\n",
       "                    coef    std err          z      P>|z|      [0.025      0.975]\n",
       "---------------------------------------------------------------------------------\n",
       "Intercept        -3.2452      0.023   -143.232      0.000      -3.290      -3.201\n",
       "IMove[T.True]     0.3441      0.030     11.617      0.000       0.286       0.402\n",
       "=================================================================================\n",
       "\"\"\""
      ]
     },
     "execution_count": 23,
     "metadata": {},
     "output_type": "execute_result"
    }
   ],
   "source": [
    "nTrial, nTime = train.shape  # Number of trials and number of time points\n",
    "IMove = tile(t >= 0, nTrial)  # Define when the animal is moving\n",
    "spikes = train.flatten()  # Reshape the trials into a single vector\n",
    "glmdata = df({'IMove': IMove, 'spikes': spikes})  # Create a dataframe with the data to fit\n",
    "M1 = smf.glm('spikes ~ IMove',  # Write a formula to fit y as a function of IMove,\n",
    "             data=glmdata, family=sm.families.Poisson()  # ... supply the data,\n",
    "            ).fit()  # ... and fit the model\n",
    "M1.summary()  # Show results of the fit\n"
   ]
  },
  {
   "cell_type": "markdown",
   "metadata": {},
   "source": [
    "The variable `M1` now contains all the information we will need about our model fit. This includes the fitted parameters (`M1.params`), model deviance (`M1.deviance`), and standard error (`M1.bse`), among [others](http://www.statsmodels.org/dev/generated/statsmodels.genmod.generalized_linear_model.GLMResults.html#statsmodels.genmod.generalized_linear_model.GLMResults). Let’s examine the model parameters, remembering to exponentiate them to improve interpretability."
   ]
  },
  {
   "cell_type": "code",
   "execution_count": 24,
   "metadata": {},
   "outputs": [
    {
     "data": {
      "text/plain": [
       "Intercept        0.038960\n",
       "IMove[T.True]    1.410678\n",
       "dtype: float64"
      ]
     },
     "execution_count": 24,
     "metadata": {},
     "output_type": "execute_result"
    }
   ],
   "source": [
    "exp(M1.params)"
   ]
  },
  {
   "cell_type": "markdown",
   "metadata": {},
   "source": [
    "The first parameter estimate indicates that the firing rate during the planning period is `exp(b1[0])=0.0390` spikes/ms or 39 spikes/s. The second parameter estimate indicates that during the movement period the firing rate is modulated by `exp(b1[1])=1.4107`; it increases by 41%."
   ]
  },
  {
   "cell_type": "markdown",
   "metadata": {},
   "source": [
    "<div class=\"question\">\n",
    "    \n",
    "**Q.** Is this 41% increase significant, or is it likely to occur by chance under this model?\n",
    "\n",
    "**A.** To answer this, let’s use the `conf_int()` method on the model result:\n",
    "\n",
    "    exp(M1.conf_int(.05))\n",
    "\n",
    "We find the 95% confidence interval [1.3297, 1.4965], which suggests that the firing rate during the movement period is between 33% and 50% higher than the planning period. The fact that this interval does not contain 1 suggests that this effect is significant at the 0.05 level. More directly, we can examine the p-value for this parameter (based on a Wald test) having a nonzero modulation.\n",
    "\n",
    "    M1.pvalues;     %p-value from Wald test.\n",
    " \n",
    "We find p = 3.3864e-31 and are therefore quite certain that the difference in firing rate between the planning and movement periods is real.\n",
    "\n",
    "</div>"
   ]
  },
  {
   "cell_type": "markdown",
   "metadata": {},
   "source": [
    "<div class=\"math-note\">\n",
    "    \n",
    "A common practice is to calculate the upper (lower) confidence bounds by adding (subtracting) twice the standard deviation. If you do this, you will notice that the bounds you get will not be identical to what you see when you use `M1.conf_int(.05)`. The reason is that in a normal distribution, there is actually slightly more than 95% of the data within two standard deviations of the mean&mdash;more like [95.45%](https://en.wikipedia.org/wiki/Normal_distribution#Cumulative_distribution_function). This means that if you compute the confidence bounds using the two standard deviations rule of thumb, you will get a very slightly wider confidence interval.\n",
    "    \n",
    "</div>"
   ]
  },
  {
   "cell_type": "markdown",
   "metadata": {},
   "source": [
    "In other case studies (see chapters [8](../08) and [9](../09)), we explored a number of tools to assess goodness-of-fit of spiking models. Here, we examine just a few of these tools to investigate how well the initial simple model fits the spiking data. First, let’s construct a KS plot of the rescaled interspike intervals. We compute the estimated firing rate based on the model:"
   ]
  },
  {
   "cell_type": "code",
   "execution_count": 25,
   "metadata": {},
   "outputs": [],
   "source": [
    "lambda1 = M1.predict(glmdata)  # Predict firing rate of Model 1"
   ]
  },
  {
   "cell_type": "markdown",
   "metadata": {},
   "source": [
    "Next, we compute the rescaled intervals by integrating, or in this case summing, the esti-\n",
    "mated rate between spike times:"
   ]
  },
  {
   "cell_type": "code",
   "execution_count": 26,
   "metadata": {},
   "outputs": [],
   "source": [
    "spikeindex = where(spikes)[0]  # Find spikes\n",
    "Z = [sum(lambda1[a:b])  # Sum firing rate\n",
    "     for a, b in zip(hstack((0, spikeindex[:-1])), spikeindex)]  # ... over each ISI\n"
   ]
  },
  {
   "cell_type": "markdown",
   "metadata": {},
   "source": [
    "Finally, we compute the empirical CDF of the rescaled spike times (`Z`) and compare it to the model CDF, which is an exponential distribution with parameter 1 if the model is correct (see [chapter 9](../09)):<a id=\"fig:ks1\"></a>"
   ]
  },
  {
   "cell_type": "code",
   "execution_count": 27,
   "metadata": {},
   "outputs": [
    {
     "data": {
      "image/png": "[encoded data removed]",
      "text/plain": [
       "<Figure size 432x288 with 1 Axes>"
      ]
     },
     "metadata": {
      "needs_background": "light"
     },
     "output_type": "display_data"
    }
   ],
   "source": [
    "eCDF = ECDF(Z);  # Empirical CDF at Z values\n",
    "mCDF = 1 - exp(-eCDF.x)  # Model CDF at Z values\n",
    "nISI = len(Z)  # Total number of ISIs\n",
    "plot(mCDF, eCDF.y)  # Create a KS plot\n",
    "plot([0,1], [0,1] + 1.36 / sqrt(nISI),'k--', ms = 2)  # ... with confidence bounds\n",
    "plot([0,1], [0,1] - 1.36 / sqrt(nISI),'k--', ms = 2)\n",
    "\n",
    "# Prettify\n",
    "xlabel('Model CDF')\n",
    "ylabel('Empirical CDF')\n",
    "title('Model 1 KS plot')\n",
    "savefig('imgs/ks1.png')\n",
    "show()"
   ]
  },
  {
   "cell_type": "markdown",
   "metadata": {},
   "source": [
    "The KS plot reveals that the initial model tends to fit the distribution of the larger rescaled ISIs well, but not the shorter ISIs. Therefore, we conclude that Model 1 does not completely capture the structure of the spiking data."
   ]
  },
  {
   "cell_type": "markdown",
   "metadata": {},
   "source": [
    "<div class=\"question\">\n",
    "\n",
    "**Q.** What features of the spiking structure could be missing from this model?\n",
    "\n",
    "**A.** We have a few options from prior visualizations, including movement direction (left or right) as well as past spiking history. We may improve the model by incorporating either (or both) features.\n",
    "\n",
    "</div>"
   ]
  },
  {
   "cell_type": "markdown",
   "metadata": {},
   "source": [
    "#### Refining the Model: Movement Direction\n",
    "\n",
    "With an eye toward improving the initial model, we first visualize the impact of movement direction on Model 1. We create a column vector for the design matrix that indicates the trial movement direction for each time step:"
   ]
  },
  {
   "cell_type": "code",
   "execution_count": 29,
   "metadata": {},
   "outputs": [],
   "source": [
    "xdir = repeat(direction == 1, nTime)"
   ]
  },
  {
   "cell_type": "markdown",
   "metadata": {},
   "source": [
    "<div class=\"question\">\n",
    "    \n",
    "**Q.** [Above](#repeatvtile) we used the `tile()` function to replicate the vector `t` in order to fit Model 1. This time, we used the function `repeat()`. See if you can figure out what each function does and why we needed a different one this time.\n",
    "    \n",
    "</div>"
   ]
  },
  {
   "cell_type": "markdown",
   "metadata": {},
   "source": [
    "We could add the variable `xdir` directly to the initial Model 1, and proceed immediately with a model fit. But first let’s examine the point process residuals for Model 1, and whether these residuals depend on the trial movement direction. "
   ]
  },
  {
   "cell_type": "code",
   "execution_count": 30,
   "metadata": {},
   "outputs": [
    {
     "data": {
      "image/png": "[encoded data removed]",
      "text/plain": [
       "<Figure size 432x288 with 1 Axes>"
      ]
     },
     "metadata": {
      "needs_background": "light"
     },
     "output_type": "display_data"
    }
   ],
   "source": [
    "R = cumsum(M1.resid_response);  # Cumulative sum of Model 1 residuals.\n",
    "plot(where(xdir == 1)[0], R[xdir == 1], '.', label=\"Right\")  # Right movement trials\n",
    "plot(where(xdir == 0)[0], R[xdir == 0], '.', label=\"Left\")  # Left movement trials\n",
    "\n",
    "# Prettify\n",
    "xlabel('Trial')\n",
    "ylabel('Integrate Point Process Residual')\n",
    "title('Point process residuals for Model 1')\n",
    "legend()\n",
    "show()"
   ]
  },
  {
   "cell_type": "markdown",
   "metadata": {},
   "source": [
    "We find that the integrated residuals tend to increase for left trials, suggesting that Model 1 consistently underestimates the firing rate for these trials, and tend to decrease for right trials, suggesting that Model 1 overestimates the rate for those trials. Including trial direction may therefore help improve the model. Let’s now add the predictor `xdir` to the [initial model](#model:1)<span class=\"thumb\"><sup>eq</sup><img src=\"imgs/model1.png\"></span> to create the second model,<a id=\"model:2\"></a>\n",
    "\n",
    "$$\n",
    "\\lambda(t) = \\exp\\big(\\beta_0 + \\beta_1 I_\\text{move}(t) + \\beta(2) I_\\text{dir}(t)\\big),\n",
    "\\tag{Model 2}\n",
    "$$\n",
    "\n",
    "and fit the model in Python:"
   ]
  },
  {
   "cell_type": "code",
   "execution_count": 31,
   "metadata": {},
   "outputs": [
    {
     "data": {
      "text/html": [
       "<table class=\"simpletable\">\n",
       "<caption>Generalized Linear Model Regression Results</caption>\n",
       "<tr>\n",
       "  <th>Dep. Variable:</th>        <td>spikes</td>      <th>  No. Observations:  </th>  <td>100000</td> \n",
       "</tr>\n",
       "<tr>\n",
       "  <th>Model:</th>                  <td>GLM</td>       <th>  Df Residuals:      </th>  <td> 99997</td> \n",
       "</tr>\n",
       "<tr>\n",
       "  <th>Model Family:</th>         <td>Poisson</td>     <th>  Df Model:          </th>  <td>     2</td> \n",
       "</tr>\n",
       "<tr>\n",
       "  <th>Link Function:</th>          <td>log</td>       <th>  Scale:             </th> <td>  1.0000</td>\n",
       "</tr>\n",
       "<tr>\n",
       "  <th>Method:</th>                <td>IRLS</td>       <th>  Log-Likelihood:    </th> <td> -18843.</td>\n",
       "</tr>\n",
       "<tr>\n",
       "  <th>Date:</th>            <td>Thu, 29 Aug 2019</td> <th>  Deviance:          </th> <td>  28293.</td>\n",
       "</tr>\n",
       "<tr>\n",
       "  <th>Time:</th>                <td>12:00:26</td>     <th>  Pearson chi2:      </th> <td>9.52e+04</td>\n",
       "</tr>\n",
       "<tr>\n",
       "  <th>No. Iterations:</th>          <td>7</td>        <th>                     </th>     <td> </td>   \n",
       "</tr>\n",
       "<tr>\n",
       "  <th>Covariance Type:</th>     <td>nonrobust</td>    <th>                     </th>     <td> </td>   \n",
       "</tr>\n",
       "</table>\n",
       "<table class=\"simpletable\">\n",
       "<tr>\n",
       "        <td></td>           <th>coef</th>     <th>std err</th>      <th>z</th>      <th>P>|z|</th>  <th>[0.025</th>    <th>0.975]</th>  \n",
       "</tr>\n",
       "<tr>\n",
       "  <th>Intercept</th>     <td>   -3.0228</td> <td>    0.025</td> <td> -119.359</td> <td> 0.000</td> <td>   -3.072</td> <td>   -2.973</td>\n",
       "</tr>\n",
       "<tr>\n",
       "  <th>IMove[T.True]</th> <td>    0.3441</td> <td>    0.030</td> <td>   11.617</td> <td> 0.000</td> <td>    0.286</td> <td>    0.402</td>\n",
       "</tr>\n",
       "<tr>\n",
       "  <th>IDir[T.True]</th>  <td>   -0.5090</td> <td>    0.030</td> <td>  -16.891</td> <td> 0.000</td> <td>   -0.568</td> <td>   -0.450</td>\n",
       "</tr>\n",
       "</table>"
      ],
      "text/plain": [
       "<class 'statsmodels.iolib.summary.Summary'>\n",
       "\"\"\"\n",
       "                 Generalized Linear Model Regression Results                  \n",
       "==============================================================================\n",
       "Dep. Variable:                 spikes   No. Observations:               100000\n",
       "Model:                            GLM   Df Residuals:                    99997\n",
       "Model Family:                 Poisson   Df Model:                            2\n",
       "Link Function:                    log   Scale:                          1.0000\n",
       "Method:                          IRLS   Log-Likelihood:                -18843.\n",
       "Date:                Thu, 29 Aug 2019   Deviance:                       28293.\n",
       "Time:                        12:00:26   Pearson chi2:                 9.52e+04\n",
       "No. Iterations:                     7                                         \n",
       "Covariance Type:            nonrobust                                         \n",
       "=================================================================================\n",
       "                    coef    std err          z      P>|z|      [0.025      0.975]\n",
       "---------------------------------------------------------------------------------\n",
       "Intercept        -3.0228      0.025   -119.359      0.000      -3.072      -2.973\n",
       "IMove[T.True]     0.3441      0.030     11.617      0.000       0.286       0.402\n",
       "IDir[T.True]     -0.5090      0.030    -16.891      0.000      -0.568      -0.450\n",
       "=================================================================================\n",
       "\"\"\""
      ]
     },
     "execution_count": 31,
     "metadata": {},
     "output_type": "execute_result"
    }
   ],
   "source": [
    "glmdata['IDir'] = xdir  # Add direction information to the glm dataframe\n",
    "M2 = smf.glm('spikes ~ IMove + IDir',  # Model formula\n",
    "             data=glmdata, family=sm.families.Poisson()).fit()  # ... and data\n",
    "M2.summary()"
   ]
  },
  {
   "cell_type": "code",
   "execution_count": 32,
   "metadata": {},
   "outputs": [
    {
     "name": "stdout",
     "output_type": "stream",
     "text": [
      "Intercept        0.048667\n",
      "IMove[T.True]    1.410678\n",
      "IDir[T.True]     0.601091\n",
      "dtype: float64\n"
     ]
    }
   ],
   "source": [
    "print(exp(M2.params))  # Look at our new parameters"
   ]
  },
  {
   "cell_type": "markdown",
   "metadata": {},
   "source": [
    "When adding the direction for each trial to the model, we find that the baseline firing rate parameter changes to $\\exp(\\beta_0) = 0.0487 = 48.7$ spikes/s. The baseline condition now corresponds to the planning period only (`Imove=0`) of trials to the left (`xdir=0`). The modulation due to changing from planning to movement periods&mdash;$\\exp(\\beta_\\text{move})=1.41$&mdash;stays about the same, suggesting a 41% increase in firing during the movement period. The final parameter relates to the modulation when changing from a left trial to a right trial. The modulation of $\\exp(\\beta_\\text{direction})=0.6011$ indicates that on right trials the firing rate is reduced by about 40%. Let’s check the significance of this last parameter (via a Wald test):"
   ]
  },
  {
   "cell_type": "code",
   "execution_count": 33,
   "metadata": {},
   "outputs": [
    {
     "data": {
      "text/plain": [
       "Intercept        0.000000e+00\n",
       "IMove[T.True]    3.386554e-31\n",
       "IDir[T.True]     5.281829e-64\n",
       "dtype: float64"
      ]
     },
     "execution_count": 33,
     "metadata": {},
     "output_type": "execute_result"
    }
   ],
   "source": [
    "M2.pvalues"
   ]
  },
  {
   "cell_type": "markdown",
   "metadata": {},
   "source": [
    "We find $p_\\text{direction} = 5.2818\\times 10^{-64}$ and conclude that the decrease in firing rate is highly significant. Finally, let’s construct a KS plot for Model 2:"
   ]
  },
  {
   "cell_type": "code",
   "execution_count": 34,
   "metadata": {},
   "outputs": [
    {
     "data": {
      "image/png": "[encoded data removed]",
      "text/plain": [
       "<Figure size 432x288 with 1 Axes>"
      ]
     },
     "metadata": {
      "needs_background": "light"
     },
     "output_type": "display_data"
    }
   ],
   "source": [
    "lambda2 = M2.predict(glmdata)  # Predict firing rate of Model 2\n",
    "\n",
    "# Compute the rescaled waiting times\n",
    "Z = [sum(lambda2[a:b])  # Sum firing rate\n",
    "     for a, b in zip(hstack((0, spikeindex[:-1])), spikeindex)]  # ... over each ISI\n",
    "\n",
    "# Compute the empirical CDF\n",
    "eCDF = ECDF(Z);  # Empirical CDF at Z values\n",
    "mCDF = 1 - exp(-eCDF.x)  # Model CDF at Z values\n",
    "N = len(Z)  # Total number of ISIs\n",
    "plot(mCDF, eCDF.y)  # Create a KS plot\n",
    "plot([0,1], [0,1] + 1.36 / sqrt(N),'k--', ms = 2)  # ... with confidence bounds\n",
    "plot([0,1], [0,1] - 1.36 / sqrt(N),'k--', ms = 2)\n",
    "\n",
    "# Prettify\n",
    "xlabel('Model CDF')\n",
    "ylabel('Empirical CDF')\n",
    "title('Model 2 KS plot')\n",
    "savefig('imgs/ks2.png')\n",
    "show()"
   ]
  },
  {
   "cell_type": "markdown",
   "metadata": {},
   "source": [
    "<div class=\"question\">\n",
    "    \n",
    "**Q.** Compare the KS plot for Model 2 to the [KS plot for Model 1](#fig:ks1). Does the updated model provide an improvement over the original model?\n",
    "\n",
    "<p>\n",
    "    <div style=\"width: 50%; float: left\" ><img src=\"imgs/ks1.png\"></div>\n",
    "    <div style=\"width:50%; float: left\"><img src=\"imgs/ks2.png\"></div>\n",
    "</p>\n",
    "\n",
    "</div>"
   ]
  },
  {
   "cell_type": "markdown",
   "metadata": {},
   "source": [
    "<div class=\"question\">\n",
    "\n",
    "**A.** This KS plot of Model 2 looks similar to that of Model 1. We observe some improvements at intermediate rescaled ISIs, but we are still seeing too few small rescaled ISIs. The updated model represents a slight improvement over the first model but is still well outside the confidence bounds of the KS plot.\n",
    "\n",
    "</div>"
   ]
  },
  {
   "cell_type": "markdown",
   "metadata": {},
   "source": [
    "<div class=\"question\">\n",
    "    \n",
    "**Q.** What other covariates could we add to improve the model?\n",
    "\n",
    "**A.** The previous autocovariance and spectral analysis suggests that another feature of these data relates to history-dependent spiking. Perhaps we should add columns to the design matrix that depend on past values of the spiking activity.\n",
    "\n",
    "</div>"
   ]
  },
  {
   "cell_type": "markdown",
   "metadata": {},
   "source": [
    "#### Refining the Model: History Dependence<a id=\"history-dependence\"></a>\n",
    "\n",
    "Up to this point, we have used Poisson regression models for the spiking data that did not incorporate any history-dependent terms. For those models, the number of spikes in each of the small discrete-time bins is assumed to have a Poisson distribution, and the number of spikes in any two nonoverlapping bins is assumed to be independent. A simple result from probability theory is that the sum of independent Poisson random variables also has a Poisson distribution. Therefore, for those previous models, the number of spikes over multiple time bins, which is the sum of the number of spikes in each bin, still has a Poisson distribution, and all those previous models would be considered Poisson process models.\n",
    "\n",
    "Now, we would like to add predictors to the model related to the past history of spiking. Thus, we do not expect the number of spikes in nonoverlapping bins to be independent; a spike at the current time will change the probability of seeing a spike in the near future. Even if the number of spikes in a small time bin is assumed to be Poisson, it is no longer the case that the number of spikes in any larger interval will be Poisson. Thus, we would no longer call the resulting spike train a Poisson process. We still use the notation $\\lambda(t)$ to represent the expected number of spikes in the $t^{th}$ time bin, but this is no longer called a Poisson rate function. Instead, we call it the conditional intensity function and write $\\lambda(t|H_t)$, where $H_t$ represents the past history of spiking.\n",
    "\n",
    "There are many different functions of past spiking that we could use in the model. The simplest option is to use the binned spike train itself, lagged by different amounts of time. Mathematically, we are building a probability model for $\\Delta N_i$ as a function of $\\Delta N_{i-j}$ for $j = 1,\\dots,k$ for some model order $k$.\n",
    "\n",
    "How should we select the model order? We return to this question later and propose principled approaches to create *parsimonious* models&mdash;models that fit the data well with as few parameters as possible. But we start by selecting a model order based on spectral analysis. We found a peak in the spectral density during the planning period at 15–20 Hz. A history-dependent model that extends to lags of 70 ms should be able to capture rhythms above 15 Hz. Let’s therefore define a variable `ordK` to represent the model order:"
   ]
  },
  {
   "cell_type": "code",
   "execution_count": 35,
   "metadata": {},
   "outputs": [],
   "source": [
    "ordK = 70  # Define the model order"
   ]
  },
  {
   "cell_type": "markdown",
   "metadata": {},
   "source": [
    "To predict the spiking at the current time, we need to observe the spiking history up to `ordK` lags in the past. Therefore, we make a new dataframe, `glmHist`, including data from starting from index `ordK` (recall that Python uses 0-indexing, so index $n$ is actually the $[n+1]^{th}$ element in the array). We then insert a new column with the spiking history for each lag."
   ]
  },
  {
   "cell_type": "code",
   "execution_count": 288,
   "metadata": {},
   "outputs": [
    {
     "data": {
      "text/html": [
       "<div>\n",
       "<style scoped>\n",
       "    .dataframe tbody tr th:only-of-type {\n",
       "        vertical-align: middle;\n",
       "    }\n",
       "\n",
       "    .dataframe tbody tr th {\n",
       "        vertical-align: top;\n",
       "    }\n",
       "\n",
       "    .dataframe thead th {\n",
       "        text-align: right;\n",
       "    }\n",
       "</style>\n",
       "<table border=\"1\" class=\"dataframe\">\n",
       "  <thead>\n",
       "    <tr style=\"text-align: right;\">\n",
       "      <th></th>\n",
       "      <th>IMove</th>\n",
       "      <th>spikes</th>\n",
       "      <th>IDir</th>\n",
       "      <th>lag01</th>\n",
       "      <th>lag02</th>\n",
       "      <th>lag03</th>\n",
       "      <th>lag04</th>\n",
       "      <th>lag05</th>\n",
       "      <th>lag06</th>\n",
       "      <th>lag07</th>\n",
       "      <th>...</th>\n",
       "      <th>lag61</th>\n",
       "      <th>lag62</th>\n",
       "      <th>lag63</th>\n",
       "      <th>lag64</th>\n",
       "      <th>lag65</th>\n",
       "      <th>lag66</th>\n",
       "      <th>lag67</th>\n",
       "      <th>lag68</th>\n",
       "      <th>lag69</th>\n",
       "      <th>lag70</th>\n",
       "    </tr>\n",
       "  </thead>\n",
       "  <tbody>\n",
       "    <tr>\n",
       "      <th>70</th>\n",
       "      <td>False</td>\n",
       "      <td>0</td>\n",
       "      <td>False</td>\n",
       "      <td>0</td>\n",
       "      <td>0</td>\n",
       "      <td>0</td>\n",
       "      <td>0</td>\n",
       "      <td>0</td>\n",
       "      <td>0</td>\n",
       "      <td>0</td>\n",
       "      <td>...</td>\n",
       "      <td>0</td>\n",
       "      <td>0</td>\n",
       "      <td>0</td>\n",
       "      <td>0</td>\n",
       "      <td>0</td>\n",
       "      <td>0</td>\n",
       "      <td>0</td>\n",
       "      <td>0</td>\n",
       "      <td>0</td>\n",
       "      <td>0</td>\n",
       "    </tr>\n",
       "    <tr>\n",
       "      <th>71</th>\n",
       "      <td>False</td>\n",
       "      <td>0</td>\n",
       "      <td>False</td>\n",
       "      <td>0</td>\n",
       "      <td>0</td>\n",
       "      <td>0</td>\n",
       "      <td>0</td>\n",
       "      <td>0</td>\n",
       "      <td>0</td>\n",
       "      <td>0</td>\n",
       "      <td>...</td>\n",
       "      <td>0</td>\n",
       "      <td>0</td>\n",
       "      <td>0</td>\n",
       "      <td>0</td>\n",
       "      <td>0</td>\n",
       "      <td>0</td>\n",
       "      <td>0</td>\n",
       "      <td>0</td>\n",
       "      <td>0</td>\n",
       "      <td>0</td>\n",
       "    </tr>\n",
       "    <tr>\n",
       "      <th>72</th>\n",
       "      <td>False</td>\n",
       "      <td>0</td>\n",
       "      <td>False</td>\n",
       "      <td>0</td>\n",
       "      <td>0</td>\n",
       "      <td>0</td>\n",
       "      <td>0</td>\n",
       "      <td>0</td>\n",
       "      <td>0</td>\n",
       "      <td>0</td>\n",
       "      <td>...</td>\n",
       "      <td>0</td>\n",
       "      <td>0</td>\n",
       "      <td>0</td>\n",
       "      <td>0</td>\n",
       "      <td>0</td>\n",
       "      <td>0</td>\n",
       "      <td>0</td>\n",
       "      <td>0</td>\n",
       "      <td>0</td>\n",
       "      <td>0</td>\n",
       "    </tr>\n",
       "    <tr>\n",
       "      <th>73</th>\n",
       "      <td>False</td>\n",
       "      <td>0</td>\n",
       "      <td>False</td>\n",
       "      <td>0</td>\n",
       "      <td>0</td>\n",
       "      <td>0</td>\n",
       "      <td>0</td>\n",
       "      <td>0</td>\n",
       "      <td>0</td>\n",
       "      <td>0</td>\n",
       "      <td>...</td>\n",
       "      <td>0</td>\n",
       "      <td>0</td>\n",
       "      <td>0</td>\n",
       "      <td>0</td>\n",
       "      <td>0</td>\n",
       "      <td>0</td>\n",
       "      <td>0</td>\n",
       "      <td>0</td>\n",
       "      <td>0</td>\n",
       "      <td>0</td>\n",
       "    </tr>\n",
       "    <tr>\n",
       "      <th>74</th>\n",
       "      <td>False</td>\n",
       "      <td>0</td>\n",
       "      <td>False</td>\n",
       "      <td>0</td>\n",
       "      <td>0</td>\n",
       "      <td>0</td>\n",
       "      <td>0</td>\n",
       "      <td>0</td>\n",
       "      <td>0</td>\n",
       "      <td>0</td>\n",
       "      <td>...</td>\n",
       "      <td>1</td>\n",
       "      <td>0</td>\n",
       "      <td>0</td>\n",
       "      <td>0</td>\n",
       "      <td>0</td>\n",
       "      <td>0</td>\n",
       "      <td>0</td>\n",
       "      <td>0</td>\n",
       "      <td>0</td>\n",
       "      <td>0</td>\n",
       "    </tr>\n",
       "  </tbody>\n",
       "</table>\n",
       "<p>5 rows × 73 columns</p>\n",
       "</div>"
      ],
      "text/plain": [
       "    IMove  spikes   IDir  lag01  lag02  lag03  lag04  lag05  lag06  lag07  \\\n",
       "70  False       0  False      0      0      0      0      0      0      0   \n",
       "71  False       0  False      0      0      0      0      0      0      0   \n",
       "72  False       0  False      0      0      0      0      0      0      0   \n",
       "73  False       0  False      0      0      0      0      0      0      0   \n",
       "74  False       0  False      0      0      0      0      0      0      0   \n",
       "\n",
       "    ...  lag61  lag62  lag63  lag64  lag65  lag66  lag67  lag68  lag69  lag70  \n",
       "70  ...      0      0      0      0      0      0      0      0      0      0  \n",
       "71  ...      0      0      0      0      0      0      0      0      0      0  \n",
       "72  ...      0      0      0      0      0      0      0      0      0      0  \n",
       "73  ...      0      0      0      0      0      0      0      0      0      0  \n",
       "74  ...      1      0      0      0      0      0      0      0      0      0  \n",
       "\n",
       "[5 rows x 73 columns]"
      ]
     },
     "execution_count": 288,
     "metadata": {},
     "output_type": "execute_result"
    }
   ],
   "source": [
    "nTimeHist = nTime - ordK  # Update no. of time points.            \n",
    "# Redefine observable & predictors to support history dependence.\n",
    "rows2keep = tile(t >= t[ordK], nTrial)  # Mask the first ordK rows from each trial\n",
    "glmHist = glmdata[rows2keep]  # Filter the data\n",
    "for k in range(1, ordK + 1):  # For each lag\n",
    "    historyData = train[:, ordK-k : nTime-k].flatten()  # ... get the training data at lag k\n",
    "    glmHist.insert(2+k,  # ... insert a column at the beginning\n",
    "                   'lag{:02d}'.format(k),  # ... named according to the lag\n",
    "                   historyData  # ... with values from the spiking history\n",
    "                  )\n",
    "glmHist.head()"
   ]
  },
  {
   "cell_type": "markdown",
   "metadata": {},
   "source": [
    "<div class=\"question\">\n",
    "    \n",
    "**Q.** Consider the variable `historyData`. Can you explain how this variable represents the past spiking activity?\n",
    "\n",
    "</div>"
   ]
  },
  {
   "cell_type": "markdown",
   "metadata": {},
   "source": [
    "We can now include the history in the GLM as follows:"
   ]
  },
  {
   "cell_type": "code",
   "execution_count": 289,
   "metadata": {},
   "outputs": [
    {
     "data": {
      "text/html": [
       "<table class=\"simpletable\">\n",
       "<caption>Generalized Linear Model Regression Results</caption>\n",
       "<tr>\n",
       "  <th>Dep. Variable:</th>        <td>spikes</td>      <th>  No. Observations:  </th>  <td> 96500</td> \n",
       "</tr>\n",
       "<tr>\n",
       "  <th>Model:</th>                  <td>GLM</td>       <th>  Df Residuals:      </th>  <td> 96427</td> \n",
       "</tr>\n",
       "<tr>\n",
       "  <th>Model Family:</th>         <td>Poisson</td>     <th>  Df Model:          </th>  <td>    72</td> \n",
       "</tr>\n",
       "<tr>\n",
       "  <th>Link Function:</th>          <td>log</td>       <th>  Scale:             </th> <td>  1.0000</td>\n",
       "</tr>\n",
       "<tr>\n",
       "  <th>Method:</th>                <td>IRLS</td>       <th>  Log-Likelihood:    </th> <td> -17972.</td>\n",
       "</tr>\n",
       "<tr>\n",
       "  <th>Date:</th>            <td>Fri, 30 Aug 2019</td> <th>  Deviance:          </th> <td>  26800.</td>\n",
       "</tr>\n",
       "<tr>\n",
       "  <th>Time:</th>                <td>18:11:48</td>     <th>  Pearson chi2:      </th> <td>9.16e+04</td>\n",
       "</tr>\n",
       "<tr>\n",
       "  <th>No. Iterations:</th>          <td>7</td>        <th>                     </th>     <td> </td>   \n",
       "</tr>\n",
       "<tr>\n",
       "  <th>Covariance Type:</th>     <td>nonrobust</td>    <th>                     </th>     <td> </td>   \n",
       "</tr>\n",
       "</table>\n",
       "<table class=\"simpletable\">\n",
       "<tr>\n",
       "        <td></td>           <th>coef</th>     <th>std err</th>      <th>z</th>      <th>P>|z|</th>  <th>[0.025</th>    <th>0.975]</th>  \n",
       "</tr>\n",
       "<tr>\n",
       "  <th>Intercept</th>     <td>   -3.0461</td> <td>    0.039</td> <td>  -77.449</td> <td> 0.000</td> <td>   -3.123</td> <td>   -2.969</td>\n",
       "</tr>\n",
       "<tr>\n",
       "  <th>IMove[T.True]</th> <td>    0.3302</td> <td>    0.032</td> <td>   10.451</td> <td> 0.000</td> <td>    0.268</td> <td>    0.392</td>\n",
       "</tr>\n",
       "<tr>\n",
       "  <th>IDir[T.True]</th>  <td>   -0.4979</td> <td>    0.034</td> <td>  -14.855</td> <td> 0.000</td> <td>   -0.564</td> <td>   -0.432</td>\n",
       "</tr>\n",
       "<tr>\n",
       "  <th>lag01</th>         <td>   -1.5567</td> <td>    0.133</td> <td>  -11.662</td> <td> 0.000</td> <td>   -1.818</td> <td>   -1.295</td>\n",
       "</tr>\n",
       "<tr>\n",
       "  <th>lag02</th>         <td>   -1.2333</td> <td>    0.115</td> <td>  -10.707</td> <td> 0.000</td> <td>   -1.459</td> <td>   -1.008</td>\n",
       "</tr>\n",
       "<tr>\n",
       "  <th>lag03</th>         <td>   -0.4932</td> <td>    0.082</td> <td>   -5.986</td> <td> 0.000</td> <td>   -0.655</td> <td>   -0.332</td>\n",
       "</tr>\n",
       "<tr>\n",
       "  <th>lag04</th>         <td>    0.0472</td> <td>    0.066</td> <td>    0.720</td> <td> 0.472</td> <td>   -0.081</td> <td>    0.176</td>\n",
       "</tr>\n",
       "<tr>\n",
       "  <th>lag05</th>         <td>    0.3929</td> <td>    0.058</td> <td>    6.815</td> <td> 0.000</td> <td>    0.280</td> <td>    0.506</td>\n",
       "</tr>\n",
       "<tr>\n",
       "  <th>lag06</th>         <td>    0.5669</td> <td>    0.055</td> <td>   10.392</td> <td> 0.000</td> <td>    0.460</td> <td>    0.674</td>\n",
       "</tr>\n",
       "<tr>\n",
       "  <th>lag07</th>         <td>    0.4364</td> <td>    0.059</td> <td>    7.433</td> <td> 0.000</td> <td>    0.321</td> <td>    0.552</td>\n",
       "</tr>\n",
       "<tr>\n",
       "  <th>lag08</th>         <td>    0.2547</td> <td>    0.064</td> <td>    4.002</td> <td> 0.000</td> <td>    0.130</td> <td>    0.379</td>\n",
       "</tr>\n",
       "<tr>\n",
       "  <th>lag09</th>         <td>    0.0181</td> <td>    0.069</td> <td>    0.260</td> <td> 0.795</td> <td>   -0.118</td> <td>    0.154</td>\n",
       "</tr>\n",
       "<tr>\n",
       "  <th>lag10</th>         <td>    0.0553</td> <td>    0.066</td> <td>    0.831</td> <td> 0.406</td> <td>   -0.075</td> <td>    0.186</td>\n",
       "</tr>\n",
       "<tr>\n",
       "  <th>lag11</th>         <td>    0.0274</td> <td>    0.066</td> <td>    0.414</td> <td> 0.679</td> <td>   -0.102</td> <td>    0.157</td>\n",
       "</tr>\n",
       "<tr>\n",
       "  <th>lag12</th>         <td>   -0.0008</td> <td>    0.067</td> <td>   -0.012</td> <td> 0.991</td> <td>   -0.131</td> <td>    0.130</td>\n",
       "</tr>\n",
       "<tr>\n",
       "  <th>lag13</th>         <td>    0.0589</td> <td>    0.065</td> <td>    0.906</td> <td> 0.365</td> <td>   -0.069</td> <td>    0.186</td>\n",
       "</tr>\n",
       "<tr>\n",
       "  <th>lag14</th>         <td>   -0.0414</td> <td>    0.069</td> <td>   -0.602</td> <td> 0.547</td> <td>   -0.176</td> <td>    0.093</td>\n",
       "</tr>\n",
       "<tr>\n",
       "  <th>lag15</th>         <td>    0.0077</td> <td>    0.067</td> <td>    0.114</td> <td> 0.909</td> <td>   -0.124</td> <td>    0.139</td>\n",
       "</tr>\n",
       "<tr>\n",
       "  <th>lag16</th>         <td>   -0.0749</td> <td>    0.070</td> <td>   -1.076</td> <td> 0.282</td> <td>   -0.211</td> <td>    0.062</td>\n",
       "</tr>\n",
       "<tr>\n",
       "  <th>lag17</th>         <td>    0.0442</td> <td>    0.066</td> <td>    0.673</td> <td> 0.501</td> <td>   -0.085</td> <td>    0.173</td>\n",
       "</tr>\n",
       "<tr>\n",
       "  <th>lag18</th>         <td>   -0.1209</td> <td>    0.071</td> <td>   -1.704</td> <td> 0.088</td> <td>   -0.260</td> <td>    0.018</td>\n",
       "</tr>\n",
       "<tr>\n",
       "  <th>lag19</th>         <td>   -0.0654</td> <td>    0.069</td> <td>   -0.948</td> <td> 0.343</td> <td>   -0.201</td> <td>    0.070</td>\n",
       "</tr>\n",
       "<tr>\n",
       "  <th>lag20</th>         <td>   -0.1431</td> <td>    0.072</td> <td>   -1.999</td> <td> 0.046</td> <td>   -0.283</td> <td>   -0.003</td>\n",
       "</tr>\n",
       "<tr>\n",
       "  <th>lag21</th>         <td>   -0.1073</td> <td>    0.070</td> <td>   -1.526</td> <td> 0.127</td> <td>   -0.245</td> <td>    0.031</td>\n",
       "</tr>\n",
       "<tr>\n",
       "  <th>lag22</th>         <td>    0.0099</td> <td>    0.067</td> <td>    0.149</td> <td> 0.882</td> <td>   -0.121</td> <td>    0.140</td>\n",
       "</tr>\n",
       "<tr>\n",
       "  <th>lag23</th>         <td>   -0.0421</td> <td>    0.068</td> <td>   -0.615</td> <td> 0.538</td> <td>   -0.176</td> <td>    0.092</td>\n",
       "</tr>\n",
       "<tr>\n",
       "  <th>lag24</th>         <td>   -0.1140</td> <td>    0.071</td> <td>   -1.596</td> <td> 0.111</td> <td>   -0.254</td> <td>    0.026</td>\n",
       "</tr>\n",
       "<tr>\n",
       "  <th>lag25</th>         <td>   -0.0679</td> <td>    0.070</td> <td>   -0.972</td> <td> 0.331</td> <td>   -0.205</td> <td>    0.069</td>\n",
       "</tr>\n",
       "<tr>\n",
       "  <th>lag26</th>         <td>   -0.1034</td> <td>    0.071</td> <td>   -1.454</td> <td> 0.146</td> <td>   -0.243</td> <td>    0.036</td>\n",
       "</tr>\n",
       "<tr>\n",
       "  <th>lag27</th>         <td>   -0.0418</td> <td>    0.069</td> <td>   -0.606</td> <td> 0.545</td> <td>   -0.177</td> <td>    0.093</td>\n",
       "</tr>\n",
       "<tr>\n",
       "  <th>lag28</th>         <td>    0.0551</td> <td>    0.066</td> <td>    0.837</td> <td> 0.402</td> <td>   -0.074</td> <td>    0.184</td>\n",
       "</tr>\n",
       "<tr>\n",
       "  <th>lag29</th>         <td>    0.0175</td> <td>    0.067</td> <td>    0.261</td> <td> 0.794</td> <td>   -0.114</td> <td>    0.149</td>\n",
       "</tr>\n",
       "<tr>\n",
       "  <th>lag30</th>         <td>   -0.0852</td> <td>    0.071</td> <td>   -1.203</td> <td> 0.229</td> <td>   -0.224</td> <td>    0.054</td>\n",
       "</tr>\n",
       "<tr>\n",
       "  <th>lag31</th>         <td>   -0.0870</td> <td>    0.071</td> <td>   -1.229</td> <td> 0.219</td> <td>   -0.226</td> <td>    0.052</td>\n",
       "</tr>\n",
       "<tr>\n",
       "  <th>lag32</th>         <td>   -0.0390</td> <td>    0.069</td> <td>   -0.567</td> <td> 0.571</td> <td>   -0.174</td> <td>    0.096</td>\n",
       "</tr>\n",
       "<tr>\n",
       "  <th>lag33</th>         <td>   -0.0750</td> <td>    0.070</td> <td>   -1.075</td> <td> 0.282</td> <td>   -0.212</td> <td>    0.062</td>\n",
       "</tr>\n",
       "<tr>\n",
       "  <th>lag34</th>         <td>   -0.1005</td> <td>    0.070</td> <td>   -1.428</td> <td> 0.153</td> <td>   -0.238</td> <td>    0.037</td>\n",
       "</tr>\n",
       "<tr>\n",
       "  <th>lag35</th>         <td>    0.0098</td> <td>    0.067</td> <td>    0.147</td> <td> 0.884</td> <td>   -0.121</td> <td>    0.141</td>\n",
       "</tr>\n",
       "<tr>\n",
       "  <th>lag36</th>         <td>    0.0055</td> <td>    0.068</td> <td>    0.081</td> <td> 0.935</td> <td>   -0.127</td> <td>    0.138</td>\n",
       "</tr>\n",
       "<tr>\n",
       "  <th>lag37</th>         <td>   -0.1010</td> <td>    0.071</td> <td>   -1.414</td> <td> 0.157</td> <td>   -0.241</td> <td>    0.039</td>\n",
       "</tr>\n",
       "<tr>\n",
       "  <th>lag38</th>         <td>   -0.0184</td> <td>    0.069</td> <td>   -0.268</td> <td> 0.789</td> <td>   -0.153</td> <td>    0.116</td>\n",
       "</tr>\n",
       "<tr>\n",
       "  <th>lag39</th>         <td>    0.0571</td> <td>    0.066</td> <td>    0.863</td> <td> 0.388</td> <td>   -0.073</td> <td>    0.187</td>\n",
       "</tr>\n",
       "<tr>\n",
       "  <th>lag40</th>         <td>    0.0464</td> <td>    0.067</td> <td>    0.697</td> <td> 0.486</td> <td>   -0.084</td> <td>    0.177</td>\n",
       "</tr>\n",
       "<tr>\n",
       "  <th>lag41</th>         <td>    0.0704</td> <td>    0.066</td> <td>    1.068</td> <td> 0.286</td> <td>   -0.059</td> <td>    0.199</td>\n",
       "</tr>\n",
       "<tr>\n",
       "  <th>lag42</th>         <td>    0.0442</td> <td>    0.067</td> <td>    0.664</td> <td> 0.507</td> <td>   -0.086</td> <td>    0.175</td>\n",
       "</tr>\n",
       "<tr>\n",
       "  <th>lag43</th>         <td>   -0.0155</td> <td>    0.068</td> <td>   -0.227</td> <td> 0.821</td> <td>   -0.150</td> <td>    0.119</td>\n",
       "</tr>\n",
       "<tr>\n",
       "  <th>lag44</th>         <td>   -0.1062</td> <td>    0.071</td> <td>   -1.495</td> <td> 0.135</td> <td>   -0.245</td> <td>    0.033</td>\n",
       "</tr>\n",
       "<tr>\n",
       "  <th>lag45</th>         <td>    0.0536</td> <td>    0.066</td> <td>    0.816</td> <td> 0.415</td> <td>   -0.075</td> <td>    0.183</td>\n",
       "</tr>\n",
       "<tr>\n",
       "  <th>lag46</th>         <td>   -0.0268</td> <td>    0.068</td> <td>   -0.392</td> <td> 0.695</td> <td>   -0.161</td> <td>    0.107</td>\n",
       "</tr>\n",
       "<tr>\n",
       "  <th>lag47</th>         <td>    0.0163</td> <td>    0.067</td> <td>    0.242</td> <td> 0.809</td> <td>   -0.116</td> <td>    0.148</td>\n",
       "</tr>\n",
       "<tr>\n",
       "  <th>lag48</th>         <td>    0.1527</td> <td>    0.063</td> <td>    2.406</td> <td> 0.016</td> <td>    0.028</td> <td>    0.277</td>\n",
       "</tr>\n",
       "<tr>\n",
       "  <th>lag49</th>         <td>    0.0201</td> <td>    0.068</td> <td>    0.297</td> <td> 0.767</td> <td>   -0.113</td> <td>    0.153</td>\n",
       "</tr>\n",
       "<tr>\n",
       "  <th>lag50</th>         <td>    0.1400</td> <td>    0.064</td> <td>    2.184</td> <td> 0.029</td> <td>    0.014</td> <td>    0.266</td>\n",
       "</tr>\n",
       "<tr>\n",
       "  <th>lag51</th>         <td>    0.0824</td> <td>    0.066</td> <td>    1.253</td> <td> 0.210</td> <td>   -0.047</td> <td>    0.211</td>\n",
       "</tr>\n",
       "<tr>\n",
       "  <th>lag52</th>         <td>   -0.0454</td> <td>    0.070</td> <td>   -0.653</td> <td> 0.514</td> <td>   -0.182</td> <td>    0.091</td>\n",
       "</tr>\n",
       "<tr>\n",
       "  <th>lag53</th>         <td>   -0.0731</td> <td>    0.070</td> <td>   -1.046</td> <td> 0.296</td> <td>   -0.210</td> <td>    0.064</td>\n",
       "</tr>\n",
       "<tr>\n",
       "  <th>lag54</th>         <td>    0.1249</td> <td>    0.064</td> <td>    1.965</td> <td> 0.049</td> <td>    0.000</td> <td>    0.249</td>\n",
       "</tr>\n",
       "<tr>\n",
       "  <th>lag55</th>         <td>    0.0636</td> <td>    0.066</td> <td>    0.970</td> <td> 0.332</td> <td>   -0.065</td> <td>    0.192</td>\n",
       "</tr>\n",
       "<tr>\n",
       "  <th>lag56</th>         <td>    0.0492</td> <td>    0.066</td> <td>    0.741</td> <td> 0.459</td> <td>   -0.081</td> <td>    0.179</td>\n",
       "</tr>\n",
       "<tr>\n",
       "  <th>lag57</th>         <td>   -0.0065</td> <td>    0.068</td> <td>   -0.095</td> <td> 0.924</td> <td>   -0.140</td> <td>    0.127</td>\n",
       "</tr>\n",
       "<tr>\n",
       "  <th>lag58</th>         <td>    0.0969</td> <td>    0.065</td> <td>    1.491</td> <td> 0.136</td> <td>   -0.031</td> <td>    0.224</td>\n",
       "</tr>\n",
       "<tr>\n",
       "  <th>lag59</th>         <td>    0.0480</td> <td>    0.067</td> <td>    0.721</td> <td> 0.471</td> <td>   -0.083</td> <td>    0.179</td>\n",
       "</tr>\n",
       "<tr>\n",
       "  <th>lag60</th>         <td>   -0.0423</td> <td>    0.069</td> <td>   -0.611</td> <td> 0.541</td> <td>   -0.178</td> <td>    0.093</td>\n",
       "</tr>\n",
       "<tr>\n",
       "  <th>lag61</th>         <td>    0.1567</td> <td>    0.063</td> <td>    2.489</td> <td> 0.013</td> <td>    0.033</td> <td>    0.280</td>\n",
       "</tr>\n",
       "<tr>\n",
       "  <th>lag62</th>         <td>   -0.0176</td> <td>    0.068</td> <td>   -0.256</td> <td> 0.798</td> <td>   -0.152</td> <td>    0.117</td>\n",
       "</tr>\n",
       "<tr>\n",
       "  <th>lag63</th>         <td>    0.0866</td> <td>    0.065</td> <td>    1.324</td> <td> 0.186</td> <td>   -0.042</td> <td>    0.215</td>\n",
       "</tr>\n",
       "<tr>\n",
       "  <th>lag64</th>         <td>    0.0123</td> <td>    0.068</td> <td>    0.182</td> <td> 0.856</td> <td>   -0.120</td> <td>    0.145</td>\n",
       "</tr>\n",
       "<tr>\n",
       "  <th>lag65</th>         <td>    0.0826</td> <td>    0.066</td> <td>    1.256</td> <td> 0.209</td> <td>   -0.046</td> <td>    0.212</td>\n",
       "</tr>\n",
       "<tr>\n",
       "  <th>lag66</th>         <td>    0.0551</td> <td>    0.067</td> <td>    0.825</td> <td> 0.410</td> <td>   -0.076</td> <td>    0.186</td>\n",
       "</tr>\n",
       "<tr>\n",
       "  <th>lag67</th>         <td>    0.1515</td> <td>    0.064</td> <td>    2.379</td> <td> 0.017</td> <td>    0.027</td> <td>    0.276</td>\n",
       "</tr>\n",
       "<tr>\n",
       "  <th>lag68</th>         <td>    0.0925</td> <td>    0.066</td> <td>    1.409</td> <td> 0.159</td> <td>   -0.036</td> <td>    0.221</td>\n",
       "</tr>\n",
       "<tr>\n",
       "  <th>lag69</th>         <td>    0.0642</td> <td>    0.066</td> <td>    0.967</td> <td> 0.334</td> <td>   -0.066</td> <td>    0.194</td>\n",
       "</tr>\n",
       "<tr>\n",
       "  <th>lag70</th>         <td>    0.0831</td> <td>    0.065</td> <td>    1.270</td> <td> 0.204</td> <td>   -0.045</td> <td>    0.211</td>\n",
       "</tr>\n",
       "</table>"
      ],
      "text/plain": [
       "<class 'statsmodels.iolib.summary.Summary'>\n",
       "\"\"\"\n",
       "                 Generalized Linear Model Regression Results                  \n",
       "==============================================================================\n",
       "Dep. Variable:                 spikes   No. Observations:                96500\n",
       "Model:                            GLM   Df Residuals:                    96427\n",
       "Model Family:                 Poisson   Df Model:                           72\n",
       "Link Function:                    log   Scale:                          1.0000\n",
       "Method:                          IRLS   Log-Likelihood:                -17972.\n",
       "Date:                Fri, 30 Aug 2019   Deviance:                       26800.\n",
       "Time:                        18:11:48   Pearson chi2:                 9.16e+04\n",
       "No. Iterations:                     7                                         \n",
       "Covariance Type:            nonrobust                                         \n",
       "=================================================================================\n",
       "                    coef    std err          z      P>|z|      [0.025      0.975]\n",
       "---------------------------------------------------------------------------------\n",
       "Intercept        -3.0461      0.039    -77.449      0.000      -3.123      -2.969\n",
       "IMove[T.True]     0.3302      0.032     10.451      0.000       0.268       0.392\n",
       "IDir[T.True]     -0.4979      0.034    -14.855      0.000      -0.564      -0.432\n",
       "lag01            -1.5567      0.133    -11.662      0.000      -1.818      -1.295\n",
       "lag02            -1.2333      0.115    -10.707      0.000      -1.459      -1.008\n",
       "lag03            -0.4932      0.082     -5.986      0.000      -0.655      -0.332\n",
       "lag04             0.0472      0.066      0.720      0.472      -0.081       0.176\n",
       "lag05             0.3929      0.058      6.815      0.000       0.280       0.506\n",
       "lag06             0.5669      0.055     10.392      0.000       0.460       0.674\n",
       "lag07             0.4364      0.059      7.433      0.000       0.321       0.552\n",
       "lag08             0.2547      0.064      4.002      0.000       0.130       0.379\n",
       "lag09             0.0181      0.069      0.260      0.795      -0.118       0.154\n",
       "lag10             0.0553      0.066      0.831      0.406      -0.075       0.186\n",
       "lag11             0.0274      0.066      0.414      0.679      -0.102       0.157\n",
       "lag12            -0.0008      0.067     -0.012      0.991      -0.131       0.130\n",
       "lag13             0.0589      0.065      0.906      0.365      -0.069       0.186\n",
       "lag14            -0.0414      0.069     -0.602      0.547      -0.176       0.093\n",
       "lag15             0.0077      0.067      0.114      0.909      -0.124       0.139\n",
       "lag16            -0.0749      0.070     -1.076      0.282      -0.211       0.062\n",
       "lag17             0.0442      0.066      0.673      0.501      -0.085       0.173\n",
       "lag18            -0.1209      0.071     -1.704      0.088      -0.260       0.018\n",
       "lag19            -0.0654      0.069     -0.948      0.343      -0.201       0.070\n",
       "lag20            -0.1431      0.072     -1.999      0.046      -0.283      -0.003\n",
       "lag21            -0.1073      0.070     -1.526      0.127      -0.245       0.031\n",
       "lag22             0.0099      0.067      0.149      0.882      -0.121       0.140\n",
       "lag23            -0.0421      0.068     -0.615      0.538      -0.176       0.092\n",
       "lag24            -0.1140      0.071     -1.596      0.111      -0.254       0.026\n",
       "lag25            -0.0679      0.070     -0.972      0.331      -0.205       0.069\n",
       "lag26            -0.1034      0.071     -1.454      0.146      -0.243       0.036\n",
       "lag27            -0.0418      0.069     -0.606      0.545      -0.177       0.093\n",
       "lag28             0.0551      0.066      0.837      0.402      -0.074       0.184\n",
       "lag29             0.0175      0.067      0.261      0.794      -0.114       0.149\n",
       "lag30            -0.0852      0.071     -1.203      0.229      -0.224       0.054\n",
       "lag31            -0.0870      0.071     -1.229      0.219      -0.226       0.052\n",
       "lag32            -0.0390      0.069     -0.567      0.571      -0.174       0.096\n",
       "lag33            -0.0750      0.070     -1.075      0.282      -0.212       0.062\n",
       "lag34            -0.1005      0.070     -1.428      0.153      -0.238       0.037\n",
       "lag35             0.0098      0.067      0.147      0.884      -0.121       0.141\n",
       "lag36             0.0055      0.068      0.081      0.935      -0.127       0.138\n",
       "lag37            -0.1010      0.071     -1.414      0.157      -0.241       0.039\n",
       "lag38            -0.0184      0.069     -0.268      0.789      -0.153       0.116\n",
       "lag39             0.0571      0.066      0.863      0.388      -0.073       0.187\n",
       "lag40             0.0464      0.067      0.697      0.486      -0.084       0.177\n",
       "lag41             0.0704      0.066      1.068      0.286      -0.059       0.199\n",
       "lag42             0.0442      0.067      0.664      0.507      -0.086       0.175\n",
       "lag43            -0.0155      0.068     -0.227      0.821      -0.150       0.119\n",
       "lag44            -0.1062      0.071     -1.495      0.135      -0.245       0.033\n",
       "lag45             0.0536      0.066      0.816      0.415      -0.075       0.183\n",
       "lag46            -0.0268      0.068     -0.392      0.695      -0.161       0.107\n",
       "lag47             0.0163      0.067      0.242      0.809      -0.116       0.148\n",
       "lag48             0.1527      0.063      2.406      0.016       0.028       0.277\n",
       "lag49             0.0201      0.068      0.297      0.767      -0.113       0.153\n",
       "lag50             0.1400      0.064      2.184      0.029       0.014       0.266\n",
       "lag51             0.0824      0.066      1.253      0.210      -0.047       0.211\n",
       "lag52            -0.0454      0.070     -0.653      0.514      -0.182       0.091\n",
       "lag53            -0.0731      0.070     -1.046      0.296      -0.210       0.064\n",
       "lag54             0.1249      0.064      1.965      0.049       0.000       0.249\n",
       "lag55             0.0636      0.066      0.970      0.332      -0.065       0.192\n",
       "lag56             0.0492      0.066      0.741      0.459      -0.081       0.179\n",
       "lag57            -0.0065      0.068     -0.095      0.924      -0.140       0.127\n",
       "lag58             0.0969      0.065      1.491      0.136      -0.031       0.224\n",
       "lag59             0.0480      0.067      0.721      0.471      -0.083       0.179\n",
       "lag60            -0.0423      0.069     -0.611      0.541      -0.178       0.093\n",
       "lag61             0.1567      0.063      2.489      0.013       0.033       0.280\n",
       "lag62            -0.0176      0.068     -0.256      0.798      -0.152       0.117\n",
       "lag63             0.0866      0.065      1.324      0.186      -0.042       0.215\n",
       "lag64             0.0123      0.068      0.182      0.856      -0.120       0.145\n",
       "lag65             0.0826      0.066      1.256      0.209      -0.046       0.212\n",
       "lag66             0.0551      0.067      0.825      0.410      -0.076       0.186\n",
       "lag67             0.1515      0.064      2.379      0.017       0.027       0.276\n",
       "lag68             0.0925      0.066      1.409      0.159      -0.036       0.221\n",
       "lag69             0.0642      0.066      0.967      0.334      -0.066       0.194\n",
       "lag70             0.0831      0.065      1.270      0.204      -0.045       0.211\n",
       "=================================================================================\n",
       "\"\"\""
      ]
     },
     "execution_count": 289,
     "metadata": {},
     "output_type": "execute_result"
    }
   ],
   "source": [
    "formula = ('spikes ~' +  # Observed spikes as a function of ...\n",
    "           '+'.join(glmHist.drop(columns='spikes').columns))  # ... all other columns\n",
    "M3 = smf.glm(formula,  # Fit a glm using the formula\n",
    "             data=glmHist,  # ... on the data with spiking history\n",
    "             family=sm.families.family.Poisson()).fit()  # ... using a Poisson GLM\n",
    "M3.summary()  # Summary of fit\n"
   ]
  },
  {
   "cell_type": "markdown",
   "metadata": {},
   "source": [
    "This model would have a total of 73 parameters—one intercept parameter, one movement parameter, one direction parameter, and 70 parameters representing the columns of the history matrix. Mathematically,\n",
    "\n",
    "$$\n",
    "\\tag{Model 3}\n",
    "\\lambda(t | H(t)) = \\exp\\big(\n",
    "\\beta_0 + \n",
    "\\beta_1 I_\\text{move}(t) +\n",
    "\\beta_2 I_\\text{dir}(t) +\n",
    "\\sum_{j=1}^{70} \\beta_{2+j}\\Delta N_{t-j}\n",
    "\\big).\n",
    "$$\n",
    "\n",
    "However, Model 3 implies that the influences of the trial period (Idir(t)) and of the past history (1Nt\u0000j) are multiplicatively separable; that is, that the only difference between the planning and movement period is a change in the average firing rate and the spike rhythms are the same in both periods. The autocovariance and spectral analyses suggest that the influence of past spiking differs between these trial periods. Therefore, we should instead construct a model that has an interaction between the Imove and xHist variables. We do this by including columns that represent the product of these two variables. Mathemati- cally, we propose a model of the form"
   ]
  },
  {
   "cell_type": "markdown",
   "metadata": {},
   "source": [
    "However, model 3 implies that the influences of the trial period (Idir(t)) and of the past history (1Nt\u0000j) are multiplicatively separable; that is, that the only difference between the planning and movement period is a change in the average firing rate and the spike rhythms are the same in both periods. The autocovariance and spectral analyses suggest that the influence of past spiking differs between these trial periods. Therefore, we should instead construct a model that has an interaction between the Imove and xHist variables. We do this by including columns that represent the product of these two variables. Mathemati- cally, we propose a model of the form"
   ]
  },
  {
   "cell_type": "code",
   "execution_count": null,
   "metadata": {},
   "outputs": [],
   "source": []
  },
  {
   "cell_type": "code",
   "execution_count": null,
   "metadata": {},
   "outputs": [],
   "source": []
  },
  {
   "cell_type": "code",
   "execution_count": null,
   "metadata": {},
   "outputs": [],
   "source": []
  },
  {
   "cell_type": "code",
   "execution_count": null,
   "metadata": {},
   "outputs": [],
   "source": [
    "whos"
   ]
  },
  {
   "cell_type": "code",
   "execution_count": null,
   "metadata": {},
   "outputs": [],
   "source": []
  }
 ],
 "metadata": {
  "kernelspec": {
   "display_name": "Python 3",
   "language": "python",
   "name": "python3"
  },
  "language_info": {
   "codemirror_mode": {
    "name": "ipython",
    "version": 3
   },
   "file_extension": ".py",
   "mimetype": "text/x-python",
   "name": "python",
   "nbconvert_exporter": "python",
   "pygments_lexer": "ipython3",
   "version": "3.6.9"
  }
 },
 "nbformat": 4,
 "nbformat_minor": 2
}
