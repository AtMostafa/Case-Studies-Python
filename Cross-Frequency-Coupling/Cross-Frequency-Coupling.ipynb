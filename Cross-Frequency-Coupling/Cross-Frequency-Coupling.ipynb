{
 "cells": [
  {
   "cell_type": "markdown",
   "metadata": {},
   "source": [
    "# Cross-frequency coupling for the practicing neuroscientist\n",
    "\n",
    "To assess whether different frequency rhythms interact in the LFP recording, we implement a measure to calculate CFC. The idea of CFC analysis is to determine whether a relation exists between the phase of a low-frequency signal and the envelope or amplitude of a high-frequency signal. In general, computing CFC involves three steps. Each step contains important questions and encompasses entire fields of study. Our goal in this section is to move quickly forward and produce a procedure we can employ, investigate, and criticize. Continued study of CFC—and the associated nuances of each step—is an active area of ongoing research.\n",
    "\n",
    "### CFC analysis steps\n",
    "\n",
    "* Filter the data into high- and low-frequency bands.\n",
    "\n",
    "* Extract the amplitude and phase from the filtered signals.\n",
    "\n",
    "* Determine if the phase and amplitude are related."
   ]
  },
  {
   "cell_type": "code",
   "execution_count": null,
   "metadata": {},
   "outputs": [],
   "source": [
    "from IPython.lib.display import YouTubeVideo\n",
    "YouTubeVideo('JjOcJy4dVzE')"
   ]
  },
  {
   "cell_type": "markdown",
   "metadata": {},
   "source": [
    "## Step 1. Filter the Data into High- and Low-Frequency Bands.\n",
    "\n",
    "The first step in the CFC analysis is to filter the data into two frequency bands of interest. The choice is not arbitrary: the separate frequency bands are motivated by initial spectral analysis of the LFP data. In this case, we choose the low-frequency band as 5–7 Hz, consistent with the largest peak in the spectrum, and the high-frequency band as 80–120 Hz, consistent with the second-largest broadband peak. To consider alternative frequency bands, the same analysis steps would apply."
   ]
  },
  {
   "cell_type": "code",
   "execution_count": null,
   "metadata": {},
   "outputs": [],
   "source": [
    "from IPython.lib.display import YouTubeVideo\n",
    "YouTubeVideo('WL_nFRBHqLU')"
   ]
  },
  {
   "cell_type": "markdown",
   "metadata": {},
   "source": [
    "There are many options to perform the filtering. To do so requires us to design a filter that ideally extracts the frequency bands of interest without distorting the results. Here, we apply a finite impulse response (FIR) filter. In Python,"
   ]
  },
  {
   "cell_type": "code",
   "execution_count": null,
   "metadata": {},
   "outputs": [],
   "source": [
    "import scipy.io as sio\n",
    "mat = sio.loadmat('LFP-1.mat')      # Load the data.\n",
    "t = mat['t'][0]                     # Get the time axis.\n",
    "LFP = mat['LFP'][0]                 # Get the LFP data."
   ]
  },
  {
   "cell_type": "code",
   "execution_count": null,
   "metadata": {},
   "outputs": [],
   "source": [
    "dt = t[2]-t[1];                     # Define the sampling interval.\n",
    "Fs = 1/dt;                          # Define the sampling frequency.\n",
    "fNQ = Fs/2;                         # Define the Nyquist frequency."
   ]
  },
  {
   "cell_type": "markdown",
   "metadata": {},
   "source": [
    "For the **low-frequency** interval:"
   ]
  },
  {
   "cell_type": "code",
   "execution_count": null,
   "metadata": {},
   "outputs": [],
   "source": [
    "from scipy import signal\n",
    "Wn = [5,7];                         # Set the passband [5-7] Hz,\n",
    "n = 100;                            # ... and filter order,\n",
    "                                    # ... build bandpass filter.\n",
    "b = signal.firwin(n,Wn, nyq=fNQ, pass_zero=False, window='hamming');\n",
    "Vlo = signal.filtfilt(b,1,LFP);     # ... and apply filter."
   ]
  },
  {
   "cell_type": "markdown",
   "metadata": {},
   "source": [
    "For the **high-frequency** interval:"
   ]
  },
  {
   "cell_type": "code",
   "execution_count": null,
   "metadata": {},
   "outputs": [],
   "source": [
    "from scipy import signal\n",
    "Wn = [80,120];                      # Set the passband [80-120] Hz,\n",
    "n = 100;                            # ... and filter order,\n",
    "                                    # ... build bandpass filter.\n",
    "b = signal.firwin(n,Wn, nyq=fNQ, pass_zero=False, window='hamming');\n",
    "Vhi = signal.filtfilt(b,1,LFP);     # ... and apply filter."
   ]
  },
  {
   "cell_type": "markdown",
   "metadata": {},
   "source": [
    "For each frequency band, we specify a frequency interval of interest by defining the low- and high-cutoff frequencies in the variable `Wn`. In this way, we specify the passband of the filter. We then set the filter order (`n`) and design the filter using the Python function `signal.firwin` from the `scipy` [package](https://scipy.org/). Finally, we apply the filter using the Python function `signal.filtfilt`, which performs zero-phase filtering by applying the filter in both the forward and reverse directions.  We note that the filtering procedure is nearly the same in both frequency bands; the only change is the specification of the frequency interval of interest.\n",
    "\n",
    "To understand the impact of this filtering operation on the LFP, let’s plot the results. More specifically, let's plot the original signal, and the signal filtered in the low- and high-frequency bands, for a 2 s interval of time:"
   ]
  },
  {
   "cell_type": "code",
   "execution_count": null,
   "metadata": {},
   "outputs": [],
   "source": [
    "%matplotlib inline\n",
    "import matplotlib.pyplot as plt\n",
    "plt.figure(figsize=(14, 4))         # ... with a specific size.\n",
    "plt.plot(t,LFP)                     # Plot the original data vs time.\n",
    "plt.plot(t,Vlo)                     # Plot the low-frequency filtered data vs time.\n",
    "plt.plot(t,Vhi)                     # Plot the high-frequency filtered data vs time.\n",
    "plt.xlabel('Time [s]')\n",
    "plt.xlim([24, 26]);                 # Choose a 2 s interval to examine\n",
    "plt.ylim([-2, 2]);\n",
    "plt.legend(['LFP', 'Vlo', 'Vhi']);  # Add a legend."
   ]
  },
  {
   "cell_type": "markdown",
   "metadata": {},
   "source": [
    "As expected, the low-frequency band (orange) captures the large-amplitude rhythm dominating the LFP signal, while the higher-frequency band (green) isolates the brief bursts of faster activity."
   ]
  },
  {
   "cell_type": "markdown",
   "metadata": {},
   "source": [
    "## Step 2. Extract the Amplitude and Phase from Filtered Signals.\n",
    "\n",
    "The next step in the CFC procedure is to extract the *phase* of the low-frequency signal and the amplitude envelope (or simply, *amplitude*) of the high-frequency signal. To compute CFC, we then compare these two signals, i.e., we compare the phase of the low-frequency activity and the amplitude envelope of the high-frequency activity. How do we actually extract the phase and amplitude signals from the data? There are a variety of options to do so, and we choose here to employ the **analytic signal approach**, which allows us to estimate the instantaneous phase and amplitude envelope of the LFP."
   ]
  },
  {
   "cell_type": "code",
   "execution_count": null,
   "metadata": {},
   "outputs": [],
   "source": [
    "from IPython.lib.display import YouTubeVideo\n",
    "YouTubeVideo('QiRuBvbCQt4')"
   ]
  },
  {
   "cell_type": "markdown",
   "metadata": {},
   "source": [
    "The first step in computing the analytic signal is to compute the [Hilbert transform](https://en.wikipedia.org/wiki/Hilbert_transform). We begin with some notation. Define $x$ as a narrowband signal (i.e., a signal with most of its energy concentrated in a narrow frequency range, e.g., the low- or high-frequency band filtered signals we've created). Then the Hilbert transform of $x$, let’s call it $y$, is\n",
    "\n",
    "$$y = H(x).$$\n",
    "\n",
    "It’s perhaps more intuitive to consider the effect of the Hilbert Transform on the frequencies\n",
    "$f$ of $x$,\n",
    "\n",
    "$$\n",
    "\\begin{equation}\n",
    "    H(x)=\n",
    "    \\begin{cases}\n",
    "      -\\pi/2 & \\text{ phase shift if } f>0 \\\\\n",
    "      0 & \\text{ phase shift if } f=0 \\\\\n",
    "      \\pi/2 & \\text{ phase shift if } f<0 \\\\\n",
    "    \\end{cases}\n",
    "  \\end{equation}\n",
    "$$\n",
    "\n",
    "* To summarize:  The Hilbert transform $H(x)$ of the signal $x$ produces a phase shift of $\\pm 90$ degrees for $\\mp$ frequencies of $x$.\n",
    "\n",
    "The Hilbert Transform can also be described in the time domain, although its representation is hardly intuitive (see the appendix at the end of this chapter). Then the analytic signal $z$ is\n",
    "\n",
    "$$ z = x + i y = x + i H(x). $$\n",
    "\n",
    "The effect of the Hilbert transform is to remove negative frequencies from $z$. As it stands,\n",
    "this is not obvious. To get a sense for why this is so, let’s consider a simple example."
   ]
  },
  {
   "cell_type": "code",
   "execution_count": null,
   "metadata": {},
   "outputs": [],
   "source": [
    "from IPython.lib.display import YouTubeVideo\n",
    "YouTubeVideo('Ir8Gf550S3o')"
   ]
  },
  {
   "cell_type": "code",
   "execution_count": null,
   "metadata": {},
   "outputs": [],
   "source": []
  }
 ],
 "metadata": {
  "kernelspec": {
   "display_name": "Python 3",
   "language": "python",
   "name": "python3"
  },
  "language_info": {
   "codemirror_mode": {
    "name": "ipython",
    "version": 3
   },
   "file_extension": ".py",
   "mimetype": "text/x-python",
   "name": "python",
   "nbconvert_exporter": "python",
   "pygments_lexer": "ipython3",
   "version": "3.6.4"
  }
 },
 "nbformat": 4,
 "nbformat_minor": 1
}
