{
 "cells": [
  {
   "cell_type": "markdown",
   "metadata": {},
   "source": [
    "# A quick introduction to Python for the practicing neuroscientist\n",
    "\n",
    "To be frank:  this section is extremely boring.  Throughout all of the case studies, we will use the software package Python. The best way to learn new software (and probably most things) is when motivated by a particular problem.  Would you read assembly instructions for furniture you do not plan to own?  Probably not. In future chapters we will pursue specific questions driven by neuronal data, and use our desire to understand these data to motivate the development and application of computational methods.  But not in this chapter.  Here, we focus on basic coding techniques and principles in Python in the abstract, without motivation.  You - poor reader - must trust that these ideas and techniques will eventually be useful.  We begin by dipping our toe into the Python pool, and learning the basic strokes;  the fun and interesting parts in the \"real world\" of neuronal data happen later."
   ]
  },
  {
   "cell_type": "markdown",
   "metadata": {},
   "source": [
    "Let us delay no further.  In the following examples, you are asked to execute code in Python.  If your Python experience is limited, you should actually *do* this, not just read the text below.  If you intend to ignore this advice - and not execute the code in Python - then instead walk to the local coffee shop, get a double expresso, and return to attempt these examples.  This chapter follows in spirit and sometimes in detail Chapter 2 of <a href=\"https://www.elsevier.com/books/matlab-for-neuroscientists/wallisch/978-0-12-383836-0\">MATLAB for Neuroscientists</a>, an excellent reference for learning to use MATLAB in neuroscience with many additional examples.  If you have never used Python before, there are many excellent resources online (e.g., \n",
    "<a href=\"http://learnpythonthehardway.org/book/\">Learn Python the Hard Way</a>).\n"
   ]
  },
  {
   "cell_type": "markdown",
   "metadata": {},
   "source": [
    "## Starting Python\n",
    "\n",
    "There are two ways to interact with this notebook.  First, your could run it in <a href=\"https://jupyter.org/\">Jupyter</a>. This is an excellent choice, because you'll be able to read and excute the Python code directly in your browser.  The second way is to *view* this notebook <a href=\"http://nbviewer.ipython.org/\">nbviewer</a>, and execute the examples at the Python command line. In any case, we encourage your to execute each line of code in this file!"
   ]
  },
  {
   "cell_type": "markdown",
   "metadata": {},
   "source": [
    "## Example 1: Python is a calculator\n",
    "\n",
    "Execute the following command in Python:"
   ]
  },
  {
   "cell_type": "code",
   "execution_count": null,
   "metadata": {},
   "outputs": [],
   "source": [
    "4+9"
   ]
  },
  {
   "cell_type": "markdown",
   "metadata": {},
   "source": [
    "**Q:**  What does Python return?  Does it make sense?"
   ]
  },
  {
   "cell_type": "code",
   "execution_count": null,
   "metadata": {},
   "outputs": [],
   "source": [
    "4/3"
   ]
  },
  {
   "cell_type": "markdown",
   "metadata": {},
   "source": [
    "## Example 2.  Python can compute complicated quantities.\n",
    "\n",
    "Enter the following command in Python:"
   ]
  },
  {
   "cell_type": "code",
   "execution_count": null,
   "metadata": {},
   "outputs": [],
   "source": [
    "4/10**2"
   ]
  },
  {
   "cell_type": "markdown",
   "metadata": {},
   "source": [
    "**Q:** Does this answer make sense?\n",
    "\n",
    "**Q:** Can you use parantheses to change the answer?"
   ]
  },
  {
   "cell_type": "markdown",
   "metadata": {},
   "source": [
    "##  Example 3.  Python has useful built in functions.\n",
    "\n",
    "A function is a program that operates on arguments. Standard math functions and variables (and other useful things) can be accessed from the `math` and `numpy` modules. To use the `math` and `numpy` modules, we must import both:"
   ]
  },
  {
   "cell_type": "code",
   "execution_count": 1,
   "metadata": {},
   "outputs": [],
   "source": [
    "import numpy as np\n",
    "import math"
   ]
  },
  {
   "cell_type": "markdown",
   "metadata": {},
   "source": [
    "We can now call functions from math using `numpy.*`.  For example,"
   ]
  },
  {
   "cell_type": "code",
   "execution_count": null,
   "metadata": {},
   "outputs": [],
   "source": [
    "np.sin(2*np.pi)"
   ]
  },
  {
   "cell_type": "markdown",
   "metadata": {},
   "source": [
    "Above, `np.sin` is the sine function.  It operates on the argument `2*np.pi`.  Notice that, once we have imported the `numpy` module, Python knows the value of `np.pi`. Here are three more examples of function that operate on arguments:"
   ]
  },
  {
   "cell_type": "code",
   "execution_count": null,
   "metadata": {},
   "outputs": [],
   "source": [
    "math.atan(2*np.pi)"
   ]
  },
  {
   "cell_type": "markdown",
   "metadata": {},
   "source": [
    "**Q:**  What is `math.atan`?\n",
    "\n",
    "**A:** To answer this, try using Python Help.  To start the Python Help, simply put a `?` at the end of `math.atan` and then run this code block. "
   ]
  },
  {
   "cell_type": "code",
   "execution_count": null,
   "metadata": {},
   "outputs": [],
   "source": [
    "math.atan?"
   ]
  },
  {
   "cell_type": "markdown",
   "metadata": {},
   "source": [
    "You should see a description of the function pop up at the bottom of the window.\n",
    "\n",
    "**NOTE:**  Python Help is *extremely* useful.  You can always look there when you have questions about a function, or search the internet for help"
   ]
  },
  {
   "cell_type": "markdown",
   "metadata": {},
   "source": [
    "##  Example 4.  We can use Python to define lists of numbers.\n",
    "\n",
    "In Python, lists of numbers are stored in arrays. Let's define one "
   ]
  },
  {
   "cell_type": "code",
   "execution_count": null,
   "metadata": {},
   "outputs": [],
   "source": [
    "a = np.array([[1, 2, 3, 4]])"
   ]
  },
  {
   "cell_type": "markdown",
   "metadata": {},
   "source": [
    "##  Example 5.  We can manipulate arrays by scalars.\n",
    "\n",
    "A scalar is a single number.  Consider "
   ]
  },
  {
   "cell_type": "code",
   "execution_count": null,
   "metadata": {},
   "outputs": [],
   "source": [
    "a = np.array( [[1, 2, 3, 4]] )\n",
    "print( a * 3 )\n",
    "print( 4 * a )\n",
    "print( a + 1 )"
   ]
  },
  {
   "cell_type": "markdown",
   "metadata": {},
   "source": [
    "**Q:** What do you find?"
   ]
  },
  {
   "cell_type": "markdown",
   "metadata": {},
   "source": [
    "##  Example 6.  We can manipulate arrays with arrays. \n",
    "\n",
    "Let's create an array and multiply it by itself,"
   ]
  },
  {
   "cell_type": "code",
   "execution_count": null,
   "metadata": {},
   "outputs": [],
   "source": [
    "a = np.array([1,2,3,4])\n",
    "a * a"
   ]
  },
  {
   "cell_type": "markdown",
   "metadata": {},
   "source": [
    "**Q:**  What does this return?\n",
    "\n",
    "**A:** We see that the operator `*` performs element-by-element multiplication of the values in array `a`."
   ]
  },
  {
   "cell_type": "markdown",
   "metadata": {},
   "source": [
    "## Example 7. More examples of manipulating arrays with arrays.\n"
   ]
  },
  {
   "cell_type": "code",
   "execution_count": null,
   "metadata": {},
   "outputs": [],
   "source": [
    "a = 2\n",
    "b = np.array( [[0, 4, 7, 6]] )\n",
    "c = np.array( [[1, 5, 6, 8]] )\n",
    "d = np.array( [[2, 4]])\n",
    "\n",
    "print( b * c )\n",
    "print( b / c + a)\n",
    "print( np.multiply( b, c ))\n"
   ]
  },
  {
   "cell_type": "markdown",
   "metadata": {},
   "source": [
    "**Q:** What operation does `np.multiply` perform?"
   ]
  },
  {
   "cell_type": "markdown",
   "metadata": {},
   "source": [
    "## Example 8.  We can probe the variables we've defined in Python.\n",
    "\n",
    "To see a list of the variables you've defined, type `who` or `whos` in a code block by themselves. Notice `whos` provides more information."
   ]
  },
  {
   "cell_type": "code",
   "execution_count": null,
   "metadata": {},
   "outputs": [],
   "source": [
    "who"
   ]
  },
  {
   "cell_type": "code",
   "execution_count": null,
   "metadata": {},
   "outputs": [],
   "source": [
    "whos"
   ]
  },
  {
   "cell_type": "markdown",
   "metadata": {},
   "source": [
    "## Example 9.  Determine the dimensions of an array\n",
    "\n",
    "To examine the dimensions of an array, we can "
   ]
  },
  {
   "cell_type": "code",
   "execution_count": null,
   "metadata": {},
   "outputs": [],
   "source": [
    "a = np.array([[1,2,3,4]])\n",
    "a.shape"
   ]
  },
  {
   "cell_type": "markdown",
   "metadata": {},
   "source": [
    "We find that the shape of `a` is `(1,4)` or 1 row and 4 columns."
   ]
  },
  {
   "cell_type": "markdown",
   "metadata": {},
   "source": [
    "## Example 10. Sometimes we need to reset the workspace\n",
    "\n",
    "By doing so, we get rid of all the variables. To do so, type `%reset` and enter `y`"
   ]
  },
  {
   "cell_type": "code",
   "execution_count": null,
   "metadata": {},
   "outputs": [],
   "source": [
    "%reset"
   ]
  },
  {
   "cell_type": "markdown",
   "metadata": {},
   "source": [
    "**Q.** What command could we use to confirm there are no variables in the workspace?\n",
    "\n",
    "**A.** Consider `who`."
   ]
  },
  {
   "cell_type": "code",
   "execution_count": null,
   "metadata": {},
   "outputs": [],
   "source": [
    "who"
   ]
  },
  {
   "cell_type": "code",
   "execution_count": null,
   "metadata": {},
   "outputs": [],
   "source": [
    "##  Example 10.  We can define matrices in Python.\n",
    "#   A matrix is a group of vectors.  Consider the following \n",
    "\n",
    "import numpy as np  # have to reimport as we cleared the workspace above!\n",
    "\n",
    "p = np.array( [[1,2,3],[4,5,6]] ) \n",
    "\n",
    "#   This creates a matrix with two rows and three columns.  We can\n",
    "#   manipulate matrices like we manipulate vectors.  Consider \n",
    "print( p )\n",
    "print( p + 2 )\n",
    "print( 2 * p )\n",
    "print( p * p )"
   ]
  },
  {
   "cell_type": "code",
   "execution_count": null,
   "metadata": {
    "scrolled": true
   },
   "outputs": [],
   "source": [
    "##  Example 11.  Indexing matrices and vectors.\n",
    "#   Matrices and vectors are lists of numbers, and sometimes we want to\n",
    "#   access individual elements or small subsets of these lists.  That's\n",
    "#   easy to do in Python.  Consider \n",
    "\n",
    "a = np.array( [1, 2, 3, 4, 5] )\n",
    "b = np.array( [6, 7, 8, 9, 10] )\n",
    "\n",
    "#  Python indexes from 0 (like C/C++/Java, and unlike MATLAB/Fortran which start at 1) \n",
    "#  To access the 2nd element of 'a' or 'b', type a[1] / b[1].\n",
    "#  We'll be a bit fancier with our printing now to distinguish variables. \n",
    "#  Calling str(a) converts the variable \"a\" to a string that can be printed easily.\n",
    "#  Adding two strings just concatenates them: \"hi\" + \" bye\" = \"hi bye\".\n",
    "print( \"a[1] = \" + str(a[1]) )\n",
    "print( \"b[1] = \" + str(b[1]) )\n",
    "\n",
    "#Q:  Do the results make sense?  How would you access the 4th element of\n",
    "#each vector?\n",
    "\n",
    "#   We can combine 'a' and 'b' to form a matrix with a as the first row and b as the second.\n",
    "#   Note we pass the function the \"tuple\" (a,b) which it converts to a matrix\n",
    "c = np.row_stack((a,b))\n",
    "print(\"c = \\n\" + str(c))    # \\n is a newline, i.e. return, which makes the printed matrix lineup better \n",
    "\n",
    "#   To learn the size/shape of 'c' we use np.shape:\n",
    "\n",
    "print( \"shape of c = \" + str( np.shape(c) ) )\n",
    "\n",
    "#   The shape of 'c' is [2 5].  It has two rows and five columns.  To access\n",
    "#   the individual element in the 1st row and 4th column of 'c', type c[0,3]\n",
    "\n",
    "print( \"c[0,3] = \" + str( c[0,3] ) )\n",
    "\n",
    "#NOTE:  We access matrices using 'row,column' notation.  So c[0,3] means\n",
    "#print the element in row 0, column 3 of c.\n",
    "\n",
    "\n",
    "#   To access all columns in the entire first row of 'c', type c[0,:]\n",
    "print( \"c[0,:] = \" + str( c[0,:] ) )\n",
    "#   The notation ':' means 'all indices'\n",
    "\n",
    "\n",
    "#   To access the 2nd thru 4th columns of the first row of 'c', type  c[0,1:4]\n",
    "print( \"2nd through 4th columns of the first row are c[0,1:4] = \" + str(c[0,1:4]) )\n",
    "#   The notation '1:4' means 'all integers from 1 up to, but not including 4', \n",
    "#   which in this case gives columns 1, 2, and 3."
   ]
  },
  {
   "cell_type": "code",
   "execution_count": null,
   "metadata": {},
   "outputs": [],
   "source": [
    "#Q:  Print all rows in the 2nd column of 'c'?"
   ]
  },
  {
   "cell_type": "code",
   "execution_count": null,
   "metadata": {},
   "outputs": [],
   "source": [
    "##  Example 12:  We can find subsets of elements in matrices and vectors.\n",
    "#   Sometimes we're interested in locating particular values within a\n",
    "#   matrix or vector.  For example, let's first define a vector \n",
    "\n",
    "a = np.arange(1,10)    # this creates a vector of increasing values from 1 to 9\n",
    "a = 2 * np.arange(1,10) \n",
    "\n",
    "print( \"a = \" + str(a) )"
   ]
  },
  {
   "cell_type": "code",
   "execution_count": null,
   "metadata": {},
   "outputs": [],
   "source": [
    "#Q:  Calculate the shape of 'a'?  What is the maximum value of 'a'? (hint use the np.max function)"
   ]
  },
  {
   "cell_type": "code",
   "execution_count": null,
   "metadata": {},
   "outputs": [],
   "source": [
    "#   Now let's find all values in 'a' that exceed 10.\n",
    "#   Doing this is simple in Python \n",
    "\n",
    "a[a > 10]"
   ]
  },
  {
   "cell_type": "code",
   "execution_count": null,
   "metadata": {},
   "outputs": [],
   "source": [
    "# this is called logical indexing, let's look at what \"a>10\" returns:\n",
    "lgIdx = a > 10\n",
    "print( lgIdx )\n",
    "\n",
    "# when we now index \"a\" using this array we get back only the entries \n",
    "# in \"a\" corresponding to \"True\", as above\n",
    "print( a[lgIdx] )"
   ]
  },
  {
   "cell_type": "code",
   "execution_count": null,
   "metadata": {},
   "outputs": [],
   "source": [
    "# sometimes we want to know the actual indices in a where \"a > 10\"\n",
    "# we can get them using the \"nonzero()\" function, which returns the\n",
    "# index of all entries that were true\n",
    "lgIdx.nonzero()"
   ]
  },
  {
   "cell_type": "code",
   "execution_count": null,
   "metadata": {},
   "outputs": [],
   "source": [
    "# this gives another way to then pull them out of \"a\"\n",
    "print( a[ (a > 10).nonzero() ] )"
   ]
  },
  {
   "cell_type": "code",
   "execution_count": null,
   "metadata": {},
   "outputs": [],
   "source": [
    "# we can use these two types of indexing to change subsets of the values of a\n",
    "print(\"a = \" + str(a))\n",
    "a[a > 10] = 100\n",
    "print(\"a = \" + str(a))"
   ]
  },
  {
   "cell_type": "code",
   "execution_count": null,
   "metadata": {},
   "outputs": [],
   "source": [
    "# what about for a matrix?\n",
    "b = np.array([[1,2,3],[4,5,6],[7,8,9]])\n",
    "print( \"b = \" + str(b) )\n",
    "print( \" b > 5 is \\n\" + str(b > 5) )\n",
    "print(\" b[b>5] is an array: \" + str(b[b>5]) )\n",
    "# notice that the last line collapses the True entries to an array, \n",
    "# ordered by row and then by column. (If you've used MATLAB, this is \n",
    "# the opposite of what it does!)"
   ]
  },
  {
   "cell_type": "code",
   "execution_count": 2,
   "metadata": {},
   "outputs": [
    {
     "name": "stdout",
     "output_type": "stream",
     "text": [
      "x = [ 0.  1.  2.  3.  4.  5.  6.  7.  8.  9. 10.]\n",
      "y = [ 0.          0.84147098  0.90929743  0.14112001 -0.7568025  -0.95892427\n",
      " -0.2794155   0.6569866   0.98935825  0.41211849 -0.54402111]\n"
     ]
    }
   ],
   "source": [
    "##  Example 13:  Plotting data in Python.\n",
    "#   It's not easy to look at lists of numbers and gain any intuitive\n",
    "#   feeling for their behavior, especially when the lists are long.  In\n",
    "#   these cases, it's much better to visualize the lists of numbers by\n",
    "#   plotting then.  Consider \n",
    "\n",
    "x = np.linspace(0,10,11)   \n",
    "print( \"x = \" + str(x) )\n",
    "\n",
    "#   The above line constructs a vector that starts at 0, ends at 10, and\n",
    "#   takes steps of size 1 from 0 to 10 (so has 11 entries). Let\n",
    "\n",
    "y = np.sin(x)\n",
    "print( \"y = \" + str(y) )\n",
    "\n",
    "#   Looking at the values in 'y' can you tell what's happending?"
   ]
  },
  {
   "cell_type": "markdown",
   "metadata": {},
   "source": [
    "Let's visualize `y` vs `x` instead. First we must turn on inline plotting in the notebook:"
   ]
  },
  {
   "cell_type": "code",
   "execution_count": 1,
   "metadata": {},
   "outputs": [],
   "source": [
    "%matplotlib inline"
   ]
  },
  {
   "cell_type": "markdown",
   "metadata": {},
   "source": [
    "To visualize `y` versus `x` let's plot it. To do so, let's first import some basic plotting routines from `matplotlib`, which provides a nice [2D plotting library](https://matplotlib.org/). We'll also tell Python to show  `matplotlib` graphics inline, in this notebook."
   ]
  },
  {
   "cell_type": "code",
   "execution_count": 4,
   "metadata": {},
   "outputs": [
    {
     "data": {
      "image/png": "[encoded data removed]",
      "text/plain": [
       "<matplotlib.figure.Figure at 0x1112b5898>"
      ]
     },
     "metadata": {},
     "output_type": "display_data"
    }
   ],
   "source": [
    "%matplotlib inline\n",
    "import matplotlib.pyplot as plt\n",
    "\n",
    "x = ([1, 2, 3, 4])\n",
    "y = x\n",
    "plt.plot(x,y) \n",
    "plt.show()          # this causes the plot to actually be displayed"
   ]
  },
  {
   "cell_type": "code",
   "execution_count": null,
   "metadata": {},
   "outputs": [],
   "source": [
    "#  The plot of x versus y should look a bit jagged. and not \n",
    "#  smooth like a sinusoid.  To make the curve more smooth,\n",
    "#  let's redefine 'x' as \n",
    "\n",
    "x = np.linspace(0,10, 101)\n",
    "print(x)\n",
    "\n",
    "#Q:  Compare this definition of 'x' to the definition above?  How do these\n",
    "#two definitions differ?\n",
    "#Q:  What is the size of 'x'?  Does this make sense?"
   ]
  },
  {
   "cell_type": "code",
   "execution_count": null,
   "metadata": {},
   "outputs": [],
   "source": [
    "# replot the sine function\n",
    "y = np.sin(x)\n",
    "plt.plot(x,y,'k')   # the 'k' we've added makes the curve black instead of blue\n",
    "plt.show()"
   ]
  },
  {
   "cell_type": "code",
   "execution_count": null,
   "metadata": {},
   "outputs": [],
   "source": [
    "# Example 14: what if we want to compare several functions?\n",
    "z = np.cos(x)\n",
    "plt.plot(x,y,'k')  # y vs x is black\n",
    "plt.plot(x,z,'b')  # z vs x is blue\n",
    "plt.xlabel('x')    # x-axis label\n",
    "plt.ylabel('y or z')  # y-axis label\n",
    "plt.title('y vs x and z vs x')\n",
    "plt.legend(('y','z'))  # make a legend labeling each line\n",
    "plt.show()\n"
   ]
  },
  {
   "cell_type": "code",
   "execution_count": null,
   "metadata": {},
   "outputs": [],
   "source": [
    "# I think the font size for the labels is too small, \n",
    "# we can change the default with:\n",
    "mpl.rcParams.update({'font.size': 12})  \n",
    "mpl.rcParams['axes.labelsize']=14      # make the xlabel/ylabel sizes a bit bigger to match up better\n",
    "\n",
    "# we can change the default linewidth with\n",
    "mpl.rcParams['lines.linewidth']=2\n",
    "\n",
    "# let's make a new plot to check \n",
    "plt.plot(x,y)\n",
    "plt.plot(x,z)     # notice without a color matplotlib will assign one\n",
    "plt.xlabel('x')\n",
    "plt.ylabel('y')\n",
    "plt.title('y vs x')\n",
    "plt.legend(('y','z'))\n",
    "plt.show()"
   ]
  },
  {
   "cell_type": "code",
   "execution_count": null,
   "metadata": {},
   "outputs": [],
   "source": [
    "##  Example 15:  We can make random numbers in Python.\n",
    "#   To generate a single Gaussian random number in Python, type \n",
    "\n",
    "print(\"a Gaussian random number (mean=0, variance=1): \" + str( np.random.randn() ))\n",
    "\n",
    "# a uniform random number on [0,1)\n",
    "print(\"a uniform random number from [0,1): \" + str(np.random.rand()))"
   ]
  },
  {
   "cell_type": "code",
   "execution_count": null,
   "metadata": {},
   "outputs": [],
   "source": [
    "# lets generate a vector of 1000 Gaussian random numbers\n",
    "r = np.random.randn(1000)\n",
    "print(len(r))"
   ]
  },
  {
   "cell_type": "code",
   "execution_count": null,
   "metadata": {},
   "outputs": [],
   "source": [
    "# to look at a histogram (hopefully a Gaussian!)\n",
    "plt.hist(r)\n",
    "plt.show()\n",
    "\n",
    "#   See Python Help to learn about the function 'hist'.  We'll talk more\n",
    "#   about histograms this semester."
   ]
  },
  {
   "cell_type": "code",
   "execution_count": null,
   "metadata": {},
   "outputs": [],
   "source": [
    "##  Example 16:  Repeating commands over and over and over . . . \n",
    "#   Sometimes we'll want to repeat the same command over and over again.\n",
    "#   What if we want to plot sin(x + k*pi/4) where k varies from 1 to 5 in\n",
    "#   steps of 1;  how do we do it?  Consider the following \n",
    "\n",
    "x = np.linspace(0,10,101)  #Define a vector x that ranges from 0 to 10 with step 0.1.\n",
    "k = 1\n",
    "y = np.sin(x + k*np.pi/4)\n",
    "\n",
    "plt.figure()\n",
    "plt.plot(x,y)\n",
    "\n",
    "k = 2\n",
    "y = np.sin(x + k*np.pi/4)\n",
    "plt.plot(x,y)\n",
    "\n",
    "k = 3\n",
    "y = np.sin(x + k*np.pi/4)\n",
    "plt.plot(x,y)\n",
    "\n",
    "k = 4\n",
    "y = np.sin(x + k*np.pi/4)\n",
    "plt.plot(x,y)\n",
    "\n",
    "k = 5\n",
    "y = np.sin(x + k*np.pi/4)\n",
    "plt.plot(x,y)\n",
    "\n",
    "plt.show()"
   ]
  },
  {
   "cell_type": "markdown",
   "metadata": {},
   "source": [
    "That's horrible code!  All I did was cut and paste the same thing four times.  As a general rule, if you're cutting and pasting in code, you're doing something wrong.  There's a much more elegant way to do this, and it involves making a `for` loop.  Consider:"
   ]
  },
  {
   "cell_type": "code",
   "execution_count": null,
   "metadata": {},
   "outputs": [],
   "source": [
    "x = np.linspace(0,10,101)        #First, define the vector x."
   ]
  },
  {
   "cell_type": "markdown",
   "metadata": {},
   "source": [
    "Here we declare a `for` loop where `k` successively takes the values 1, then 2, then 3, ..., up to 5. Note, any code we want to execute as part of the loop must be indented one level. The first line of code that is not indented, in this case `plt.show()` below, executes after the for loop completes"
   ]
  },
  {
   "cell_type": "code",
   "execution_count": null,
   "metadata": {},
   "outputs": [],
   "source": [
    "for k in range(1,6):               \n",
    "    y = np.sin(x + k*np.pi/4)      #Define y (note the variable 'k' in sin), also note we have indenteded here!\n",
    "    plt.plot(x,y)                  #Plot x versus y\n",
    "    \n",
    "# no indentation now, so this code follows the loop\n",
    "plt.show()\n",
    "\n",
    "#   The small section of code above replaces all the cutting-and-pasting.\n",
    "#   Instead of cutting and pasting, we update the definition of 'y' and\n",
    "#   plot it within this for-loop.\n",
    "\n",
    "#Q:  Spend some time studying this for-loop.  Does it make sense?"
   ]
  },
  {
   "cell_type": "code",
   "execution_count": null,
   "metadata": {},
   "outputs": [],
   "source": [
    "##  Example 17:  Defining a new function.\n",
    "#   We've spent some time in this lab writing and executing code.  \n",
    "#   Sometimes we'll need to write our own Python functions.  Let's do that now.\n",
    "#\n",
    "#   Our function will do something very simple:  it will take as input a\n",
    "#   vector and return as output the vector elements squared plus an additive\n",
    "#   constant.  Ideally,  we'll call this function in Python as,\n",
    "\n",
    "v = np.linspace(0.,10.,11)\n",
    "b = 2.5\n",
    "\n",
    "#   we would like to call:\n",
    "#   vsq = my_square_function(v, b);\n",
    "#   This won't work!  We first need to define 'my_square_function':\n",
    "#   notice, just like the for loop earlier, the code the function \n",
    "#   executes should be indented one level. The first line that is\n",
    "#   not indented runs outside the function definition.\n",
    "#   Finally, notice the text inside the triple quotes. This is a doc\n",
    "#   string that describes our function. If we type my_square_function?\n",
    "#   it will be shown.\n",
    "\n",
    "def my_square_function(x, c):\n",
    "    \"\"\"Square a vector and add a constant.\n",
    "\n",
    "    Keyword arguments:\n",
    "    x -- vector to square\n",
    "    c -- constant to add to the square of x\n",
    "    \n",
    "    Returns:\n",
    "    x*x + c\n",
    "    \"\"\"\n",
    "    \n",
    "    return x * x + c    \n",
    "\n",
    "# let's run the code\n",
    "v2 = my_square_function(v, b)\n",
    "print(\"v = \" + str(v))\n",
    "print(\"v*v+2.5 = \" + str(v2))"
   ]
  },
  {
   "cell_type": "code",
   "execution_count": null,
   "metadata": {},
   "outputs": [],
   "source": [
    "# finally, let's check that our docstring works\n",
    "my_square_function?"
   ]
  },
  {
   "cell_type": "code",
   "execution_count": null,
   "metadata": {},
   "outputs": [],
   "source": [
    "# Q: Try to make a function, my_power, so that \n",
    "# y = power(x,n) evaluates y = x^n, \n",
    "# (in Python you can use x**n to take the power)"
   ]
  },
  {
   "cell_type": "markdown",
   "metadata": {},
   "source": [
    "For our last example let's make a movie in iPython. It doesn't seem we can make these plots appear inline within the notebook, so we'll have them appear in a separate window. To do this we switch to the non-inline matplotlib mode:"
   ]
  },
  {
   "cell_type": "code",
   "execution_count": 7,
   "metadata": {},
   "outputs": [
    {
     "name": "stdout",
     "output_type": "stream",
     "text": [
      "Using matplotlib backend: MacOSX\n"
     ]
    }
   ],
   "source": [
    "%matplotlib"
   ]
  },
  {
   "cell_type": "code",
   "execution_count": null,
   "metadata": {},
   "outputs": [],
   "source": [
    "## Example 18: Finally, let's make a movie in Python\n",
    "# this requires a bit more work as we have to save the line \n",
    "# object that is plotted and then update it to change the curve\n",
    "# NOTE, IF YOUR FIGURE APPEARS BEHIND OTHER WINDOWS YOU MIGHT NEED\n",
    "# TO MOVE IT OUT OF THE WAY AND THEN RE-RUN THIS CODE TO SEE THE MOVIE\n",
    "\n",
    "import matplotlib\n",
    "\n",
    "x      = np.linspace(0.,2.,1001)\n",
    "lines  = plt.plot(x, 0. * np.sin(x*np.pi))  # make the first plot, save the curve in \"lines\"\n",
    "plt.axis([0, 2, -1, 1])                     # set the x and y limits in the plot\n",
    "plt.title(\"plot number = 0\")\n",
    "\n",
    "for i in range(1,101):\n",
    "    lines[0].set_ydata( float(i)/100. * np.sin(x*np.pi))  # here we change the y values at each x location\n",
    "    plt.title('plot number = ' + str(i))                  # update the title with the new plot number\n",
    "    plt.draw()                                            # redraw the plot"
   ]
  },
  {
   "cell_type": "markdown",
   "metadata": {
    "collapsed": true
   },
   "source": [
    "## Example: Load MATLAB data into Python"
   ]
  },
  {
   "cell_type": "code",
   "execution_count": 8,
   "metadata": {},
   "outputs": [],
   "source": [
    "import scipy.io as sio\n",
    "mat = sio.loadmat('Ch7_LFP.mat')\n",
    "t = mat['t'][0]  #This pulls variable t out of the array.\n",
    "LFP = mat['LFP'][0]\n",
    "\n",
    "#Choose a subset\n",
    "t = t[0:500]\n",
    "LFP = LFP[0:500]\n",
    "\n",
    "import matplotlib.pyplot as plt\n",
    "\n",
    "#fig1 = plt.figure()\n",
    "#plt.xkcd()\n",
    "plt.plot(t,LFP)\n",
    "plt.title('My plot')\n",
    "plt.xlabel('Time [s]')\n",
    "plt.ylabel('Voltage [$\\mu V]')\n",
    "plt.show()"
   ]
  },
  {
   "cell_type": "code",
   "execution_count": null,
   "metadata": {},
   "outputs": [],
   "source": []
  }
 ],
 "metadata": {
  "kernelspec": {
   "display_name": "Python 3",
   "language": "python",
   "name": "python3"
  },
  "language_info": {
   "codemirror_mode": {
    "name": "ipython",
    "version": 3
   },
   "file_extension": ".py",
   "mimetype": "text/x-python",
   "name": "python",
   "nbconvert_exporter": "python",
   "pygments_lexer": "ipython3",
   "version": "3.6.4"
  }
 },
 "nbformat": 4,
 "nbformat_minor": 1
}
