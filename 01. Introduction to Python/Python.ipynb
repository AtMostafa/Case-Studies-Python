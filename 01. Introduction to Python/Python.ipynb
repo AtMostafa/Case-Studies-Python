{
 "cells": [
  {
   "cell_type": "markdown",
   "metadata": {},
   "source": [
    "# Python *for the practicing neuroscientist*\n",
    "\n",
    "To be frank:  this section is extremely boring.  Throughout all of the case studies, we will use the software package Python. The best way to learn new software (and probably most things) is when motivated by a particular problem.  Would you read assembly instructions for furniture you do not plan to own?  Probably not. In other sections we will pursue specific questions driven by neuronal data, and use our desire to understand these data to motivate the development and application of computational methods.  But not in this section.  Here, we focus on basic coding techniques and principles in Python in the abstract, without motivation.  You - poor reader - must trust that these ideas and techniques will eventually be useful.  We begin by dipping our toe into the Python pool, and learning the basic strokes;  the fun and interesting parts in the \"real world\" of neuronal data happen later."
   ]
  },
  {
   "cell_type": "markdown",
   "metadata": {},
   "source": [
    "Let us delay no further.  In the following examples, you are asked to execute code in Python.  If your Python experience is limited, you should actually *do* this, not just read the text below.  If you intend to ignore this advice - and not execute the code in Python - then instead walk to the local coffee shop, get a double expresso, and return to attempt these examples.  This chapter follows in spirit and sometimes in detail Chapter 2 of <a href=\"https://www.elsevier.com/books/matlab-for-neuroscientists/wallisch/978-0-12-383836-0\">MATLAB for Neuroscientists</a>, an excellent reference for learning to use MATLAB in neuroscience with many additional examples.  If you have never used Python before, there are many excellent resources online (e.g., \n",
    "<a href=\"http://learnpythonthehardway.org/book/\">Learn Python the Hard Way</a>).\n"
   ]
  },
  {
   "cell_type": "markdown",
   "metadata": {},
   "source": [
    "## Starting Python\n",
    "\n",
    "There are two ways to interact with this notebook.  First, you could run it locally in <a href=\"https://jupyter.org/\">Jupyter</a>. This is an excellent choice, because you'll be able to read, edit and excute the Python code directly in your browser and you can save any changes you make or notes that you want to record.  The second way is to open this notebook in <a href=\"https://mybinder.org/v2/gh/Mark-Kramer/Case-Studies-Python.git/master?filepath=Ch1%2FCh1.ipynb\">Binder</a>, and execute the examples at the Python command line. In any case, we encourage you to execute each line of code in this file!"
   ]
  },
  {
   "cell_type": "markdown",
   "metadata": {},
   "source": [
    "<div class=\"alert alert-block alert-info\">\n",
    "Throughout this notebook, we assume that you are running Python 3. Most of the functions used here are the same in Python 2 and 3. One noteable exception however is division. If you are using Python 2, you will find that the division operator `/` actually computes the *floor* of the division if both operands are integers (i.e. no decimal points). In the example below the result would be `1` rather than `1.333`. You can fix this by indicating the data type ( `float(4) / 3)` ) or by adding a decimal point after one or both of the operands ( `4. / 3` ).\n",
    "\n",
    "\n",
    "That said, we do encourage you to use Python 3 for the sake of compatibility with this notebook, as well as for compatibility with future releases of Python.\n",
    "</div>"
   ]
  },
  {
   "cell_type": "markdown",
   "metadata": {},
   "source": [
    "## Example 1: Python is a calculator\n",
    "\n",
    "Execute the following command in Python:"
   ]
  },
  {
   "cell_type": "code",
   "execution_count": null,
   "metadata": {},
   "outputs": [],
   "source": [
    "4+9"
   ]
  },
  {
   "cell_type": "markdown",
   "metadata": {},
   "source": [
    "**Q:**  What does Python return?  Does it make sense?"
   ]
  },
  {
   "cell_type": "code",
   "execution_count": null,
   "metadata": {},
   "outputs": [],
   "source": [
    "4/3"
   ]
  },
  {
   "cell_type": "markdown",
   "metadata": {},
   "source": [
    "## Example 2.  Python can compute complicated quantities.\n",
    "\n",
    "Enter the following command in Python:"
   ]
  },
  {
   "cell_type": "code",
   "execution_count": null,
   "metadata": {},
   "outputs": [],
   "source": [
    "4/10**2"
   ]
  },
  {
   "cell_type": "markdown",
   "metadata": {},
   "source": [
    "**Q:** Does this answer make sense?\n",
    "\n",
    "**Q:** Can you use parantheses to change the answer?"
   ]
  },
  {
   "cell_type": "markdown",
   "metadata": {},
   "source": [
    "##  Example 3.  Python has useful built in functions.\n",
    "\n",
    "A function is a program that operates on arguments. Standard math functions and variables (and other useful things) can be accessed from the `math` and `numpy` modules. To use the `math` and `numpy` modules, we must import both:"
   ]
  },
  {
   "cell_type": "code",
   "execution_count": null,
   "metadata": {},
   "outputs": [],
   "source": [
    "import numpy as np\n",
    "import math"
   ]
  },
  {
   "cell_type": "markdown",
   "metadata": {},
   "source": [
    "We can now call functions from math using `numpy.*`.  For example,"
   ]
  },
  {
   "cell_type": "code",
   "execution_count": null,
   "metadata": {},
   "outputs": [],
   "source": [
    "np.sin(2*np.pi)"
   ]
  },
  {
   "cell_type": "markdown",
   "metadata": {},
   "source": [
    "Above, `np.sin` is the sine function.  It operates on the argument `2*np.pi`.  Notice that, once we have imported the `numpy` module, Python knows the value of `np.pi`. Here are three more examples of function that operate on arguments:"
   ]
  },
  {
   "cell_type": "code",
   "execution_count": null,
   "metadata": {},
   "outputs": [],
   "source": [
    "math.atan(2*np.pi)"
   ]
  },
  {
   "cell_type": "markdown",
   "metadata": {},
   "source": [
    "**Q:**  What is `math.atan`?\n",
    "\n",
    "**A:** To answer this, try using Python Help.  To start the Python Help, simply put a `?` at the end of `math.atan` and then run this code block. "
   ]
  },
  {
   "cell_type": "code",
   "execution_count": null,
   "metadata": {},
   "outputs": [],
   "source": [
    "math.atan?"
   ]
  },
  {
   "cell_type": "markdown",
   "metadata": {},
   "source": [
    "You should see a description of the function pop up at the bottom of the window.\n",
    "\n",
    "**NOTE:**  Python Help is *extremely* useful.  You can always look there when you have questions about a function, or search the internet for help"
   ]
  },
  {
   "cell_type": "markdown",
   "metadata": {},
   "source": [
    "##  Example 4.  We can use Python to define lists of numbers.\n",
    "\n",
    "In Python, there are several different data structures that are designed to store more than one element. Here we will focus on the `array` data structure, but if you are curious to know how and when to use other structures, there is a good explanation <a href='http://www.physics.nyu.edu/pine/pymanual/html/chap3/chap3_arrays.html'>here</a>. Let's define an array:"
   ]
  },
  {
   "cell_type": "code",
   "execution_count": null,
   "metadata": {},
   "outputs": [],
   "source": [
    "a = np.array([[1, 2, 3, 4]])"
   ]
  },
  {
   "cell_type": "markdown",
   "metadata": {},
   "source": [
    "##  Example 5.  We can manipulate arrays by scalars.\n",
    "\n",
    "A scalar is a single number.  Consider "
   ]
  },
  {
   "cell_type": "code",
   "execution_count": null,
   "metadata": {},
   "outputs": [],
   "source": [
    "a = np.array( [[1, 2, 3, 4]] )\n",
    "print( a * 3 )\n",
    "print( 4 * a )\n",
    "print( a + 1 )"
   ]
  },
  {
   "cell_type": "markdown",
   "metadata": {},
   "source": [
    "**Q:** What do you find?"
   ]
  },
  {
   "cell_type": "markdown",
   "metadata": {},
   "source": [
    "##  Example 6.  We can manipulate arrays with arrays. \n",
    "\n",
    "Let's create an array and multiply it by itself,"
   ]
  },
  {
   "cell_type": "code",
   "execution_count": null,
   "metadata": {},
   "outputs": [],
   "source": [
    "a = np.array([1,2,3,4])\n",
    "a * a"
   ]
  },
  {
   "cell_type": "markdown",
   "metadata": {},
   "source": [
    "**Q:**  What does this return?\n",
    "\n",
    "**A:** We see that the operator `*` performs element-by-element multiplication of the values in array `a`."
   ]
  },
  {
   "cell_type": "markdown",
   "metadata": {},
   "source": [
    "## Example 7. More examples of manipulating arrays with arrays.\n"
   ]
  },
  {
   "cell_type": "code",
   "execution_count": null,
   "metadata": {},
   "outputs": [],
   "source": [
    "a = 2\n",
    "b = np.array( [[0, 4, 7, 6]] )\n",
    "c = np.array( [[1, 5, 6, 8]] )\n",
    "d = np.array( [[2, 4]])\n",
    "\n",
    "print( b * c )\n",
    "print( b / c + a)\n",
    "print( np.multiply( b, c ))\n"
   ]
  },
  {
   "cell_type": "markdown",
   "metadata": {},
   "source": [
    "**Q:** What operation does `np.multiply()` perform?"
   ]
  },
  {
   "cell_type": "markdown",
   "metadata": {},
   "source": [
    "## Example 8.  We can probe the variables we've defined in Python.\n",
    "\n",
    "To see a list of the variables you've defined, type `who` or `whos` in a code block by themselves. Notice `whos` provides more information."
   ]
  },
  {
   "cell_type": "code",
   "execution_count": null,
   "metadata": {},
   "outputs": [],
   "source": [
    "who"
   ]
  },
  {
   "cell_type": "code",
   "execution_count": null,
   "metadata": {},
   "outputs": [],
   "source": [
    "whos"
   ]
  },
  {
   "cell_type": "markdown",
   "metadata": {},
   "source": [
    "## Example 9.  Determine the dimensions of an array\n",
    "\n",
    "To examine the dimensions of an array, we can "
   ]
  },
  {
   "cell_type": "code",
   "execution_count": null,
   "metadata": {},
   "outputs": [],
   "source": [
    "a = np.array([[1,2,3,4]])\n",
    "a.shape"
   ]
  },
  {
   "cell_type": "markdown",
   "metadata": {},
   "source": [
    "We find that the shape of `a` is `(1,4)` or 1 row and 4 columns."
   ]
  },
  {
   "cell_type": "markdown",
   "metadata": {},
   "source": [
    "## Example 10. Sometimes we need to reset the workspace\n",
    "\n",
    "By doing so, we get rid of all the variables. To do so, type `%reset` and enter `y`"
   ]
  },
  {
   "cell_type": "code",
   "execution_count": null,
   "metadata": {},
   "outputs": [],
   "source": [
    "%reset"
   ]
  },
  {
   "cell_type": "markdown",
   "metadata": {},
   "source": [
    "**Q.** What command could we use to confirm there are no variables in the workspace?\n",
    "\n",
    "**A.** Consider `who`."
   ]
  },
  {
   "cell_type": "code",
   "execution_count": null,
   "metadata": {},
   "outputs": [],
   "source": [
    "who"
   ]
  },
  {
   "cell_type": "markdown",
   "metadata": {},
   "source": [
    "<div class=\"alert alert-block alert-info\">\n",
    "The `%reset` command is an example of a *magic*. Magics are commands that start with the `%` symbol and use a language other than Python. They are only available in the notebook environment. In fact, the set of magics that is available is specific to the notebook kernel. This means that if you have a Jupyter notebook running a Ruby kernel the magics will be different.\n",
    "</div>"
   ]
  },
  {
   "cell_type": "markdown",
   "metadata": {},
   "source": [
    "##  Example 11.  We can define matrices in Python.\n",
    "A matrix is a group of vectors.  Consider the following:"
   ]
  },
  {
   "cell_type": "code",
   "execution_count": null,
   "metadata": {},
   "outputs": [],
   "source": [
    "import numpy as np  # have to reimport as we cleared the workspace above!\n",
    "\n",
    "p = np.array( [[1,2,3],[4,5,6]] ) "
   ]
  },
  {
   "cell_type": "markdown",
   "metadata": {},
   "source": [
    "This creates a matrix with two rows and three columns.  We can manipulate matrices like we manipulate vectors.  Consider "
   ]
  },
  {
   "cell_type": "code",
   "execution_count": null,
   "metadata": {},
   "outputs": [],
   "source": [
    "print( p )\n",
    "print( p + 2 )\n",
    "print( 2 * p )\n",
    "print( p * p )"
   ]
  },
  {
   "cell_type": "markdown",
   "metadata": {},
   "source": [
    "##  Example 12.  Indexing matrices and vectors.\n",
    "Matrices and vectors are lists of numbers, and sometimes we want to\n",
    "access individual elements or small subsets of these lists.  That's\n",
    "easy to do in Python.  Consider "
   ]
  },
  {
   "cell_type": "code",
   "execution_count": null,
   "metadata": {},
   "outputs": [],
   "source": [
    "a = np.array( [1, 2, 3, 4, 5] )\n",
    "b = np.array( [6, 7, 8, 9, 10] )"
   ]
  },
  {
   "cell_type": "markdown",
   "metadata": {},
   "source": [
    " Python indexes from 0 (like C/C++/Java, and unlike MATLAB/Fortran which start at 1). \n",
    " To access the 2nd element of `a` or `b`, type `a[1] / b[1]`.\n",
    " We'll be a bit fancier with our printing now to distinguish variables. \n",
    " Calling `str(a)` converts the variable `a` to a string that can be printed easily.\n",
    " Adding two strings just concatenates them: `\"hi\" + \" bye\" = \"hi bye\". `"
   ]
  },
  {
   "cell_type": "code",
   "execution_count": null,
   "metadata": {},
   "outputs": [],
   "source": [
    "print( \"a[1] = \" + str(a[1]) )\n",
    "print( \"b[1] = \" + str(b[1]) )"
   ]
  },
  {
   "cell_type": "markdown",
   "metadata": {},
   "source": [
    "**Q.**  Do the results make sense?  How would you access the 4th element of\n",
    "each vector?"
   ]
  },
  {
   "cell_type": "markdown",
   "metadata": {},
   "source": [
    "  We can combine `a` and `b` to form a matrix with `a` as the first row and `b` as the second.\n",
    "  Note that we pass the function `np.row_stack()` the *tuple* `(a,b)`, which it converts to a matrix."
   ]
  },
  {
   "cell_type": "code",
   "execution_count": null,
   "metadata": {},
   "outputs": [],
   "source": [
    "c = np.row_stack((a,b))\n",
    "print( \"c = \\n\" + str(c) )    # \\n is a newline, or carriage return, which makes the printed matrix lineup better "
   ]
  },
  {
   "cell_type": "markdown",
   "metadata": {},
   "source": [
    "  To learn the size (or shape)\n",
    " of `c` we use `np.shape()`:"
   ]
  },
  {
   "cell_type": "code",
   "execution_count": null,
   "metadata": {},
   "outputs": [],
   "source": [
    "print( \"shape of c = \" + str( np.shape(c) ) )"
   ]
  },
  {
   "cell_type": "markdown",
   "metadata": {},
   "source": [
    "  The shape of `c` is `[2 5]`.  It has two rows and five columns.  To access\n",
    "  the individual element in the 1st row and 4th column of `c`, type `c[0,3]`"
   ]
  },
  {
   "cell_type": "code",
   "execution_count": null,
   "metadata": {},
   "outputs": [],
   "source": [
    "print( \"c[0,3] = \" + str( c[0,3] ) )"
   ]
  },
  {
   "cell_type": "markdown",
   "metadata": {},
   "source": [
    "<div class=\"alert alert-block alert-info\">\n",
    "We access matrices using 'row, column' notation.  So `c[0,3]` means\n",
    "print the element in row 0, column 3 of `c`.\n",
    "</div>"
   ]
  },
  {
   "cell_type": "markdown",
   "metadata": {},
   "source": [
    "**Q.**  How would you print all rows in the 2nd column of `c`?"
   ]
  },
  {
   "cell_type": "markdown",
   "metadata": {},
   "source": [
    "##  Example 13:  We can find subsets of elements in matrices and vectors.\n",
    "Often we are interested in only some of the elements of a matrix or vector. For example, we might want to look at the data from a single experimental trial which is stored in a particular row of a matrix. Alternatively, we might want to find out when the values in a time series cross a given boundary. Doing this is simple in Python."
   ]
  },
  {
   "cell_type": "markdown",
   "metadata": {},
   "source": [
    "### Slicing\n",
    "*Slicing* means that we want to look at a specific portion of a vector or matrix, for example, the first row of a matrix. We will continue with the matrix `c` from the previous example. The notation '`:`' means 'all indices'. To access all columns in the entire first row of `c`, type `c[0,:]`. To access the 2nd thru 4th columns of the first row of `c`, type `c[0,1:4]`."
   ]
  },
  {
   "cell_type": "code",
   "execution_count": null,
   "metadata": {},
   "outputs": [],
   "source": [
    "print( \"c[0,:] = \" + str( c[0,:] ) )\n",
    "print( \"2nd through 4th columns of the first row are c[0,1:4] = \" + str(c[0,1:4]) )"
   ]
  },
  {
   "cell_type": "markdown",
   "metadata": {
    "scrolled": true
   },
   "source": [
    "  <div class=\"alert alert-block alert-info\">\n",
    "  The notation `1:4` means *all integers from 1 up to, but not including 4*, \n",
    "  which in this case gives columns 1, 2, and 3. \n",
    "  </div>"
   ]
  },
  {
   "cell_type": "markdown",
   "metadata": {},
   "source": [
    "Leaving out the number before the colon tells Python to start at index 0. Leaving out the number after the colon tells Python to continue all the way to the end."
   ]
  },
  {
   "cell_type": "code",
   "execution_count": null,
   "metadata": {},
   "outputs": [],
   "source": [
    "print(\"c[0, :4] = \" + str( c[0,:4]))\n",
    "print(\"c[0, 1:] = \" + str( c[0,1:]))"
   ]
  },
  {
   "cell_type": "markdown",
   "metadata": {},
   "source": [
    "We can also tell Python how to step through the indices. To access only the even columns of `c`, we can use the following:"
   ]
  },
  {
   "cell_type": "code",
   "execution_count": null,
   "metadata": {},
   "outputs": [],
   "source": [
    "c[0,::2]"
   ]
  },
  {
   "cell_type": "markdown",
   "metadata": {},
   "source": [
    "This code tells Python to start at 0, continue to the end, and step by 2. The result should be the values in row 0, columns 0, 2, and 4 of `c`. We could write this explicitly as `c[0,0:5:2]`."
   ]
  },
  {
   "cell_type": "markdown",
   "metadata": {},
   "source": [
    "  ### Selecting elements that satisfy a condition\n",
    "  Sometimes we're interested in locating particular values within a\n",
    "  matrix or vector.  As an example, let's first define a vector.\n",
    "  "
   ]
  },
  {
   "cell_type": "code",
   "execution_count": null,
   "metadata": {},
   "outputs": [],
   "source": [
    "a = np.arange(1,10)    # this creates a vector of increasing values from 1 to 9\n",
    "a = 2 * np.arange(1,10) \n",
    "\n",
    "print( \"a = \" + str(a) )"
   ]
  },
  {
   "cell_type": "markdown",
   "metadata": {},
   "source": [
    "**Q.**  Calculate the shape of `a`.  What is the maximum value of `a`? <br>\n",
    "*hint: use the `np.max()` function*"
   ]
  },
  {
   "cell_type": "markdown",
   "metadata": {},
   "source": [
    "  Now let's find all values in `a` that exceed 10."
   ]
  },
  {
   "cell_type": "code",
   "execution_count": null,
   "metadata": {},
   "outputs": [],
   "source": [
    "a[a > 10]"
   ]
  },
  {
   "cell_type": "markdown",
   "metadata": {},
   "source": [
    "This is called logical indexing, let's look at what `a>10` returns:"
   ]
  },
  {
   "cell_type": "code",
   "execution_count": null,
   "metadata": {},
   "outputs": [],
   "source": [
    "lgIdx = a > 10\n",
    "lgIdx"
   ]
  },
  {
   "cell_type": "markdown",
   "metadata": {},
   "source": [
    "When we now index `a` using this array we get back only the entries \n",
    "in `a` corresponding to `True`, as above:"
   ]
  },
  {
   "cell_type": "code",
   "execution_count": null,
   "metadata": {},
   "outputs": [],
   "source": [
    "a[lgIdx]"
   ]
  },
  {
   "cell_type": "markdown",
   "metadata": {},
   "source": [
    "Sometimes we want to know the actual indices in a where `a > 10`.\n",
    "We can get them using the `nonzero()` array method, which returns the\n",
    "index of all entries that were `True`, or non-zero."
   ]
  },
  {
   "cell_type": "code",
   "execution_count": null,
   "metadata": {},
   "outputs": [],
   "source": [
    "lgIdx.nonzero()"
   ]
  },
  {
   "cell_type": "markdown",
   "metadata": {},
   "source": [
    "<div class=\"alert alert-block alert-info\">\n",
    "The command `nonzero()` can be used as both a *function* and a *method*. A method is called by adding it after the object it is meant to operate on with a perior in between ( `lgIdx.nonzero()` ). A function is called with the *argument* explicitly provided inside the parentheses ( `np.nonzero(lgIdx)` ). Basically, a function and a method do the same thing, but a function needs to be given an argument, while a method assumes that the argument is the object that the method is attached to. Note that if we use `nonzero()` as a function, we need to tell it to look in NumPy for the definition (i.e. add `np.` at the beginning of the function call). \n",
    "</div>"
   ]
  },
  {
   "cell_type": "markdown",
   "metadata": {},
   "source": [
    "Now we have another way to select the desired elements of `a`:"
   ]
  },
  {
   "cell_type": "code",
   "execution_count": null,
   "metadata": {},
   "outputs": [],
   "source": [
    "a[ (a > 10).nonzero() ]"
   ]
  },
  {
   "cell_type": "markdown",
   "metadata": {},
   "source": [
    "We can use these two types of indexing to change subsets of the values of `a`."
   ]
  },
  {
   "cell_type": "code",
   "execution_count": null,
   "metadata": {},
   "outputs": [],
   "source": [
    "print(\"a = \" + str(a))\n",
    "a[a > 10] = 100\n",
    "print(\"a = \" + str(a))"
   ]
  },
  {
   "cell_type": "markdown",
   "metadata": {},
   "source": [
    "What about for a matrix?"
   ]
  },
  {
   "cell_type": "code",
   "execution_count": null,
   "metadata": {},
   "outputs": [],
   "source": [
    "b = np.array([[1,2,3],[4,5,6],[7,8,9]])\n",
    "print( \"b = \\n\" + str(b) )\n",
    "print( \" b > 5 is \\n\" + str(b > 5) )\n",
    "print(\" b[b>5] is an array: \" + str(b[b>5]) )"
   ]
  },
  {
   "cell_type": "markdown",
   "metadata": {},
   "source": [
    "<div class=\"alert alert-block alert-info\">\n",
    "Notice that the last line collapses the `True` entries to an array, \n",
    "ordered by row and then by column. If you've used MATLAB, this is \n",
    "the opposite of what it does!\n",
    "</div>"
   ]
  },
  {
   "cell_type": "markdown",
   "metadata": {},
   "source": [
    "##  Example 14:  Plotting data in Python.\n",
    "It's not easy to look at lists of numbers and gain any intuitive\n",
    "feeling for their behavior, especially when the lists are long.  In\n",
    "these cases, it's much better to visualize the lists of numbers by\n",
    "plotting them.  Consider "
   ]
  },
  {
   "cell_type": "code",
   "execution_count": null,
   "metadata": {},
   "outputs": [],
   "source": [
    "x = np.linspace(0,10,11)   \n",
    "print( \"x = \" + str(x) )\n",
    "\n",
    "#   The above line constructs a vector that starts at 0, ends at 10, and\n",
    "#   has 11 entries (takes steps of size 1 from 0 to 10). Let\n",
    "\n",
    "y = np.sin(x)\n",
    "print( \"y = \" + str(y) )\n",
    "\n",
    "#   Looking at the values in 'y' can you tell what's happending?"
   ]
  },
  {
   "cell_type": "markdown",
   "metadata": {},
   "source": [
    "Let's visualize `y` vs `x` instead."
   ]
  },
  {
   "cell_type": "markdown",
   "metadata": {},
   "source": [
    "### matplotlib\n",
    "To visualize `y` versus `x` let's plot it. To do so, let's first import some basic plotting routines from `matplotlib`, which provides a nice [2D plotting library](https://matplotlib.org/). We'll also tell Python to show  `matplotlib` graphics inline, in this notebook."
   ]
  },
  {
   "cell_type": "code",
   "execution_count": null,
   "metadata": {},
   "outputs": [],
   "source": [
    "%matplotlib inline\n",
    "import matplotlib.pyplot as plt\n",
    "\n",
    "x = ([1, 2, 3, 4])\n",
    "y = x\n",
    "plt.plot(x,y) \n",
    "plt.show()          # this is the plotting equivalent of print()"
   ]
  },
  {
   "cell_type": "markdown",
   "metadata": {},
   "source": [
    "Let's go back to the definitions of `x` and `y` that we started this example with and plot `y` versus `x`."
   ]
  },
  {
   "cell_type": "code",
   "execution_count": null,
   "metadata": {},
   "outputs": [],
   "source": [
    "x = np.linspace(0,10,11)   \n",
    "y = np.sin(x)\n",
    "\n",
    "plt.plot(x, y)\n",
    "plt.show()"
   ]
  },
  {
   "cell_type": "markdown",
   "metadata": {},
   "source": [
    " The plot of `x` versus `y` should look a bit jagged. and not \n",
    " smooth like a sinusoid.  To make the curve more smooth,\n",
    " let's redefine `x` as "
   ]
  },
  {
   "cell_type": "code",
   "execution_count": null,
   "metadata": {},
   "outputs": [],
   "source": [
    "x = np.linspace(0,10, 101)\n",
    "print(x)"
   ]
  },
  {
   "cell_type": "markdown",
   "metadata": {
    "collapsed": true
   },
   "source": [
    "**Q.**  Compare this definition of `x` to the definition above.  How do these\n",
    "two definitions differ?\n",
    "\n",
    "**Q.**  What is the size of `x`?  Does this make sense?"
   ]
  },
  {
   "cell_type": "markdown",
   "metadata": {},
   "source": [
    "Now let's replot the sine function."
   ]
  },
  {
   "cell_type": "code",
   "execution_count": null,
   "metadata": {},
   "outputs": [],
   "source": [
    "y = np.sin(x)\n",
    "plt.plot(x,y,'k')   # the 'k' we've added makes the curve black instead of blue\n",
    "plt.show()"
   ]
  },
  {
   "cell_type": "markdown",
   "metadata": {},
   "source": [
    "## Example 15: What if we want to compare several functions?"
   ]
  },
  {
   "cell_type": "code",
   "execution_count": null,
   "metadata": {},
   "outputs": [],
   "source": [
    "z = np.cos(x)\n",
    "plt.plot(x,y,'k')  # y vs x is black\n",
    "plt.plot(x,z,'b')  # z vs x is blue\n",
    "plt.xlabel('x')    # x-axis label\n",
    "plt.ylabel('y or z')  # y-axis label\n",
    "plt.title('y vs x and z vs x')\n",
    "plt.legend(('y','z'))  # make a legend labeling each line\n",
    "plt.show()"
   ]
  },
  {
   "cell_type": "markdown",
   "metadata": {},
   "source": [
    "I think the font size for the labels is too small. We can change the default with:"
   ]
  },
  {
   "cell_type": "code",
   "execution_count": null,
   "metadata": {},
   "outputs": [],
   "source": [
    "import matplotlib as mpl # we need to import the functions that will do this\n",
    "\n",
    "mpl.rcParams.update({'font.size': 12})  \n",
    "mpl.rcParams['axes.labelsize']=14      # make the xlabel/ylabel sizes a bit bigger to match up better\n",
    "\n",
    "# we can change the default linewidth with\n",
    "mpl.rcParams['lines.linewidth']=2\n",
    "\n",
    "# let's make a new plot to check \n",
    "plt.plot(x,y, label='y')     # sometimes it is easier to name a trace within the plot() call\n",
    "plt.plot(x,z, label='z')     # notice without a color matplotlib will assign one\n",
    "plt.xlabel('x')\n",
    "plt.ylabel('y')\n",
    "plt.title('y vs x')\n",
    "plt.legend()\n",
    "plt.show()"
   ]
  },
  {
   "cell_type": "markdown",
   "metadata": {},
   "source": [
    "##  Example 16:  We can make random numbers in Python.\n",
    "To generate a single Gaussian random number in Python, use the function in the NumPy `random` module."
   ]
  },
  {
   "cell_type": "code",
   "execution_count": null,
   "metadata": {},
   "outputs": [],
   "source": [
    "print(\"a Gaussian random number (mean=0, variance=1): \" + str( np.random.randn() ))\n",
    "\n",
    "# a uniform random number on [0,1)\n",
    "print(\"a uniform random number from [0,1): \" + str(np.random.rand()))"
   ]
  },
  {
   "cell_type": "markdown",
   "metadata": {},
   "source": [
    "Let's generate a vector of 1000 Gaussian random numbers:"
   ]
  },
  {
   "cell_type": "code",
   "execution_count": null,
   "metadata": {},
   "outputs": [],
   "source": [
    "r = np.random.randn(1000)\n",
    "print(len(r))"
   ]
  },
  {
   "cell_type": "markdown",
   "metadata": {},
   "source": [
    "... and look at a histogram of the vector (hopefully a Gaussian!):"
   ]
  },
  {
   "cell_type": "code",
   "execution_count": null,
   "metadata": {},
   "outputs": [],
   "source": [
    "plt.hist(r)\n",
    "plt.show()"
   ]
  },
  {
   "cell_type": "markdown",
   "metadata": {},
   "source": [
    "<div class=\"alert alert-block alert-info\">\n",
    "See Python Help (`plt.hist?`) to learn about the function `hist()`.  We'll talk more\n",
    "about histograms this semester.\n",
    "</div>"
   ]
  },
  {
   "cell_type": "markdown",
   "metadata": {},
   "source": [
    "##  Example 17:  Repeating commands over and over and over . . . \n",
    "  Sometimes we'll want to repeat the same command over and over again.\n",
    "  What if we want to plot `sin(x + k*pi/4)` where `k` varies from 1 to 5 in\n",
    "  steps of 1;  how do we do it?  Consider the following:"
   ]
  },
  {
   "cell_type": "code",
   "execution_count": null,
   "metadata": {},
   "outputs": [],
   "source": [
    "x = np.linspace(0,10,101)  #Define a vector x that ranges from 0 to 10 with step 0.1.\n",
    "k = 1\n",
    "y = np.sin(x + k*np.pi/4)\n",
    "\n",
    "plt.figure()\n",
    "plt.plot(x,y)\n",
    "\n",
    "k = 2\n",
    "y = np.sin(x + k*np.pi/4)\n",
    "plt.plot(x,y)\n",
    "\n",
    "k = 3\n",
    "y = np.sin(x + k*np.pi/4)\n",
    "plt.plot(x,y)\n",
    "\n",
    "k = 4\n",
    "y = np.sin(x + k*np.pi/4)\n",
    "plt.plot(x,y)\n",
    "\n",
    "k = 5\n",
    "y = np.sin(x + k*np.pi/4)\n",
    "plt.plot(x,y)\n",
    "\n",
    "plt.show()"
   ]
  },
  {
   "cell_type": "markdown",
   "metadata": {},
   "source": [
    "That's horrible code!  All I did was cut and paste the same thing four times.  As a general rule, if you're cutting and pasting in code, you're doing something wrong.  There's a much more elegant way to do this, and it involves making a `for` loop.  Consider:"
   ]
  },
  {
   "cell_type": "code",
   "execution_count": null,
   "metadata": {},
   "outputs": [],
   "source": [
    "x = np.linspace(0,10,101)        #First, define the vector x."
   ]
  },
  {
   "cell_type": "markdown",
   "metadata": {},
   "source": [
    "Here we declare a `for` loop where `k` successively takes the values 1, then 2, then 3, ..., up to 5. Note, any code we want to execute as part of the loop must be indented one level. The first line of code that is not indented, in this case `plt.show()` below, executes after the for loop completes"
   ]
  },
  {
   "cell_type": "code",
   "execution_count": null,
   "metadata": {},
   "outputs": [],
   "source": [
    "for k in range(1,6):               \n",
    "    y = np.sin(x + k*np.pi/4)      #Define y (note the variable 'k' in sin), also note we have indented here!\n",
    "    plt.plot(x,y)                  #Plot y versus x\n",
    "    \n",
    "# no indentation now, so this code follows the loop\n",
    "plt.show() "
   ]
  },
  {
   "cell_type": "markdown",
   "metadata": {
    "collapsed": true
   },
   "source": [
    "The small section of code above replaces all the cutting-and-pasting.\n",
    "  Instead of cutting and pasting, we update the definition of 'y' and\n",
    "  plot it within this for-loop.\n",
    "\n",
    "**Q.**  Spend some time studying this for-loop.  Does it make sense?"
   ]
  },
  {
   "cell_type": "markdown",
   "metadata": {},
   "source": [
    "##  Example 18:  Defining a new function.\n",
    "We've spent some time in this lab writing and executing code.  \n",
    "Sometimes we'll need to write our own Python functions.  Let's do that now.\n",
    "\n",
    "Our function will do something very simple: it will take as input a\n",
    "vector and return as output the vector elements squared plus an additive\n",
    "constant.\n",
    "\n",
    "If have a vector, `v`, and a constant, `b`, we would like to call:\n",
    "\n",
    "    vsq = my_square_function(v, b)\n",
    "    \n",
    "This won't work!  We first need to define `my_square_function`."
   ]
  },
  {
   "cell_type": "code",
   "execution_count": null,
   "metadata": {},
   "outputs": [],
   "source": [
    "v = np.linspace(0.,10.,11)\n",
    "b = 2.5\n",
    "\n",
    "def my_square_function(x, c):\n",
    "    \"\"\"Square a vector and add a constant.\n",
    "\n",
    "    Arguments:\n",
    "    x -- vector to square\n",
    "    c -- constant to add to the square of x\n",
    "    \n",
    "    Returns:\n",
    "    x*x + c\n",
    "    \"\"\"\n",
    "    \n",
    "    return x * x + c    \n",
    "\n",
    "# let's run the code\n",
    "v2 = my_square_function(v, b)\n",
    "print(\"v = \" + str(v))\n",
    "print(\"v*v+2.5 = \" + str(v2))"
   ]
  },
  {
   "cell_type": "markdown",
   "metadata": {},
   "source": [
    "Just like the `for` loop earlier, the code the function \n",
    "executes should be indented one level. The first line that is\n",
    "not indented runs outside the function definition.\n",
    "Finally, notice the text inside the triple quotes. This is a doc\n",
    "string that describes our function. If we type `my_square_function?`\n",
    "it will be shown."
   ]
  },
  {
   "cell_type": "code",
   "execution_count": null,
   "metadata": {},
   "outputs": [],
   "source": [
    "# Let's check that our docstring works\n",
    "my_square_function?"
   ]
  },
  {
   "cell_type": "markdown",
   "metadata": {
    "collapsed": true
   },
   "source": [
    "**Q.** Try to make a function, my_power, so that \n",
    "`y = power(x,n)` evaluates $y = x^n$, \n",
    "(in Python you can use `x**n` to take the power)"
   ]
  },
  {
   "cell_type": "markdown",
   "metadata": {},
   "source": [
    "## Example 18: Animating figures \n",
    "Finally, let's make an animation in Python. To do this we need two additional functions from external modules: `HTML()` and `FuncAnimation()`. `FuncAnimation` is what creates the animated figure, while `HTML` tells the notebook that to interpret the argument as HTML and show the results."
   ]
  },
  {
   "cell_type": "code",
   "execution_count": null,
   "metadata": {},
   "outputs": [],
   "source": [
    "from IPython.display import HTML\n",
    "from matplotlib.animation import FuncAnimation"
   ]
  },
  {
   "cell_type": "markdown",
   "metadata": {},
   "source": [
    "In English, we set up (or initialize) the figure and then make a function that does all of the updates at each frame of the animation. Finally, we pass the figure, the function, and the frame numbers to `FuncAnimation()` and we have our animation."
   ]
  },
  {
   "cell_type": "code",
   "execution_count": null,
   "metadata": {
    "scrolled": true
   },
   "outputs": [],
   "source": [
    "x = np.linspace(0.,2.,1001)\n",
    "lines = plt.plot(x, 0. * np.sin(x*np.pi))  # make the first plot, save the curve in \"lines\"\n",
    "plt.axis([0, 2, -1, 1])                     # set the x and y limits in the plot\n",
    "plt.title(\"plot number = 0\")\n",
    "\n",
    "def animate(frame): \n",
    "    lines[0].set_ydata(float(frame) / 100. * np.sin(x * np.pi)) # change the y values at each x location\n",
    "    plt.title('plot number = ' + str(frame)) # update the title with the new plot number\n",
    "    \n",
    "fig = FuncAnimation(plt.gcf(), animate, frames=range(100)) # We could also have used frames=range(100)\n",
    "HTML(fig.to_jshtml())"
   ]
  },
  {
   "cell_type": "markdown",
   "metadata": {
    "collapsed": true
   },
   "source": [
    "## Example: Load MATLAB data into Python\n",
    "For our last example we will see how to load .mat files into Python. To do this, we need the scipy.io module, so we import that first. From there, loading the data is pretty straightforward."
   ]
  },
  {
   "cell_type": "code",
   "execution_count": null,
   "metadata": {},
   "outputs": [],
   "source": [
    "import scipy.io as sio"
   ]
  },
  {
   "cell_type": "code",
   "execution_count": null,
   "metadata": {
    "scrolled": true
   },
   "outputs": [],
   "source": [
    "mat = sio.loadmat('sample_data.mat')\n",
    "t = mat['t'][0]  # This pulls variable t out of the array.\n",
    "LFP = mat['LFP'][0] # ... and variable LFP\n",
    "\n",
    "# Choose a subset to plot\n",
    "t = t[0:500]\n",
    "LFP = LFP[0:500]\n",
    "\n",
    "plt.plot(t, LFP)\n",
    "plt.title('My plot')\n",
    "plt.xlabel('Time [s]')\n",
    "plt.ylabel('Voltage [$\\mu$ V]') # Wrap latex characters in $..$\n",
    "plt.show()"
   ]
  },
  {
   "cell_type": "markdown",
   "metadata": {},
   "source": [
    "<div class=\"alert alert-block alert-info\">\n",
    "Use the `keys()` method to see what variables are contained in `mat`. In other words, run the command `mat.keys()`.\n",
    "</div>"
   ]
  }
 ],
 "metadata": {
  "anaconda-cloud": {},
  "kernelspec": {
   "display_name": "Python 3",
   "language": "python",
   "name": "python3"
  },
  "language_info": {
   "codemirror_mode": {
    "name": "ipython",
    "version": 3
   },
   "file_extension": ".py",
   "mimetype": "text/x-python",
   "name": "python",
   "nbconvert_exporter": "python",
   "pygments_lexer": "ipython3",
   "version": "3.6.4"
  }
 },
 "nbformat": 4,
 "nbformat_minor": 1
}
