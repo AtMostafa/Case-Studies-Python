{
 "cells": [
  {
   "cell_type": "markdown",
   "metadata": {},
   "source": [
    "<a id=\"top\"></a> \n",
    "\n",
    "# Basic Visualizations and Descriptive Statistics of Spike Train Data"
   ]
  },
  {
   "cell_type": "markdown",
   "metadata": {},
   "source": [
    "<div class=\"alert alert-block alert-info\">\n",
    "_**Synopsis**_ <br><br>\n",
    "\n",
    "**Data:** Spontaneous spiking activity from a retinal neuron in culture, exposed to low-light and high-light environments.\n",
    "<br>\n",
    "\n",
    "**Goal:** Visualize spike trains, compute and interpret descriptive statistics, and build simple models of interspike interval distributions as a function of the ambient light level.\n",
    "<br>\n",
    "\n",
    "**Tools:** Raster plots, interspike interval histograms, firing rate, autocorrelograms, maximum likelihood estimation, Kolmogorov-Smirnov plots.\n",
    "</div>"
   ]
  },
  {
   "cell_type": "markdown",
   "metadata": {},
   "source": [
    "* [Introduction](#.)\n",
    "* [Data analysis](#data-analysis)\n",
    "    1. [Visual inspection](#visual-inspection)\n",
    "    2. [Examining the Interspike Intervals](#isi)\n",
    "    3. [Examining Binned Spike Increments](#bsi)\n",
    "    4. [Computing autocorrelations for the Increments](#autocorrelations)\n",
    "    5. [Computing Autocorrelations of the ISIs](#acISI)\n",
    "* [Summary](#summary)\n",
    "* [Appendix: Spike Count Mean and Variance for a Poisson Process](#appendix)"
   ]
  },
  {
   "cell_type": "markdown",
   "metadata": {},
   "source": [
    "## Introduction\n",
    "\n",
    "Neurons in the retina typically respond to patterns of light displayed over small sections of the visual field. However, when retinal neurons are grown in culture and held under constant light and environmental conditions, they will still spontaneously fire action potentials. In a fully functioning retina, this spontaneous activity is sometimes described as background firing activity, which is modulated as a function of visual stimuli. It is useful to understand the properties of this background activity in order to determine in future experiments how these firing properties are affected by specific stimuli.\n",
    "\n",
    "### Case Study Data\n",
    "\n",
    "A researcher examining the background firing properties of one of these neurons contacts you to discuss his data. He records the spiking activity in one of two states, with the room lights off (low ambient light levels) or with the room lights on (high ambient light levels). He would like to collaborate with you to determine whether there is a difference in background firing between these two conditions, and whether one environment is more conducive to future experimental analyses. He records the spiking activity for 30 seconds in each condition.\n",
    "\n",
    "### Goal\n",
    "\n",
    "Typically the first step in any data analysis involves visualizing and using simple descriptive statistics to characterize pertinent features of the data. For time series data that take on a continuous value at each time point, like the field potentials analyzed in earlier chapters, we typically start by simply plotting each data value as a function of time. For spike train data, things can become a bit more complicated. One reason for this is that there are multiple equivalent ways to describe the same spike train data. The data could be stored as a sequence of spike times; as a sequence of waiting times between spikes, or interspike intervals; or as a discrete time series indicating the number of spikes in discrete time bins. Knowing how to manipulate and visualize spike train data using all these different representations is the first step to understanding the structure present in the data and is the primary goal of this chapter.\n",
    "\n",
    "### Tools\n",
    "\n",
    "We develop tools in this chapter to visualize spike train data and to provide basic statistical methods appropriate for analyzing spike trains."
   ]
  },
  {
   "cell_type": "markdown",
   "metadata": {},
   "source": [
    "<a id=\"data-analysis\"></a>\n",
    "       \n",
    "## Data Analysis\n",
    "\n",
    "<a id=\"visual-inspection\"></a>\n",
    "\n",
    "Our data analysis begins with visual inspection. We load the ECoG data into Python and plot them by issuing the following commands: "
   ]
  },
  {
   "cell_type": "code",
   "execution_count": 1,
   "metadata": {},
   "outputs": [],
   "source": [
    "# Prepare the modules and plot settings\n",
    "import scipy.io as sio\n",
    "import matplotlib.pyplot as plt\n",
    "import warnings\n",
    "from matplotlib.pyplot import xlabel, ylabel, plot, show, title\n",
    "from matplotlib import rcParams\n",
    "%matplotlib inline"
   ]
  },
  {
   "cell_type": "code",
   "execution_count": 2,
   "metadata": {},
   "outputs": [],
   "source": [
    "rcParams['figure.figsize'] = (12,3)\n",
    "warnings.simplefilter(action='ignore', category=FutureWarning)"
   ]
  },
  {
   "cell_type": "code",
   "execution_count": 3,
   "metadata": {},
   "outputs": [],
   "source": [
    "data = sio.loadmat('Ch8-spikes-1.mat')  # Load the ECoG data"
   ]
  },
  {
   "cell_type": "markdown",
   "metadata": {},
   "source": [
    "<div class=\"alert alert-block alert-info\">\n",
    "\n",
    "**Q.** How can we extract the variables of interest from `data`? Hint: Consider the `keys()` method.\n",
    "\n",
    "</div>"
   ]
  },
  {
   "cell_type": "markdown",
   "metadata": {},
   "source": [
    "You should find two non-private variables in the `data` dictionary:\n",
    "\n",
    "`SpikesLow`: spike times over 30 s in the low ambient light condition\n",
    "`SpikesHigh`: spike times over 30 s in the high ambient light condition\n",
    "\n",
    "We can take these two variables from `data` so that we can work with them directly."
   ]
  },
  {
   "cell_type": "markdown",
   "metadata": {},
   "source": [
    "<div class=\"alert alert-block alert-warning\">\n",
    "\n",
    "Recall that the `loadmat()` function outputs a dictionary that contains the variables in the .mat file along with some additional information about the file. \n",
    "\n",
    "</div>"
   ]
  },
  {
   "cell_type": "code",
   "execution_count": 4,
   "metadata": {},
   "outputs": [],
   "source": [
    "SpikesLow = data['SpikesLow'][0]\n",
    "SpikesHigh = data['SpikesHigh'][0]"
   ]
  },
  {
   "cell_type": "markdown",
   "metadata": {},
   "source": [
    "Each variable is a single vector that gives a set of increasing spike times for the associated condition. The two vectors are of different sizes because the neuron fired a different number of spikes in each condition."
   ]
  },
  {
   "cell_type": "markdown",
   "metadata": {},
   "source": [
    "<div class=\"alert alert-block alert-info\">\n",
    "\n",
    "<p>\n",
    "    \n",
    "**Q.** What is the size of the vector `SpikesLow`?\n",
    "\n",
    "</p>\n",
    "\n",
    "<p>\n",
    "    \n",
    "**A.** To answer this in Python, we use the command\n",
    "\n",
    "    `SpikesLow.shape`\n",
    "\n",
    "Python returns the answer\n",
    "    \n",
    "    `(750,)`\n",
    "    \n",
    "which reveals that `SpikesLow` is a vector with 750 elements (i.e., an array with 750 rows and 1 column). We could also have used `len(SpikesLow)` here since we are working with a vector (1-D) rather than a multidimensional array. Our collaborator who collected the data told us that each row holds a single spike time, and we continue to consider the implications of this statement.\n",
    "\n",
    "</p>\n",
    "\n",
    "</div>"
   ]
  },
  {
   "cell_type": "markdown",
   "metadata": {},
   "source": [
    "<div class=\"alert alert-block alert-info\">\n",
    "\n",
    "**Q.** What is the size of the vector `SpikesHigh`?\n",
    "\n",
    "</div>"
   ]
  },
  {
   "cell_type": "markdown",
   "metadata": {},
   "source": [
    "Inspection of the sizes of the vectors `SpikesLow` and `SpikesHigh` reveals an important fact: the neuron fires more in the high-light condition. To make this observation more concrete, let’s compute the firing rate ($f$), defined mathematically as\n",
    "\n",
    "$$\n",
    "f = \\frac{n}{T},\n",
    "\\tag{1}\n",
    "$$\n",
    "\n",
    "where $n$ is the number of spikes over the time interval $T$."
   ]
  },
  {
   "cell_type": "markdown",
   "metadata": {},
   "source": [
    "<div class=\"alert alert-block alert-info\">\n",
    "\n",
    "<p>\n",
    "    \n",
    "**Q.** What is the firing rate $f$ of the neuron recorded in the low ambient light condition?\n",
    "\n",
    "</p>\n",
    "\n",
    "<p>\n",
    "    \n",
    "**A.** To answer this question, we must first define two quantities of interest: $n$ and $T$. We consider here the entire duration of the recording, so $T = 30$ (our collaborator recorded the spiking activity for 30 s in each condition). During this interval, we found that the vector `SpikesLow` contains 750 spikes. With these two pieces of information, we may compute the firing rate.\n",
    "\n",
    "</p>\n",
    "\n",
    "</div>"
   ]
  },
  {
   "cell_type": "code",
   "execution_count": 5,
   "metadata": {},
   "outputs": [
    {
     "name": "stdout",
     "output_type": "stream",
     "text": [
      "f = 25.0\n"
     ]
    }
   ],
   "source": [
    "T = 30\n",
    "n = len(SpikesLow)\n",
    "f = n / T\n",
    "\n",
    "print('f =', f)"
   ]
  },
  {
   "cell_type": "markdown",
   "metadata": {},
   "source": [
    "This tells us that the firing rate is 25 spikes per second, or 25 Hz."
   ]
  },
  {
   "cell_type": "markdown",
   "metadata": {},
   "source": [
    "<div class=\"alert alert-block alert-info\">\n",
    "\n",
    "**Q.** Is this single number a good representation of the spike train data? What if the spiking changes dramatically throughout the recording?\n",
    "\n",
    "</div>"
   ]
  },
  {
   "cell_type": "markdown",
   "metadata": {},
   "source": [
    "<div class=\"alert alert-block alert-info\">\n",
    "\n",
    "**Q.** What is the firing rate of the neuron recorded in the high ambient light condition? \n",
    "\n",
    "</div>"
   ]
  },
  {
   "cell_type": "markdown",
   "metadata": {},
   "source": [
    "These calculations allow us to compute a simple number representative of one aspect of the data: the firing rate over the entire duration of the recording. Do the two datasets exhibit a statistically significant change in the firing structure between conditions? Or, does the difference in firing rates lie within the range of expected fluctuations between any two trials of random spiking data? To answer these types of questions, we need to develop statistical methods that are appropriate for analyzing spike trains. Let’s look at the data more carefully and visualize the structure of the spiking in the low ambient light condition. Motivated by the results of the previous chapters, it may be tempting to visualize the spike train by simply plotting the `SpikesLow` variable,"
   ]
  },
  {
   "cell_type": "code",
   "execution_count": 6,
   "metadata": {},
   "outputs": [
    {
     "data": {
      "image/png": "[encoded data removed]",
      "text/plain": [
       "<Figure size 864x216 with 1 Axes>"
      ]
     },
     "metadata": {},
     "output_type": "display_data"
    }
   ],
   "source": [
    "plot(SpikesLow)\n",
    "show()"
   ]
  },
  {
   "cell_type": "markdown",
   "metadata": {},
   "source": [
    "<div class=\"alert alert-block alert-info\">\n",
    "\n",
    "<p>\n",
    "    \n",
    "**Q.** What went wrong here? How do we interpret this plot?\n",
    "\n",
    "</p>\n",
    "\n",
    "<p>\n",
    "    \n",
    "**A.** These data are stored as a sequence of $N$ time stamps representing an increasing sequence of times at which the neuron spiked. When we run the plot command with only one input vector, we plot an index that runs from 1 to $n$ (the length of the vector) on the $x$-axis against the numerical values in that vector on the $y$-axis. Therefore the plot shows an increasing line where the $x$-axis represents the spike number and the $y$-axis represents the spike time. Notice that the vector ends at an $x$-axis value of 750, which corresponds to the length of the vector. Also, the values on the $y$-axis range from 0 to 30; these correspond to times starting near 0 s and ending near 30 s, as we expect for the 30 s recording. Although this plot is not immediately useful, the results are consistent with our expectations for the data.\n",
    "\n",
    "</p>\n",
    "\n",
    "</div>"
   ]
  },
  {
   "cell_type": "markdown",
   "metadata": {},
   "source": [
    "Instead of the data representation above, we would like to plot the spike train data as a set of points in a single row with $x$-coordinates that occur at the spike times. One way to produce such a plot is the following:"
   ]
  },
  {
   "cell_type": "code",
   "execution_count": 7,
   "metadata": {},
   "outputs": [
    {
     "data": {
      "image/png": "[encoded data removed]",
      "text/plain": [
       "<Figure size 864x216 with 1 Axes>"
      ]
     },
     "metadata": {},
     "output_type": "display_data"
    }
   ],
   "source": [
    "import numpy as np  # Import the NumPy module\n",
    "plot(SpikesLow, np.ones_like(SpikesLow), '.')  # Plot spikes as a row,\n",
    "plt.xlim([0, 5])                                # ... display times (0, 5) s\n",
    "plt.xlabel('Time (s)')                          # ... label the x-axis\n",
    "plt.yticks([])                                  # ... remove y-axis ticks\n",
    "show()"
   ]
  },
  {
   "cell_type": "markdown",
   "metadata": {},
   "source": [
    "<div class=\"alert alert-block alert-info\">\n",
    "\n",
    "<p>\n",
    "    \n",
    "**Q.** The first line of code imports the NumPy module. What’s happening in the second line of this code?\n",
    "\n",
    "</p>\n",
    "\n",
    "<p>\n",
    "    \n",
    "**A.** The plot function receives three inputs. The first input defines the $x$-axis values for the plot, which here are the spike times. The second input is itself a function: \n",
    "\n",
    "\n",
    "<pre>\n",
    "<code>\n",
    "    np.ones_like(SpikesLow). \n",
    "</code>\n",
    "</pre>\n",
    "  \n",
    "The function `ones_like` produces an array filled entirely with 1s that is the same dimensions as `SpikesLow`. The last input to `plot` instructs Python to display the data using the dot symbol. To summarize, we’re calling the `plot` command to display \n",
    "\n",
    "<p>\n",
    "<ui>\n",
    "\n",
    "<li> $x$-axis values: spike times in the low ambient light condition\n",
    "\n",
    "<li>$y$-axis values: 1\n",
    "\n",
    "</ui>\n",
    "</p>\n",
    "\n",
    "as blue dots. The next two commands set the range of the $x$-axis (in this case from 0 s to 5 s) and provide an $x$-axis label. The last command removes the $y$-axis tick marks since they don't carry any real information in this case.\n",
    "\n",
    "</p>\n",
    "\n",
    "</div>"
   ]
  },
  {
   "cell_type": "markdown",
   "metadata": {},
   "source": [
    "In the plot of the spike train above each spike time corresponds to a blue dot at a $y$-axis value of 1. The value on the $y$-axis is arbitrary. We could have chosen to use a $y$-axis value of 2 or -100 or 412. What matters is the $x$-axis, which indicates the time at which each spike occurs in the 5 s interval.\n",
    "\n",
    "To compare the spiking in the low- and high-light conditions, we can plot both in the same figure:\n",
    "<a id=\"fig:8.2b\"></a>"
   ]
  },
  {
   "cell_type": "code",
   "execution_count": 8,
   "metadata": {},
   "outputs": [
    {
     "data": {
      "image/png": "[encoded data removed]",
      "text/plain": [
       "<Figure size 864x216 with 1 Axes>"
      ]
     },
     "metadata": {},
     "output_type": "display_data"
    }
   ],
   "source": [
    "plot(SpikesLow, np.ones_like(SpikesLow), '.')  # Plot the low-light condition spikes\n",
    "plot(SpikesHigh, 2 * np.ones_like(SpikesHigh), '.')  # ... and the high-light condition spikes \n",
    "plt.xlim([0, 5])              # Display times 0 to 5 s on the x-axis\n",
    "plt.ylim([0, 3])              # ... and set the y-axis limits\n",
    "xlabel('Time [s]')            # ... label the x-axis\n",
    "plt.legend({'Low', 'High'})   # ... show a legend\n",
    "show()"
   ]
  },
  {
   "cell_type": "markdown",
   "metadata": {},
   "source": [
    "<div class=\"alert alert-block alert-info\">\n",
    "\n",
    "<p>\n",
    "    \n",
    "**Q.** What's happening in the fifth line of this code segment?\n",
    "\n",
    "</p>\n",
    "\n",
    "<p>\n",
    "    \n",
    "**A.** The fifth line of this code segment is similar to the second line, but it plots the data for the high ambient light condition. The first input to the `plot` function is the variable `SpikesHigh`. The second input to `plot` is a function; here we’re creating an array of 1s, this time with dimensions to match the variable `SpikesHigh`. Notice that we multiply this array by a scalar value of 2; this command acts to create a vector of 2s with the same dimensions as the vector `SpikesHigh`. The last input to `plot` indicates to display the data using another dot symbol. To summarize, here we’re calling the `plot` command to display\n",
    "\n",
    "<p>\n",
    "    <ul>\n",
    "<li> x-axis values: spike times in the high ambient light condition <li> y-axis values: 2.\n",
    "    </ul>\n",
    "</p>\n",
    "\n",
    "</p>\n",
    "\n",
    "</div>"
   ]
  },
  {
   "cell_type": "markdown",
   "metadata": {},
   "source": [
    "<div class=\"alert alert-block alert-info\">\n",
    "\n",
    "<p>\n",
    "    \n",
    "**Q.** Explain why the following command fails to execute:\n",
    "\n",
    "<pre>\n",
    "<code>\n",
    "    plot(SpikesLow, np.ones_like(SpikesHigh), '.')\n",
    "</code>\n",
    "</pre>\n",
    "\n",
    "</p>\n",
    "\n",
    "</div>"
   ]
  },
  {
   "cell_type": "markdown",
   "metadata": {},
   "source": [
    "With the data visualized in this way, we’re now able to ask an interesting question: What structure do you notice in the two spike trains [(figure)](#fig:8.2b)? At first glance, your answer might be “not much.” Spikes occur fairly regularly throughout the 5 s interval under both conditions. Perhaps a careful visual inspection suggests there are fewer spikes in the low-light than in the high-light condition. But the spike times themselves do not seem to be directly comparable between these conditions. Often, when we examine data from a stimulus response experiment, we expect to see regions where spiking activity increases or decreases as a function of a changing stimulus. In this case, the stimulus is the ambient light level, which remains constant over the entire experiment. How else can we analyze these data and identify differences in the spiking activity (if any) between the two conditions?"
   ]
  },
  {
   "cell_type": "markdown",
   "metadata": {},
   "source": [
    "<div class=\"alert alert-block alert-info\">\n",
    "\n",
    "**Q.** Up to now, we've plotted a 5 s interval of data that begins at time 0 s. Through visual inspection, do you find similar conclusions for other 5 s intervals chosen from the data?\n",
    "\n",
    "</div>"
   ]
  },
  {
   "cell_type": "markdown",
   "metadata": {},
   "source": [
    "[[Back to top]](#top)"
   ]
  },
  {
   "cell_type": "markdown",
   "metadata": {},
   "source": [
    "<a id=\"isi\"></a>\n",
    "### Examining the Interspike Intervals\n",
    "\n",
    "So far, we have examined the long-term structure of the spiking over multiple seconds. Let’s now focus on the short-term structure that occurs within a single second or less. Instead of plotting 5 s of spike train data, let's plot an interval of 1 s:"
   ]
  },
  {
   "cell_type": "code",
   "execution_count": 9,
   "metadata": {},
   "outputs": [
    {
     "data": {
      "image/png": "[encoded data removed]",
      "text/plain": [
       "<Figure size 864x216 with 1 Axes>"
      ]
     },
     "metadata": {},
     "output_type": "display_data"
    }
   ],
   "source": [
    "plot(SpikesLow, np.ones_like(SpikesLow), '.')  # Plot the low-light condition spikes\n",
    "plot(SpikesHigh, 2 * np.ones_like(SpikesHigh), '.')  # ... and the high-light condition spikes \n",
    "plt.xlim([10, 11])              # Display times 0 to 5 s on the x-axis\n",
    "plt.ylim([0, 3])              # ... and set the y-axis limits\n",
    "xlabel('Time [s]')            # ... label the x-axis\n",
    "plt.legend({'Low', 'High'})   # ... show a legend\n",
    "show()"
   ]
  },
  {
   "cell_type": "markdown",
   "metadata": {},
   "source": [
    "<div class=\"alert alert-block alert-info\">\n",
    "\n",
    "**Q.** The code above was copied and pasted from the previous section with one minor update to change the time interval. What adjustments did we need to make to the code so that we see an interval of 1 s instead of 5 s?\n",
    "\n",
    "</div>"
   ]
  },
  {
   "cell_type": "markdown",
   "metadata": {},
   "source": [
    "Inspecting smaller time intervals, you might notice bursts of spikes that cluster near each other in time, interspersed with longer periods that contain less spiking. These patterns of bursts and quiescence look different between the low- and high-light stimuli. Visual inspection is an important tool, but we would like a quantitative result. How might we compare this fine temporal structure in the two conditions?\n",
    "\n",
    "One approach to further characterizing the differences in spiking between the two conditions is to transform the data. One of the most useful transformations focuses on the waiting times between the spikes, or interspike intervals (ISIs), instead of the spike times themselves. We can compute the ISIs for the two conditions as follows:"
   ]
  },
  {
   "cell_type": "code",
   "execution_count": 10,
   "metadata": {},
   "outputs": [],
   "source": [
    "ISIsLow = np.diff(SpikesLow)  # Compute ISIs in the low-light condition\n",
    "ISIsHigh = np.diff(SpikesHigh)  # Compute ISIs in the high-light condition"
   ]
  },
  {
   "cell_type": "markdown",
   "metadata": {},
   "source": [
    "<div class=\"alert alert-block alert-info\">\n",
    "\n",
    "<p>\n",
    "    \n",
    "**Q.** How do these commands represent the ISIs of the data?\n",
    "\n",
    "</p>\n",
    "\n",
    "<p>\n",
    "    \n",
    "**A.** Let’s focus on the first command, which defines the variable ISIsLow. Here, we use the function diff with input SpikesLow. If you have not seen the com- mand diff before, look it up in MATLAB Help. Briefly, the diff command computes the difference between adjacent elements of the input. In this case, the vector SpikesLow represents the times at which spikes occur. Therefore, the differ- ence between adjacent elements of SpikesLow produces the time interval or waiting time between successive spikes. To further explore the concept of an ISI, let’s write the spike times as a vector,\n",
    "\n",
    "$$\n",
    "v = {t_1, t_2, t_3, ..., T_N}, \n",
    "\\tag{2}\n",
    "$$\n",
    "\n",
    "where $t_i$ is the time of the $i^{th}$ spike. The difference between the first two adjacent elements of $v$ is \n",
    "\n",
    "$$\n",
    "t_2 - t_1\n",
    "\\tag{3}\n",
    "$$\n",
    "\n",
    "By convention, the `diff()` function subtracts the first element from the second. In words, this difference represents the time of the second spike ($t_2$) minus the time of the first spike ($t_1$), or the first interspike interval in the data. The difference between the next two adjacent elements of $v$ is\n",
    "\n",
    "$$\n",
    "t_3 - t_2\n",
    "\\tag{4}\n",
    "$$\n",
    "\n",
    "which is the second ISI, and so on. In this way, `diff()` converts the spike times in the vector `SpikesLow` into interspike intervals saved in the variable `ISIsLow`.\n",
    "\n",
    "</p>\n",
    "\n",
    "</div>"
   ]
  },
  {
   "cell_type": "markdown",
   "metadata": {},
   "source": [
    "<div class=\"alert alert-block alert-info\">\n",
    "\n",
    "**Q.** Consider the variables `ISIsLow` and `ISIsHigh`. How do the sizes of these variables compare to the sizes of the corresponding spike trains `SpikesLow` and `SpikesHigh`, respectively? *Hint:* Given $N$ spikes, how many ISIs must occur?\n",
    "\n",
    "</div>"
   ]
  },
  {
   "cell_type": "markdown",
   "metadata": {},
   "source": [
    "The variables `ISIsLow` and `ISIsHigh` are vectors, and we can visualize these vectors using the same tools we’ve applied to visualize vectors in other scenarios. For example, we may simply plot these vectors:"
   ]
  },
  {
   "cell_type": "code",
   "execution_count": 11,
   "metadata": {},
   "outputs": [
    {
     "data": {
      "image/png": "[encoded data removed]",
      "text/plain": [
       "<Figure size 864x216 with 1 Axes>"
      ]
     },
     "metadata": {},
     "output_type": "display_data"
    }
   ],
   "source": [
    "plot(ISIsLow)\n",
    "show()"
   ]
  },
  {
   "cell_type": "markdown",
   "metadata": {},
   "source": [
    "The x-axis is the vector index, which ranges from 1 to the length of the vector ISIsLow. The y-axis is the value of the ISI at each index. We see that the ISI values range from small times (less than 0.05 s) to large times (over 0.4 s). In this way, the visualization provides some insight into the ISI values for the low-light condition."
   ]
  },
  {
   "cell_type": "markdown",
   "metadata": {},
   "source": [
    "<div class=\"alert alert-block alert-info\">\n",
    "\n",
    "**Q.** Plot the ISI vector for the high-light condition and compare it to the ISI vector for the low-light condition. What similarities and differences do you notice in the ISIs from the two conditions?\n",
    "\n",
    "</div>"
   ]
  },
  {
   "cell_type": "markdown",
   "metadata": {},
   "source": [
    "<div class=\"alert alert-block alert-info\">\n",
    "\n",
    "**Q.** What is the smallest ISI you expect to observe for a neuron? Would you be surprised to find an ISI of less than 1 second? of less than 1 millisecond? of less than 1 nanosecond?\n",
    "\n",
    "</div>"
   ]
  },
  {
   "cell_type": "markdown",
   "metadata": {},
   "source": [
    "Plots of the ISI vectors provide some information about the data (e.g., the approximate range of the ISI values), but there’s more insight to be gained. To that end, let’s now implement another approach to visualizing these types of data: the histogram. The idea of a histogram is to count the number of occurrences of each value in the data. In this case, we count the number of times we observe an ISI value in different bins of time. Let’s define the time bins for the histogram. Inspection of the ISI data for the low-light condition reveals values that range from near 0 s to over 0.4 s. Therefore, we choose the following time bins:\n",
    "\n",
    "Bin 0 [0.00 0.01] \n",
    "\n",
    "Bin 1 [0.01 0.02] \n",
    "\n",
    "Bin 2 [0.02 0.03] \n",
    "\n",
    "Bin 3 [0.03 0.04] \n",
    "\n",
    "Bin 4 [0.04 0.05] \n",
    "\n",
    "Bin 5 [0.05 0.06] \n",
    "\n",
    "Bin 6 [0.06 0.07] \n",
    "\n",
    "...\n",
    "\n",
    "Bin N [0.49 0.50]\n",
    "\n",
    "The bins begin at time 0 s and end at time 0.5 s, with a bin size of 0.01 s. The purpose of the histogram is to count the number of times the data values fall into each bin. Notice that we’ve chosen the range of bins to extend beyond the observed range of data ISIsLow; that’s fine, and we expect to count no values in the bins near 0.5 s. To further explore this counting process, let’s examine the first eight values of the data `ISIsLow`:"
   ]
  },
  {
   "cell_type": "markdown",
   "metadata": {},
   "source": [
    "<div class=\"alert alert-block alert-warning\">\n",
    "\n",
    "Recall that Python uses *zero-based indexing*. This means that elements in arrays are numbered starting with 0, which is why we labeled the first bin \"Bin 0\" instead of \"Bin 1\".\n",
    "\n",
    "</div>"
   ]
  },
  {
   "cell_type": "code",
   "execution_count": 12,
   "metadata": {},
   "outputs": [
    {
     "data": {
      "text/plain": [
       "array([0.04098354, 0.02902169, 0.00746714, 0.05205904, 0.05553601,\n",
       "       0.06204051, 0.02267623, 0.02132764])"
      ]
     },
     "execution_count": 12,
     "metadata": {},
     "output_type": "execute_result"
    }
   ],
   "source": [
    "ISIsLow[:8]"
   ]
  },
  {
   "cell_type": "markdown",
   "metadata": {},
   "source": [
    "We see that the first value of ISIsLow is approximately 0.0410. In which bin does this value belong? Examining the list of bins, we find that `ISIsLow[0]` lies in bin 4, so we increment the number of counts in bin 4 by 1. The second value of the vector `ISIsLow` (`ISIsLow[1]` $\\approx$ 0.0290) lies in bin 2, so we increment the number of counts in bin 2 by 1. The third value, `ISIsLow[2]` $\\approx$ 0.0075, lies in bin 0, so we increment the number of counts in bin 0 by 1. The fourth value, `ISIsLow[4]` $\\approx$ 0.0521, lies in bin 5, so we increment the number of counts in bin 5 by 1. And the fifth value, `ISIsLow[4]` $\\approx$ 0.0555, also lies in bin 5, so we again increment the number of counts in bin 5 by 1."
   ]
  },
  {
   "cell_type": "markdown",
   "metadata": {},
   "source": [
    "<div class=\"alert alert-block alert-info\">\n",
    "\n",
    "<p>\n",
    "    \n",
    "**Q.** At this point, for the first five entries of the vector `ISIsLow`, how many counts are there in each bin?\n",
    "\n",
    "</p>\n",
    "\n",
    "<p>\n",
    "    \n",
    "**A.** We find for the first five ISIs in the low-light condition, zero counts in all bins except\n",
    "\n",
    "    <p>\n",
    "Bin 0: 1 count <br>\n",
    "Bin 2: 1 count <br>\n",
    "Bin 4: 1 count <br>\n",
    "Bin 5: 2 counts <br>\n",
    "    \n",
    "    </p>\n",
    "    \n",
    "Notice that only four bins have counts and that bin 5 has two counts; for the first five ISIs in the low-light condition, we observe two ISIs in the interval (0.05, 0.06).\n",
    "\n",
    "</p>\n",
    "\n",
    "</div>"
   ]
  },
  {
   "cell_type": "markdown",
   "metadata": {},
   "source": [
    "<div class=\"alert alert-block alert-info\">\n",
    "\n",
    "**Q.** Repeat the binning procedure for the first eight ISIs observed in the high-light condition. Which bins have 1 or more counts for the first eight ISI values? What is the number of counts in each of these bins?\n",
    "\n",
    "</div>"
   ]
  },
  {
   "cell_type": "markdown",
   "metadata": {},
   "source": [
    "<div class=\"alert alert-block alert-info\">\n",
    "\n",
    "**Q.** Consider the first eight ISI values. In the previous question, you placed each of these values in a bin. Sum the counts across all bins. What do you find? Think about the value you compute; does the result make sense?\n",
    "\n",
    "</div>"
   ]
  },
  {
   "cell_type": "markdown",
   "metadata": {},
   "source": [
    "Of course, we’re free to choose any interval of bins for the histogram. In the preceding examples, we chose a bin size of 0.01 s = 10 ms. Based on our understanding of a neuron, we might instead choose to examine a smaller bin size, 0.001 s = 1 ms. Let’s do so now, and examine the histogram of all ISIs for the low-light condition. Of course, with enough patience, we could examine by hand each ISI value from the low-light condition and place each value in the correct 1 ms bin. However, this process would be time consuming and extremely error prone. Instead, the process of binning the ISI data is better done in Python. To create a histogram of all the ISI data in the low-light condition is straightforward:"
   ]
  },
  {
   "cell_type": "code",
   "execution_count": 13,
   "metadata": {},
   "outputs": [
    {
     "data": {
      "image/png": "[encoded data removed]",
      "text/plain": [
       "<Figure size 864x216 with 1 Axes>"
      ]
     },
     "metadata": {},
     "output_type": "display_data"
    }
   ],
   "source": [
    "bins = np.arange(0, .5, 1e-3)  # Define the bins for the histogram\n",
    "plt.hist(ISIsLow, bins)        # Plot the histogram of the ISI data\n",
    "plt.xlim([0, 0.15])            # ... focus on ISIs from 0 to 150 ms\n",
    "xlabel('ISI [s]')              # ... label the x-axis\n",
    "ylabel('Counts')               # ... and the y-axis\n",
    "title('Low-light')             # ... give the plot a title\n",
    "plt.show()"
   ]
  },
  {
   "cell_type": "markdown",
   "metadata": {},
   "source": [
    "In the first line of this code segment, we define the bins. These bins start at time 0 s and end at time 0.499 s, and the size of each bin is 0.001 s. We then call the function `hist()` with two inputs: the first input is the variable we’d like to examine (here, `ISIsLow`, the ISIs in the low-light condition), and the second input is the bins. The function `hist()` computes the histogram and displays the result. By setting the $x$-axis limit with `xlim()`, we’ve chosen to examine the ISI values from 0 ms to 150 ms. We’ve also labeled the axes in the resulting figure. Notice that the $x$-axis indicates the binned ISI intervals, while the $y$-axis indicates the number of counts in each bin."
   ]
  },
  {
   "cell_type": "markdown",
   "metadata": {},
   "source": [
    "<div class=\"alert alert-block alert-info\">\n",
    "\n",
    "<p>\n",
    "    \n",
    "**Q.** Repeat this procedure to create a histogram of the ISI data in the high-light condition. Use the same bins we applied in the low-light condition (i.e., a bin size of 1 ms, extending from 0 s to 0.5 s). What do you find? *Hint:* Compare your answer to plot above.\n",
    "\n",
    "</p>\n",
    "\n",
    "</div>"
   ]
  },
  {
   "cell_type": "markdown",
   "metadata": {},
   "source": [
    "Let's visualize the distributions of ISIs in both conditions next to each other:"
   ]
  },
  {
   "cell_type": "code",
   "execution_count": 14,
   "metadata": {},
   "outputs": [
    {
     "data": {
      "image/png": "[encoded data removed]",
      "text/plain": [
       "<Figure size 864x216 with 1 Axes>"
      ]
     },
     "metadata": {},
     "output_type": "display_data"
    },
    {
     "data": {
      "image/png": "[encoded data removed]",
      "text/plain": [
       "<Figure size 864x216 with 1 Axes>"
      ]
     },
     "metadata": {},
     "output_type": "display_data"
    }
   ],
   "source": [
    "plt.hist(ISIsLow, bins)        # Plot the histogram of the low-light ISI data\n",
    "plt.xlim([0, 0.15])            # ... focus on ISIs from 0 to 150 ms\n",
    "ylabel('Counts')               # ... label the y-axis\n",
    "title('Low-light')             # ... give the plot a title\n",
    "plt.show()\n",
    "\n",
    "plt.hist(ISIsHigh, bins)       # Plot the histogram of the high-light ISI data\n",
    "plt.xlim([0, 0.15])            # ... focus on ISIs from 0 to 150 ms\n",
    "xlabel('ISI [s]')              # ... label the x-axis\n",
    "ylabel('Counts')               # ... and the y-axis\n",
    "title('High-light')            # ... give the plot a title\n",
    "plt.show()"
   ]
  },
  {
   "cell_type": "markdown",
   "metadata": {},
   "source": [
    "<div class=\"alert alert-block alert-info\">\n",
    "\n",
    "**Q.** Describe the features of the two histograms. What features of the ISI distributions are similar for the two conditions? What features are most strikingly different?\n",
    "\n",
    "</div>"
   ]
  },
  {
   "cell_type": "markdown",
   "metadata": {},
   "source": [
    "In the ISI histogram of the low-light condition data, very few counts occur at small ISI values (near 0 ms) and high ISI values (beyond approximately 100 ms). Instead, the distribution of counts is broadly peaked in the approximate interval 5–20 ms."
   ]
  },
  {
   "cell_type": "markdown",
   "metadata": {},
   "source": [
    "<div class=\"alert alert-block alert-info\">\n",
    "\n",
    "<p>\n",
    "    \n",
    "**Q.** What does the ISI distribution reveal about the spiking activity in the low-light condition? From this ISI distribution, could you sketch a spike train consistent with these data?\n",
    "\n",
    "</p>\n",
    "\n",
    "<p>\n",
    "    \n",
    "**A.** We conclude from the ISI distribution that many spikes are separated by time intervals 5–20 ms. So, we might be tempted to imagine near-periodic spiking with a period 5–20 ms:\n",
    "\n",
    "<a id=\"fig:8.6a\"></a>\n",
    "\n",
    "![Cartoon representation of spiking activity.](imgs/8-6a.png \"Near-periodic spiking, with period 5&mdash;20 ms.\")\n",
    "\n",
    "However, the histogram contains additional structure beyond the single broad peak. Indeed, the histogram has a long tail, with counts extending up to 150 ms. Therefore, the intervals between spikes are varied. We often see ISIs in the 5–20 ms interval, but we also find much longer ISIs (e.g., from 50 to 150 ms). The structure of the ISI histogram is consistent with bursting activity, which consists of intervals of rapid spiking interspersed with quiescence:\n",
    "\n",
    "<a id=\"fig:8.6b\"></a>\n",
    "\n",
    "![Cartoon representation of spiking activity.](imgs/8-6b.png \"Bursting activity, with both short and long intervals between spikes.\")\n",
    "\n",
    "The intervals of rapid spiking produce many shorter ISIs, and the longer intervals produce (typically fewer) longer ISIs. We may conceptualize a bursting neuron as having two time scales: fast and slow. From the shape of the histogram of the low-light condition, we conclude that the spike train data in the low-light condition are more consistent with bursting activity than with periodic, metronome-like spiking activity.\n",
    "    \n",
    "</p>\n",
    "\n",
    "</div>"
   ]
  },
  {
   "cell_type": "markdown",
   "metadata": {},
   "source": [
    "<div class=\"alert alert-block alert-info\">\n",
    "\n",
    "**Q.** What does the ISI distribution reveal about the spiking activity in the high-light condition? From this ISI distribution, could you sketch a spike train consistent with these data?\n",
    "\n",
    "</div>"
   ]
  },
  {
   "cell_type": "markdown",
   "metadata": {},
   "source": [
    "Let’s now consider the two ISI histograms representing the spiking activity from the two conditions. We note that both histograms show no ISI values below 0 ms. This is to be expected; the intervals between spikes cannot be negative. Both histograms also show broad peaks at 5–20 ms, indicating that a large number of short ISIs appear in the spike trains. In addition, both histograms possess long tails (i.e., counts of ISIs at larger bins, beyond 50 ms). A reasonable conclusion is that both neurons exhibit bursting activity, intervals of rapid spiking separated by periods of quiescence. However, a prominent difference exists between the ISI histograms in the two conditions. In the high-light condition, the proportion of small ISIs is much larger. The visualizations of the ISI histograms provide additional evidence of the similarities and differences in the spiking activity from the two conditions. We continue to investigate these two datasets—and build our scientific conclusions—in the next sections."
   ]
  },
  {
   "cell_type": "markdown",
   "metadata": {},
   "source": [
    "<div class=\"alert alert-block alert-info\">\n",
    "\n",
    "**Q.** We claim that the neuron exhibits bursting activity in both histograms. But clearly the two ISI histograms are different. How does the bursting activity differ in the low- and high-light conditions? *Hint:* Consider the impact of the large proportion of small ISIs in the high-light condition.\n",
    "\n",
    "</div>"
   ]
  },
  {
   "cell_type": "markdown",
   "metadata": {},
   "source": [
    "<div class=\"alert alert-block alert-info\">\n",
    "\n",
    "**Q.** So far, we’ve investigated two bin sizes: 10 ms and 1 ms. How do the shapes of the histograms above depend on the bin size used? Was 1 ms a good choice in this case? Why, or why not?\n",
    "\n",
    "</div>"
   ]
  },
  {
   "cell_type": "markdown",
   "metadata": {},
   "source": [
    "[Back to top](#top)\n",
    "<a id=\"bsi\"></a>\n",
    "### Examining Binned Spike Increments\n",
    "\n",
    "Another common approach to analyzing spiking data is to discretize time into bins of fixed width and count the number of events that occur in each time bin. The sequence of spike counts across all the bins is sometimes called the increment process for the spike train. When the time bins are sufficiently small, say, 1 ms for typical spike train data, the resulting increment process is just a sequence of zeros and ones. In this case, the time bins are so small that the probability of more than one spike occurring in each bin is zero or negligibly small.<sup><abbr title=\"The biophysical mechanisms that produce a spike support this statement. After generating a spike, the neuron experiences a refractory period typically lasting a few milliseconds, in which generating a subsequent spike is very unlikely.\">note</abbr></sup> Each tiny time bin then contains a spike (and we assign that bin a value of 1) or does not (and we assign that bin a value of 0). This idea of representing the spike train as a sequence of zeros and ones for small bin increments will be important when we build statistical models of the spike trains (**TBD: link**). In this section, we compute the increment process with multiple bin sizes in order to characterize the amount of variability in the spiking data and to examine temporal dependencies between spikes.\n",
    "\n",
    "Let’s bin the spike train data of the low-light condition into time bins of size 50 ms. To do so, we make use of the function `histogram()`:"
   ]
  },
  {
   "cell_type": "code",
   "execution_count": 35,
   "metadata": {},
   "outputs": [
    {
     "data": {
      "image/png": "[encoded data removed]",
      "text/plain": [
       "<Figure size 864x216 with 1 Axes>"
      ]
     },
     "metadata": {},
     "output_type": "display_data"
    }
   ],
   "source": [
    "time_bins = np.arange(0, 30, 0.05)\n",
    "IncrementsLow50 = np.histogram(SpikesLow, time_bins)\n",
    "plot(time_bins[:-1], IncrementsLow50[0], '.')\n",
    "show()"
   ]
  },
  {
   "cell_type": "code",
   "execution_count": 31,
   "metadata": {},
   "outputs": [
    {
     "data": {
      "text/plain": [
       "(599,)"
      ]
     },
     "execution_count": 31,
     "metadata": {},
     "output_type": "execute_result"
    }
   ],
   "source": [
    "IncrementsLow50[0].shape"
   ]
  },
  {
   "cell_type": "code",
   "execution_count": 20,
   "metadata": {},
   "outputs": [
    {
     "data": {
      "text/plain": [
       "(array([1, 1, 2, 1, 1, 1, 2, 2, 2, 4, 1, 1, 0, 0, 0, 0, 1, 1, 1, 1, 3, 1,\n",
       "        0, 0, 1, 1, 1, 0, 1, 3, 2, 1, 2, 2, 1, 2, 1, 0, 0, 0, 2, 2, 1, 2,\n",
       "        3, 0, 1, 1, 0, 2, 0, 2, 2, 4, 1, 0, 0, 1, 2, 1, 1, 1, 2, 2, 3, 1,\n",
       "        1, 3, 0, 3, 2, 1, 2, 1, 0, 1, 2, 2, 2, 1, 3, 2, 1, 3, 1, 2, 1, 0,\n",
       "        2, 1, 1, 1, 0, 0, 1, 0, 1, 2, 2, 2, 1, 1, 0, 0, 1, 0, 1, 2, 3, 1,\n",
       "        1, 2, 1, 1, 1, 1, 1, 3, 1, 2, 2, 0, 2, 0, 4, 1, 1, 2, 3, 0, 2, 1,\n",
       "        2, 0, 1, 1, 1, 2, 1, 1, 1, 0, 3, 3, 3, 1, 1, 3, 2, 2, 0, 2, 2, 1,\n",
       "        2, 0, 0, 1, 0, 1, 2, 0, 1, 3, 1, 0, 0, 0, 0, 0, 1, 1, 1, 2, 1, 2,\n",
       "        0, 2, 1, 3, 2, 1, 0, 3, 2, 2, 0, 0, 2, 1, 2, 1, 1, 0, 1, 0, 0, 1,\n",
       "        4, 1, 1, 2, 2, 1, 1, 0, 0, 2, 2, 0, 1, 2, 2, 0, 0, 3, 2, 1, 3, 2,\n",
       "        3, 2, 2, 1, 1, 2, 0, 1, 0, 0, 1, 1, 1, 1, 2, 1, 1, 1, 1, 0, 1, 0,\n",
       "        2, 3, 2, 0, 4, 1, 2, 1, 1, 1, 2, 2, 3, 0, 3, 1, 2, 0, 0, 0, 0, 1,\n",
       "        0, 2, 1, 1, 0, 1, 1, 1, 3, 1, 2, 1, 0, 1, 1, 0, 1, 0, 1, 0, 2, 1,\n",
       "        3, 0, 1, 1, 0, 1, 2, 1, 1, 2, 0, 1, 1, 0, 1, 0, 0, 1, 3, 2, 1, 1,\n",
       "        0, 2, 1, 3, 1, 2, 0, 0, 3, 1, 1, 3, 1, 1, 0, 1, 2, 2, 1, 1, 2, 1,\n",
       "        2, 0, 1, 1, 1, 1, 2, 1, 2, 2, 2, 1, 2, 1, 0, 0, 0, 3, 3, 1, 1, 1,\n",
       "        2, 2, 1, 2, 1, 2, 2, 1, 2, 1, 1, 2, 1, 1, 3, 0, 2, 1, 0, 3, 1, 1,\n",
       "        0, 2, 3, 1, 1, 3, 2, 1, 2, 1, 2, 0, 2, 1, 1, 2, 2, 0, 1, 0, 0, 0,\n",
       "        0, 1, 3, 1, 1, 1, 1, 1, 0, 0, 0, 0, 0, 0, 0, 0, 0, 1, 0, 0, 2, 3,\n",
       "        0, 1, 2, 2, 2, 1, 1, 3, 0, 1, 1, 1, 1, 0, 1, 1, 1, 3, 1, 1, 2, 0,\n",
       "        1, 0, 2, 1, 2, 1, 1, 1, 2, 0, 1, 1, 1, 1, 0, 2, 2, 1, 0, 1, 3, 3,\n",
       "        1, 2, 1, 2, 1, 0, 3, 1, 1, 1, 1, 0, 1, 0, 1, 1, 0, 2, 2, 1, 1, 3,\n",
       "        1, 2, 2, 1, 1, 2, 1, 3, 2, 2, 3, 1, 0, 2, 0, 1, 3, 2, 1, 2, 0, 0,\n",
       "        0, 2, 0, 2, 1, 2, 1, 0, 2, 0, 1, 1, 0, 1, 0, 4, 1, 3, 2, 3, 1, 0,\n",
       "        1, 1, 1, 1, 0, 0, 3, 1, 2, 1, 2, 0, 1, 2, 1, 3, 1, 1, 1, 1, 0, 3,\n",
       "        2, 1, 2, 2, 2, 0, 0, 1, 3, 2, 1, 2, 3, 2, 3, 2, 1, 1, 2, 1, 2, 2,\n",
       "        1, 2, 2, 2, 1, 2, 0, 2, 3, 0, 2, 2, 1, 1, 3, 1, 0, 2, 0, 2, 1, 1,\n",
       "        1, 3, 0, 1, 1]),\n",
       " array([ 0.  ,  0.05,  0.1 ,  0.15,  0.2 ,  0.25,  0.3 ,  0.35,  0.4 ,\n",
       "         0.45,  0.5 ,  0.55,  0.6 ,  0.65,  0.7 ,  0.75,  0.8 ,  0.85,\n",
       "         0.9 ,  0.95,  1.  ,  1.05,  1.1 ,  1.15,  1.2 ,  1.25,  1.3 ,\n",
       "         1.35,  1.4 ,  1.45,  1.5 ,  1.55,  1.6 ,  1.65,  1.7 ,  1.75,\n",
       "         1.8 ,  1.85,  1.9 ,  1.95,  2.  ,  2.05,  2.1 ,  2.15,  2.2 ,\n",
       "         2.25,  2.3 ,  2.35,  2.4 ,  2.45,  2.5 ,  2.55,  2.6 ,  2.65,\n",
       "         2.7 ,  2.75,  2.8 ,  2.85,  2.9 ,  2.95,  3.  ,  3.05,  3.1 ,\n",
       "         3.15,  3.2 ,  3.25,  3.3 ,  3.35,  3.4 ,  3.45,  3.5 ,  3.55,\n",
       "         3.6 ,  3.65,  3.7 ,  3.75,  3.8 ,  3.85,  3.9 ,  3.95,  4.  ,\n",
       "         4.05,  4.1 ,  4.15,  4.2 ,  4.25,  4.3 ,  4.35,  4.4 ,  4.45,\n",
       "         4.5 ,  4.55,  4.6 ,  4.65,  4.7 ,  4.75,  4.8 ,  4.85,  4.9 ,\n",
       "         4.95,  5.  ,  5.05,  5.1 ,  5.15,  5.2 ,  5.25,  5.3 ,  5.35,\n",
       "         5.4 ,  5.45,  5.5 ,  5.55,  5.6 ,  5.65,  5.7 ,  5.75,  5.8 ,\n",
       "         5.85,  5.9 ,  5.95,  6.  ,  6.05,  6.1 ,  6.15,  6.2 ,  6.25,\n",
       "         6.3 ,  6.35,  6.4 ,  6.45,  6.5 ,  6.55,  6.6 ,  6.65,  6.7 ,\n",
       "         6.75,  6.8 ,  6.85,  6.9 ,  6.95,  7.  ,  7.05,  7.1 ,  7.15,\n",
       "         7.2 ,  7.25,  7.3 ,  7.35,  7.4 ,  7.45,  7.5 ,  7.55,  7.6 ,\n",
       "         7.65,  7.7 ,  7.75,  7.8 ,  7.85,  7.9 ,  7.95,  8.  ,  8.05,\n",
       "         8.1 ,  8.15,  8.2 ,  8.25,  8.3 ,  8.35,  8.4 ,  8.45,  8.5 ,\n",
       "         8.55,  8.6 ,  8.65,  8.7 ,  8.75,  8.8 ,  8.85,  8.9 ,  8.95,\n",
       "         9.  ,  9.05,  9.1 ,  9.15,  9.2 ,  9.25,  9.3 ,  9.35,  9.4 ,\n",
       "         9.45,  9.5 ,  9.55,  9.6 ,  9.65,  9.7 ,  9.75,  9.8 ,  9.85,\n",
       "         9.9 ,  9.95, 10.  , 10.05, 10.1 , 10.15, 10.2 , 10.25, 10.3 ,\n",
       "        10.35, 10.4 , 10.45, 10.5 , 10.55, 10.6 , 10.65, 10.7 , 10.75,\n",
       "        10.8 , 10.85, 10.9 , 10.95, 11.  , 11.05, 11.1 , 11.15, 11.2 ,\n",
       "        11.25, 11.3 , 11.35, 11.4 , 11.45, 11.5 , 11.55, 11.6 , 11.65,\n",
       "        11.7 , 11.75, 11.8 , 11.85, 11.9 , 11.95, 12.  , 12.05, 12.1 ,\n",
       "        12.15, 12.2 , 12.25, 12.3 , 12.35, 12.4 , 12.45, 12.5 , 12.55,\n",
       "        12.6 , 12.65, 12.7 , 12.75, 12.8 , 12.85, 12.9 , 12.95, 13.  ,\n",
       "        13.05, 13.1 , 13.15, 13.2 , 13.25, 13.3 , 13.35, 13.4 , 13.45,\n",
       "        13.5 , 13.55, 13.6 , 13.65, 13.7 , 13.75, 13.8 , 13.85, 13.9 ,\n",
       "        13.95, 14.  , 14.05, 14.1 , 14.15, 14.2 , 14.25, 14.3 , 14.35,\n",
       "        14.4 , 14.45, 14.5 , 14.55, 14.6 , 14.65, 14.7 , 14.75, 14.8 ,\n",
       "        14.85, 14.9 , 14.95, 15.  , 15.05, 15.1 , 15.15, 15.2 , 15.25,\n",
       "        15.3 , 15.35, 15.4 , 15.45, 15.5 , 15.55, 15.6 , 15.65, 15.7 ,\n",
       "        15.75, 15.8 , 15.85, 15.9 , 15.95, 16.  , 16.05, 16.1 , 16.15,\n",
       "        16.2 , 16.25, 16.3 , 16.35, 16.4 , 16.45, 16.5 , 16.55, 16.6 ,\n",
       "        16.65, 16.7 , 16.75, 16.8 , 16.85, 16.9 , 16.95, 17.  , 17.05,\n",
       "        17.1 , 17.15, 17.2 , 17.25, 17.3 , 17.35, 17.4 , 17.45, 17.5 ,\n",
       "        17.55, 17.6 , 17.65, 17.7 , 17.75, 17.8 , 17.85, 17.9 , 17.95,\n",
       "        18.  , 18.05, 18.1 , 18.15, 18.2 , 18.25, 18.3 , 18.35, 18.4 ,\n",
       "        18.45, 18.5 , 18.55, 18.6 , 18.65, 18.7 , 18.75, 18.8 , 18.85,\n",
       "        18.9 , 18.95, 19.  , 19.05, 19.1 , 19.15, 19.2 , 19.25, 19.3 ,\n",
       "        19.35, 19.4 , 19.45, 19.5 , 19.55, 19.6 , 19.65, 19.7 , 19.75,\n",
       "        19.8 , 19.85, 19.9 , 19.95, 20.  , 20.05, 20.1 , 20.15, 20.2 ,\n",
       "        20.25, 20.3 , 20.35, 20.4 , 20.45, 20.5 , 20.55, 20.6 , 20.65,\n",
       "        20.7 , 20.75, 20.8 , 20.85, 20.9 , 20.95, 21.  , 21.05, 21.1 ,\n",
       "        21.15, 21.2 , 21.25, 21.3 , 21.35, 21.4 , 21.45, 21.5 , 21.55,\n",
       "        21.6 , 21.65, 21.7 , 21.75, 21.8 , 21.85, 21.9 , 21.95, 22.  ,\n",
       "        22.05, 22.1 , 22.15, 22.2 , 22.25, 22.3 , 22.35, 22.4 , 22.45,\n",
       "        22.5 , 22.55, 22.6 , 22.65, 22.7 , 22.75, 22.8 , 22.85, 22.9 ,\n",
       "        22.95, 23.  , 23.05, 23.1 , 23.15, 23.2 , 23.25, 23.3 , 23.35,\n",
       "        23.4 , 23.45, 23.5 , 23.55, 23.6 , 23.65, 23.7 , 23.75, 23.8 ,\n",
       "        23.85, 23.9 , 23.95, 24.  , 24.05, 24.1 , 24.15, 24.2 , 24.25,\n",
       "        24.3 , 24.35, 24.4 , 24.45, 24.5 , 24.55, 24.6 , 24.65, 24.7 ,\n",
       "        24.75, 24.8 , 24.85, 24.9 , 24.95, 25.  , 25.05, 25.1 , 25.15,\n",
       "        25.2 , 25.25, 25.3 , 25.35, 25.4 , 25.45, 25.5 , 25.55, 25.6 ,\n",
       "        25.65, 25.7 , 25.75, 25.8 , 25.85, 25.9 , 25.95, 26.  , 26.05,\n",
       "        26.1 , 26.15, 26.2 , 26.25, 26.3 , 26.35, 26.4 , 26.45, 26.5 ,\n",
       "        26.55, 26.6 , 26.65, 26.7 , 26.75, 26.8 , 26.85, 26.9 , 26.95,\n",
       "        27.  , 27.05, 27.1 , 27.15, 27.2 , 27.25, 27.3 , 27.35, 27.4 ,\n",
       "        27.45, 27.5 , 27.55, 27.6 , 27.65, 27.7 , 27.75, 27.8 , 27.85,\n",
       "        27.9 , 27.95, 28.  , 28.05, 28.1 , 28.15, 28.2 , 28.25, 28.3 ,\n",
       "        28.35, 28.4 , 28.45, 28.5 , 28.55, 28.6 , 28.65, 28.7 , 28.75,\n",
       "        28.8 , 28.85, 28.9 , 28.95, 29.  , 29.05, 29.1 , 29.15, 29.2 ,\n",
       "        29.25, 29.3 , 29.35, 29.4 , 29.45, 29.5 , 29.55, 29.6 , 29.65,\n",
       "        29.7 , 29.75, 29.8 , 29.85, 29.9 , 29.95]))"
      ]
     },
     "execution_count": 20,
     "metadata": {},
     "output_type": "execute_result"
    }
   ],
   "source": [
    "IncrementsLow50"
   ]
  },
  {
   "cell_type": "code",
   "execution_count": 17,
   "metadata": {},
   "outputs": [],
   "source": [
    "np.histogram?"
   ]
  },
  {
   "cell_type": "code",
   "execution_count": null,
   "metadata": {},
   "outputs": [],
   "source": []
  },
  {
   "cell_type": "code",
   "execution_count": null,
   "metadata": {},
   "outputs": [],
   "source": []
  },
  {
   "cell_type": "code",
   "execution_count": null,
   "metadata": {},
   "outputs": [],
   "source": []
  },
  {
   "cell_type": "code",
   "execution_count": null,
   "metadata": {},
   "outputs": [],
   "source": []
  },
  {
   "cell_type": "code",
   "execution_count": null,
   "metadata": {},
   "outputs": [],
   "source": []
  },
  {
   "cell_type": "code",
   "execution_count": null,
   "metadata": {},
   "outputs": [],
   "source": []
  },
  {
   "cell_type": "code",
   "execution_count": null,
   "metadata": {},
   "outputs": [],
   "source": []
  },
  {
   "cell_type": "code",
   "execution_count": null,
   "metadata": {},
   "outputs": [],
   "source": []
  },
  {
   "cell_type": "code",
   "execution_count": null,
   "metadata": {},
   "outputs": [],
   "source": [
    "from IPython.core.display import HTML\n",
    "HTML('../style.css')"
   ]
  }
 ],
 "metadata": {
  "kernelspec": {
   "display_name": "Python 3",
   "language": "python",
   "name": "python3"
  },
  "language_info": {
   "codemirror_mode": {
    "name": "ipython",
    "version": 3
   },
   "file_extension": ".py",
   "mimetype": "text/x-python",
   "name": "python",
   "nbconvert_exporter": "python",
   "pygments_lexer": "ipython3",
   "version": "3.6.4"
  }
 },
 "nbformat": 4,
 "nbformat_minor": 2
}
